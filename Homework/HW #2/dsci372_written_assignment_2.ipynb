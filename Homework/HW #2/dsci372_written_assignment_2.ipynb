{
 "cells": [
  {
   "cell_type": "code",
   "execution_count": 12,
   "id": "8094dbf7-8d36-4c35-bd7d-694da5e56d9d",
   "metadata": {},
   "outputs": [],
   "source": [
    "import numpy as np\n",
    "import pandas as pd\n",
    "import matplotlib.pyplot as plt\n",
    "import torch as pt"
   ]
  },
  {
   "cell_type": "code",
   "execution_count": 330,
   "id": "238b7617-7da8-495c-a206-5b1a5211d353",
   "metadata": {},
   "outputs": [
    {
     "name": "stdout",
     "output_type": "stream",
     "text": [
      "After 10 Iterations:\n",
      "Weights: a0 = 0.0\ta1 = -1.0\ta2 = 0.0\ta3 = 1.0\ta4 = 0.0\ta5 = 1.0\n",
      "\n",
      "The predicted label for the new test point is -1.0.\n"
     ]
    }
   ],
   "source": [
    "############\n",
    "#    Q1    #\n",
    "############\n",
    "\n",
    "def kernel(x, z):\n",
    "    return x.dot(z) ** 2\n",
    "    \n",
    "kernels_df = pd.DataFrame({\"x1\": [0, 2, 0, -1, -2, 1],\n",
    "                           \"x2\": [-2, 0, 1, 0, 0, 0],\n",
    "                           \"y\": [-1, -1, 1, 1, -1, 1]\n",
    "                          })\n",
    "n = len(kernels_df)\n",
    "a = np.zeros(n)\n",
    "y_hat = np.zeros(n)\n",
    "\n",
    "X = kernels_df.iloc[:, :-1]\n",
    "y = kernels_df.iloc[:, -1]\n",
    "for j in np.arange(10):\n",
    "    for i in np.arange(n):\n",
    "        xi = X.iloc[i]\n",
    "        yi = y.iloc[i]\n",
    "        score = sum(a * kernel(X, xi))\n",
    "        y_hat[i] = np.sign(score)\n",
    "\n",
    "        if y_hat[i] != yi:\n",
    "            a[i] = yi\n",
    "        else:\n",
    "            a[i] = 0\n",
    "print(f\"After 10 Iterations:\\nWeights: a0 = {a[0]}\\ta1 = {a[1]}\\ta2 = {a[2]}\\ta3 = {a[3]}\\ta4 = {a[4]}\\ta5 = {a[5]}\\n\")\n",
    "\n",
    "new_x = np.array([np.sqrt(2), np.sqrt(2)])\n",
    "new_score = sum(a * kernel(X, new_x))\n",
    "\n",
    "prediction = np.sign(new_score)\n",
    "print(f\"The predicted label for the new test point is {prediction}.\")"
   ]
  },
  {
   "cell_type": "code",
   "execution_count": 164,
   "id": "66c13eee-c483-470b-8ec7-af41d78ca7b6",
   "metadata": {},
   "outputs": [
    {
     "name": "stdout",
     "output_type": "stream",
     "text": [
      "Convolution of the image, stride=2, padding=1:\n",
      "\n",
      "tensor([[[10., -1., 20.,  6.],\n",
      "         [ 2., -2.,  5., 13.],\n",
      "         [ 3., -6.,  8., 10.],\n",
      "         [22.,  0., 10., 21.]]])\n"
     ]
    }
   ],
   "source": [
    "############\n",
    "#    Q3    #\n",
    "############\n",
    "\n",
    "# Convolution\n",
    "\n",
    "image = pt.tensor([[[3., 4., 2., 5., 6., 2., 3.],\n",
    "                  [1., 7., 2., 3., 3., 6., 7.],\n",
    "                  [2., 5., 3., 6., 5., 5., 6.],\n",
    "                  [2., 4., 4., 7., 6., 7., 5.],\n",
    "                  [3., 6., 3., 6., 7., 8., 6.],\n",
    "                  [4., 5., 5., 5., 7., 6., 7.],\n",
    "                  [6., 4., 3., 6., 6., 7., 7.]]])\n",
    "\n",
    "filter = pt.tensor([[[[0., -1., 0.],\n",
    "                   [-1., 5., -1.],\n",
    "                   [0., -1., 0.]]]])\n",
    "\n",
    "conv = pt.nn.functional.conv2d(image, filter, stride=2, padding=1)\n",
    "\n",
    "print(f\"Convolution of the image, stride=2, padding=1:\\n\\n{conv}\")"
   ]
  },
  {
   "cell_type": "code",
   "execution_count": 171,
   "id": "2118614e-d949-437e-a049-7c47f073eb33",
   "metadata": {},
   "outputs": [
    {
     "name": "stdout",
     "output_type": "stream",
     "text": [
      "Max pool, stride=1:\n",
      "\n",
      "tensor([[[7., 7., 7., 7.],\n",
      "         [7., 7., 8., 8.],\n",
      "         [7., 7., 8., 8.],\n",
      "         [7., 7., 8., 8.]]])\n"
     ]
    }
   ],
   "source": [
    "# Max pool\n",
    "\n",
    "pool = pt.nn.MaxPool2d(4, stride=1)\n",
    "\n",
    "pooled = pool(image)\n",
    "\n",
    "print(f\"Max pool, stride=1:\\n\\n{pooled}\")"
   ]
  },
  {
   "cell_type": "code",
   "execution_count": null,
   "id": "369c8a46-22eb-4790-89cd-a17749e63199",
   "metadata": {},
   "outputs": [],
   "source": []
  }
 ],
 "metadata": {
  "kernelspec": {
   "display_name": "Python 3 (ipykernel)",
   "language": "python",
   "name": "python3"
  },
  "language_info": {
   "codemirror_mode": {
    "name": "ipython",
    "version": 3
   },
   "file_extension": ".py",
   "mimetype": "text/x-python",
   "name": "python",
   "nbconvert_exporter": "python",
   "pygments_lexer": "ipython3",
   "version": "3.11.5"
  }
 },
 "nbformat": 4,
 "nbformat_minor": 5
}
