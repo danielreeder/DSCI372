{
 "cells": [
  {
   "cell_type": "code",
   "execution_count": 194,
   "id": "e00769ed-deda-4788-867a-cacdaf349c1b",
   "metadata": {},
   "outputs": [],
   "source": [
    "import pandas as pd\n",
    "import numpy as np\n",
    "import matplotlib.pyplot as plt"
   ]
  },
  {
   "cell_type": "code",
   "execution_count": 336,
   "id": "cc0f68f1-8d67-4bf9-b7bc-17b524efd0bf",
   "metadata": {},
   "outputs": [],
   "source": [
    "# FUNCTIONS FOR Q1\n",
    "\n",
    "def compute_gradient(X, y, w):\n",
    "    err = y - X.dot(w)\n",
    "    grad = -2 * err\n",
    "    grad = np.mean(np.multiply(grad, X), axis=0)\n",
    "    return grad.reshape(-1, 1)\n",
    "\n",
    "def gradient_descent(X, y, w, num_iterations, alpha):\n",
    "    for i in np.arange(num_iterations):\n",
    "        gradient = compute_gradient(X, y, w)\n",
    "        w = w - (alpha * gradient)\n",
    "        loss = np.mean((X.dot(w) - y) ** 2)\n",
    "        print(f\"Iteration {i}:\\nWeights: w0={w[0]}\\tw1={w[1]}\\tw2={w[2]}\\nLoss: {loss}\\n\")"
   ]
  },
  {
   "cell_type": "code",
   "execution_count": 449,
   "id": "e474591d-716e-43d7-8864-e215d1f5b2ff",
   "metadata": {},
   "outputs": [],
   "source": [
    "# FUNCTION FOR Q2\n",
    "\n",
    "def check_predictions(X, y, w):\n",
    "    preds = np.array(X.dot(w))\n",
    "    i = 0\n",
    "    for pred in preds:\n",
    "        if pred > 0:\n",
    "            preds[i] = 1\n",
    "        else:\n",
    "            preds[i] = -1\n",
    "        i += 1\n",
    "    return preds == y"
   ]
  },
  {
   "cell_type": "code",
   "execution_count": 439,
   "id": "44e2dc72-5c8b-44d6-a93a-d81dcc45ea80",
   "metadata": {},
   "outputs": [
    {
     "name": "stdout",
     "output_type": "stream",
     "text": [
      "Iteration 0:\n",
      "Weights: w0=[-0.19]\tw1=[-0.36333333]\tw2=[0.13333333]\n",
      "Loss: 5.261425925925926\n",
      "\n",
      "Iteration 1:\n",
      "Weights: w0=[-0.32788889]\tw1=[-0.64577778]\tw2=[0.23944444]\n",
      "Loss: 3.31300890946502\n",
      "\n",
      "Iteration 2:\n",
      "Weights: w0=[-0.42608519]\tw1=[-0.86607778]\tw2=[0.32455556]\n",
      "Loss: 2.1533203291495204\n",
      "\n",
      "Iteration 3:\n",
      "Weights: w0=[-0.49410111]\tw1=[-1.0386084]\tw2=[0.39344136]\n",
      "Loss: 1.458176228541203\n",
      "\n"
     ]
    }
   ],
   "source": [
    "# Q1.\n",
    "\n",
    "# (a)\n",
    "\n",
    "df_least_square = pd.DataFrame({\"x1\": [1, -1, 2], \n",
    "                                \"x2\": [1, -2, -1], \n",
    "                                \"y\": [-0.8, 0.1, -5.0]\n",
    "                               })\n",
    "\n",
    "w = np.array([0, 0, 0]).reshape(-1, 1)\n",
    "num_iterations = 4\n",
    "alpha = 0.05\n",
    "\n",
    "X = df_least_square.iloc[:, 0:-1].values\n",
    "y = df_least_square.iloc[:, [-1]].values\n",
    "\n",
    "X = np.hstack((np.ones((X.shape[0], 1)), X))\n",
    "\n",
    "gradient_descent(X, y, w, num_iterations, alpha)"
   ]
  },
  {
   "cell_type": "code",
   "execution_count": 440,
   "id": "c88b61d2-731f-4a23-b4e8-c41bcdb0d190",
   "metadata": {},
   "outputs": [
    {
     "name": "stdout",
     "output_type": "stream",
     "text": [
      "i: 1\n",
      "Weights: [1 1]\n",
      "\n",
      "i: 2\n",
      "Weights: [-1  2]\n",
      "\n",
      "i: 3\n",
      "Weights: [-1  2]\n",
      "\n",
      "i: 4\n",
      "Weights: [-1  2]\n",
      "\n",
      "after_train_preds = y: [ True  True  True  True]\n",
      "After training, the perceptron correctly predicts each value of y.\n"
     ]
    }
   ],
   "source": [
    "# Q2\n",
    "\n",
    "# (a)\n",
    "\n",
    "df_perceptron = pd.DataFrame({\"x1\": [1, 2, -3, -3],\n",
    "                              \"x2\": [1, -1, -1, 1],\n",
    "                              \"y\": [1, -1, 1, 1]\n",
    "                             })\n",
    "\n",
    "w = np.array([0, 0])\n",
    "\n",
    "X = df_perceptron.iloc[:, 0:-1].values\n",
    "y = df_perceptron.iloc[:, -1].values\n",
    "\n",
    "i = 1\n",
    "for xi, yi in zip(X, y):\n",
    "    pred = w.dot(xi)\n",
    "    if pred > 0:\n",
    "        pred = 1\n",
    "    else:\n",
    "        pred = 0\n",
    "\n",
    "    if pred != yi:\n",
    "        update = yi * xi\n",
    "        w += update\n",
    "    print(f\"i: {i}\\nWeights: {w}\\n\")\n",
    "    i += 1\n",
    "        \n",
    "after_train_preds = check_predictions(X, y, w)\n",
    "print(f\"after_train_preds = y: {after_train_preds}\")\n",
    "print(\"After training, the perceptron correctly predicts each value of y.\")"
   ]
  },
  {
   "cell_type": "code",
   "execution_count": 441,
   "id": "c06ed1c2-78a2-4183-99a5-37bf0f4d1fb2",
   "metadata": {},
   "outputs": [
    {
     "name": "stdout",
     "output_type": "stream",
     "text": [
      "i: 2\n",
      "Weights: [-2  1]\n",
      "\n",
      "i: 1\n",
      "Weights: [-1  2]\n",
      "\n",
      "i: 3\n",
      "Weights: [-1  2]\n",
      "\n",
      "i: 4\n",
      "Weights: [-1  2]\n",
      "\n",
      "after_train_preds = y: [ True  True  True  True]\n",
      "After training, the perceptron correctly predicts each value of y.\n"
     ]
    }
   ],
   "source": [
    "# (b)\n",
    "\n",
    "w = np.array([0, 0])\n",
    "X = df_perceptron.iloc[:, 0:-1].values\n",
    "y = df_perceptron.iloc[:, -1].values\n",
    "\n",
    "for i in np.array([2, 1, 3, 4])-1:\n",
    "    pred = w.dot(X[i])\n",
    "    if pred > 0:\n",
    "        pred = 1\n",
    "    else:\n",
    "        pred = 0\n",
    "\n",
    "    if pred != y[i]:\n",
    "        update = y[i] * X[i]\n",
    "        w += update\n",
    "    print(f\"i: {i+1}\\nWeights: {w}\\n\")\n",
    "after_train_preds = check_predictions(X, y, w)\n",
    "print(f\"after_train_preds = y: {after_train_preds}\")\n",
    "print(\"After training, the perceptron correctly predicts each value of y.\")"
   ]
  }
 ],
 "metadata": {
  "kernelspec": {
   "display_name": "Python 3 (ipykernel)",
   "language": "python",
   "name": "python3"
  },
  "language_info": {
   "codemirror_mode": {
    "name": "ipython",
    "version": 3
   },
   "file_extension": ".py",
   "mimetype": "text/x-python",
   "name": "python",
   "nbconvert_exporter": "python",
   "pygments_lexer": "ipython3",
   "version": "3.11.5"
  }
 },
 "nbformat": 4,
 "nbformat_minor": 5
}
