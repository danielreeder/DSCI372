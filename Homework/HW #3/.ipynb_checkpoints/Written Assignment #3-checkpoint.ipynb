{
 "cells": [
  {
   "cell_type": "code",
   "execution_count": 1,
   "id": "b82da27a-ee78-4fb9-a105-bbbcc59fbaa8",
   "metadata": {},
   "outputs": [],
   "source": [
    "import matplotlib.pyplot as plt\n",
    "import numpy as np\n",
    "import pandas as pd"
   ]
  },
  {
   "cell_type": "code",
   "execution_count": 163,
   "id": "018d5537-eb49-4b02-a14d-c2bacb4ea30d",
   "metadata": {},
   "outputs": [],
   "source": [
    "orig_df = pd.DataFrame({\n",
    "    \"Type\": [\"FF\", \"ETH\", \"CAS\", \"CAS\", \"CAS\", \"FF\", \"ETH\", \"CAS\", \"FF\", \"ETH\", \"CAS\"],\n",
    "    \"Price\": ['$', '$$', '$$', '$$$', '$', '$$', '$', '$', '$$$', '$$', '$$'],\n",
    "    \"Neighborhood\": [\"OAK\", \"SQR\", \"SQR\", \"SHD\", \"OAK\", \"SQR\", \"SQR\", \"SHD\", \"OAK\", \"SHD\", \"SHD\"],\n",
    "    \"Restriction\": [\"VEG\", \"GF\", \"N\", \"VEG\", \"VEG\", \"N\", \"N\", \"GF\", \"N\", \"VEG\", \"GF\"],\n",
    "    \"OK\": [0, 0, 0, 0, 1, 1, 1, 0, 0, 1, 1]\n",
    "})"
   ]
  },
  {
   "cell_type": "code",
   "execution_count": 164,
   "id": "cd11818e-c131-486f-b999-8b8ca6359f77",
   "metadata": {},
   "outputs": [
    {
     "data": {
      "text/plain": [
       "Price  Type  OK\n",
       "0      CAS   0     1\n",
       "             1     1\n",
       "       ETH   1     1\n",
       "       FF    0     1\n",
       "1      CAS   0     1\n",
       "             1     1\n",
       "       ETH   0     1\n",
       "             1     1\n",
       "       FF    1     1\n",
       "2      CAS   0     1\n",
       "       FF    0     1\n",
       "Name: count, dtype: int64"
      ]
     },
     "execution_count": 164,
     "metadata": {},
     "output_type": "execute_result"
    }
   ],
   "source": [
    "df"
   ]
  },
  {
   "cell_type": "code",
   "execution_count": 173,
   "id": "3dbc7d16-35fc-4b74-a00f-80a9f004e474",
   "metadata": {},
   "outputs": [
    {
     "data": {
      "text/html": [
       "<div>\n",
       "<style scoped>\n",
       "    .dataframe tbody tr th:only-of-type {\n",
       "        vertical-align: middle;\n",
       "    }\n",
       "\n",
       "    .dataframe tbody tr th {\n",
       "        vertical-align: top;\n",
       "    }\n",
       "\n",
       "    .dataframe thead th {\n",
       "        text-align: right;\n",
       "    }\n",
       "</style>\n",
       "<table border=\"1\" class=\"dataframe\">\n",
       "  <thead>\n",
       "    <tr style=\"text-align: right;\">\n",
       "      <th></th>\n",
       "      <th></th>\n",
       "      <th></th>\n",
       "      <th>count</th>\n",
       "    </tr>\n",
       "    <tr>\n",
       "      <th>Price</th>\n",
       "      <th>Restriction</th>\n",
       "      <th>OK</th>\n",
       "      <th></th>\n",
       "    </tr>\n",
       "  </thead>\n",
       "  <tbody>\n",
       "    <tr>\n",
       "      <th rowspan=\"4\" valign=\"top\">$</th>\n",
       "      <th>GF</th>\n",
       "      <th>0</th>\n",
       "      <td>1</td>\n",
       "    </tr>\n",
       "    <tr>\n",
       "      <th>N</th>\n",
       "      <th>1</th>\n",
       "      <td>1</td>\n",
       "    </tr>\n",
       "    <tr>\n",
       "      <th rowspan=\"2\" valign=\"top\">VEG</th>\n",
       "      <th>0</th>\n",
       "      <td>1</td>\n",
       "    </tr>\n",
       "    <tr>\n",
       "      <th>1</th>\n",
       "      <td>1</td>\n",
       "    </tr>\n",
       "    <tr>\n",
       "      <th rowspan=\"5\" valign=\"top\">$$</th>\n",
       "      <th rowspan=\"2\" valign=\"top\">GF</th>\n",
       "      <th>0</th>\n",
       "      <td>1</td>\n",
       "    </tr>\n",
       "    <tr>\n",
       "      <th>1</th>\n",
       "      <td>1</td>\n",
       "    </tr>\n",
       "    <tr>\n",
       "      <th rowspan=\"2\" valign=\"top\">N</th>\n",
       "      <th>0</th>\n",
       "      <td>1</td>\n",
       "    </tr>\n",
       "    <tr>\n",
       "      <th>1</th>\n",
       "      <td>1</td>\n",
       "    </tr>\n",
       "    <tr>\n",
       "      <th>VEG</th>\n",
       "      <th>1</th>\n",
       "      <td>1</td>\n",
       "    </tr>\n",
       "    <tr>\n",
       "      <th rowspan=\"2\" valign=\"top\">$$$</th>\n",
       "      <th>N</th>\n",
       "      <th>0</th>\n",
       "      <td>1</td>\n",
       "    </tr>\n",
       "    <tr>\n",
       "      <th>VEG</th>\n",
       "      <th>0</th>\n",
       "      <td>1</td>\n",
       "    </tr>\n",
       "  </tbody>\n",
       "</table>\n",
       "</div>"
      ],
      "text/plain": [
       "                      count\n",
       "Price Restriction OK       \n",
       "$     GF          0       1\n",
       "      N           1       1\n",
       "      VEG         0       1\n",
       "                  1       1\n",
       "$$    GF          0       1\n",
       "                  1       1\n",
       "      N           0       1\n",
       "                  1       1\n",
       "      VEG         1       1\n",
       "$$$   N           0       1\n",
       "      VEG         0       1"
      ]
     },
     "execution_count": 173,
     "metadata": {},
     "output_type": "execute_result"
    }
   ],
   "source": [
    "df = orig_df[[\"Price\", \"Restriction\", \"OK\"]].groupby(\"Price\").value_counts()\n",
    "pd.DataFrame(df)"
   ]
  },
  {
   "cell_type": "code",
   "execution_count": 169,
   "id": "a5abac25-5899-4cc7-86ca-f36a9cd65ade",
   "metadata": {},
   "outputs": [],
   "source": [
    "# df = pd.DataFrame(df)"
   ]
  },
  {
   "cell_type": "code",
   "execution_count": 170,
   "id": "179f599c-739c-47c3-a61c-493097e86438",
   "metadata": {},
   "outputs": [
    {
     "data": {
      "text/html": [
       "<div>\n",
       "<style scoped>\n",
       "    .dataframe tbody tr th:only-of-type {\n",
       "        vertical-align: middle;\n",
       "    }\n",
       "\n",
       "    .dataframe tbody tr th {\n",
       "        vertical-align: top;\n",
       "    }\n",
       "\n",
       "    .dataframe thead th {\n",
       "        text-align: right;\n",
       "    }\n",
       "</style>\n",
       "<table border=\"1\" class=\"dataframe\">\n",
       "  <thead>\n",
       "    <tr style=\"text-align: right;\">\n",
       "      <th></th>\n",
       "      <th></th>\n",
       "      <th></th>\n",
       "      <th>count</th>\n",
       "    </tr>\n",
       "    <tr>\n",
       "      <th>Price</th>\n",
       "      <th>Neighborhood</th>\n",
       "      <th>OK</th>\n",
       "      <th></th>\n",
       "    </tr>\n",
       "  </thead>\n",
       "  <tbody>\n",
       "    <tr>\n",
       "      <th rowspan=\"4\" valign=\"top\">$</th>\n",
       "      <th rowspan=\"2\" valign=\"top\">OAK</th>\n",
       "      <th>0</th>\n",
       "      <td>1</td>\n",
       "    </tr>\n",
       "    <tr>\n",
       "      <th>1</th>\n",
       "      <td>1</td>\n",
       "    </tr>\n",
       "    <tr>\n",
       "      <th>SHD</th>\n",
       "      <th>0</th>\n",
       "      <td>1</td>\n",
       "    </tr>\n",
       "    <tr>\n",
       "      <th>SQR</th>\n",
       "      <th>1</th>\n",
       "      <td>1</td>\n",
       "    </tr>\n",
       "    <tr>\n",
       "      <th rowspan=\"3\" valign=\"top\">$$</th>\n",
       "      <th>SHD</th>\n",
       "      <th>1</th>\n",
       "      <td>2</td>\n",
       "    </tr>\n",
       "    <tr>\n",
       "      <th rowspan=\"2\" valign=\"top\">SQR</th>\n",
       "      <th>0</th>\n",
       "      <td>2</td>\n",
       "    </tr>\n",
       "    <tr>\n",
       "      <th>1</th>\n",
       "      <td>1</td>\n",
       "    </tr>\n",
       "    <tr>\n",
       "      <th rowspan=\"2\" valign=\"top\">$$$</th>\n",
       "      <th>OAK</th>\n",
       "      <th>0</th>\n",
       "      <td>1</td>\n",
       "    </tr>\n",
       "    <tr>\n",
       "      <th>SHD</th>\n",
       "      <th>0</th>\n",
       "      <td>1</td>\n",
       "    </tr>\n",
       "  </tbody>\n",
       "</table>\n",
       "</div>"
      ],
      "text/plain": [
       "                       count\n",
       "Price Neighborhood OK       \n",
       "$     OAK          0       1\n",
       "                   1       1\n",
       "      SHD          0       1\n",
       "      SQR          1       1\n",
       "$$    SHD          1       2\n",
       "      SQR          0       2\n",
       "                   1       1\n",
       "$$$   OAK          0       1\n",
       "      SHD          0       1"
      ]
     },
     "execution_count": 170,
     "metadata": {},
     "output_type": "execute_result"
    }
   ],
   "source": [
    "pd.DataFrame(df)\n",
    "# df"
   ]
  },
  {
   "cell_type": "code",
   "execution_count": 74,
   "id": "41a9936d-8596-4da1-bd46-ebf05f2c3ecd",
   "metadata": {},
   "outputs": [],
   "source": []
  },
  {
   "cell_type": "code",
   "execution_count": 157,
   "id": "d175c1e6-a7fc-4b48-9df0-d20153a302e0",
   "metadata": {},
   "outputs": [],
   "source": [
    "df = df.reset_index()\n",
    "df.index = df.Price\n",
    "df = df.drop(columns=\"Price\")"
   ]
  },
  {
   "cell_type": "code",
   "execution_count": 158,
   "id": "0e2edb78-3ea6-48e9-8bbb-41017b721f96",
   "metadata": {},
   "outputs": [
    {
     "data": {
      "text/html": [
       "<div>\n",
       "<style scoped>\n",
       "    .dataframe tbody tr th:only-of-type {\n",
       "        vertical-align: middle;\n",
       "    }\n",
       "\n",
       "    .dataframe tbody tr th {\n",
       "        vertical-align: top;\n",
       "    }\n",
       "\n",
       "    .dataframe thead th {\n",
       "        text-align: right;\n",
       "    }\n",
       "</style>\n",
       "<table border=\"1\" class=\"dataframe\">\n",
       "  <thead>\n",
       "    <tr style=\"text-align: right;\">\n",
       "      <th></th>\n",
       "      <th>Type</th>\n",
       "      <th>OK</th>\n",
       "      <th>count</th>\n",
       "    </tr>\n",
       "    <tr>\n",
       "      <th>Price</th>\n",
       "      <th></th>\n",
       "      <th></th>\n",
       "      <th></th>\n",
       "    </tr>\n",
       "  </thead>\n",
       "  <tbody>\n",
       "    <tr>\n",
       "      <th>0</th>\n",
       "      <td>CAS</td>\n",
       "      <td>0</td>\n",
       "      <td>1</td>\n",
       "    </tr>\n",
       "    <tr>\n",
       "      <th>0</th>\n",
       "      <td>CAS</td>\n",
       "      <td>1</td>\n",
       "      <td>1</td>\n",
       "    </tr>\n",
       "    <tr>\n",
       "      <th>0</th>\n",
       "      <td>ETH</td>\n",
       "      <td>1</td>\n",
       "      <td>1</td>\n",
       "    </tr>\n",
       "    <tr>\n",
       "      <th>0</th>\n",
       "      <td>FF</td>\n",
       "      <td>0</td>\n",
       "      <td>1</td>\n",
       "    </tr>\n",
       "    <tr>\n",
       "      <th>1</th>\n",
       "      <td>CAS</td>\n",
       "      <td>0</td>\n",
       "      <td>1</td>\n",
       "    </tr>\n",
       "    <tr>\n",
       "      <th>1</th>\n",
       "      <td>CAS</td>\n",
       "      <td>1</td>\n",
       "      <td>1</td>\n",
       "    </tr>\n",
       "    <tr>\n",
       "      <th>1</th>\n",
       "      <td>ETH</td>\n",
       "      <td>0</td>\n",
       "      <td>1</td>\n",
       "    </tr>\n",
       "    <tr>\n",
       "      <th>1</th>\n",
       "      <td>ETH</td>\n",
       "      <td>1</td>\n",
       "      <td>1</td>\n",
       "    </tr>\n",
       "    <tr>\n",
       "      <th>1</th>\n",
       "      <td>FF</td>\n",
       "      <td>1</td>\n",
       "      <td>1</td>\n",
       "    </tr>\n",
       "    <tr>\n",
       "      <th>2</th>\n",
       "      <td>CAS</td>\n",
       "      <td>0</td>\n",
       "      <td>1</td>\n",
       "    </tr>\n",
       "    <tr>\n",
       "      <th>2</th>\n",
       "      <td>FF</td>\n",
       "      <td>0</td>\n",
       "      <td>1</td>\n",
       "    </tr>\n",
       "  </tbody>\n",
       "</table>\n",
       "</div>"
      ],
      "text/plain": [
       "      Type  OK  count\n",
       "Price                \n",
       "0      CAS   0      1\n",
       "0      CAS   1      1\n",
       "0      ETH   1      1\n",
       "0       FF   0      1\n",
       "1      CAS   0      1\n",
       "1      CAS   1      1\n",
       "1      ETH   0      1\n",
       "1      ETH   1      1\n",
       "1       FF   1      1\n",
       "2      CAS   0      1\n",
       "2       FF   0      1"
      ]
     },
     "execution_count": 158,
     "metadata": {},
     "output_type": "execute_result"
    }
   ],
   "source": [
    "df"
   ]
  },
  {
   "cell_type": "code",
   "execution_count": 80,
   "id": "440dfb24-e64c-4057-bd9e-88f9fd74f163",
   "metadata": {},
   "outputs": [
    {
     "data": {
      "text/html": [
       "<div>\n",
       "<style scoped>\n",
       "    .dataframe tbody tr th:only-of-type {\n",
       "        vertical-align: middle;\n",
       "    }\n",
       "\n",
       "    .dataframe tbody tr th {\n",
       "        vertical-align: top;\n",
       "    }\n",
       "\n",
       "    .dataframe thead th {\n",
       "        text-align: right;\n",
       "    }\n",
       "</style>\n",
       "<table border=\"1\" class=\"dataframe\">\n",
       "  <thead>\n",
       "    <tr style=\"text-align: right;\">\n",
       "      <th></th>\n",
       "      <th>Type</th>\n",
       "      <th>OK</th>\n",
       "      <th>count</th>\n",
       "    </tr>\n",
       "    <tr>\n",
       "      <th>Price</th>\n",
       "      <th></th>\n",
       "      <th></th>\n",
       "      <th></th>\n",
       "    </tr>\n",
       "  </thead>\n",
       "  <tbody>\n",
       "    <tr>\n",
       "      <th>0</th>\n",
       "      <td>CAS</td>\n",
       "      <td>0</td>\n",
       "      <td>1</td>\n",
       "    </tr>\n",
       "    <tr>\n",
       "      <th>0</th>\n",
       "      <td>FF</td>\n",
       "      <td>0</td>\n",
       "      <td>1</td>\n",
       "    </tr>\n",
       "  </tbody>\n",
       "</table>\n",
       "</div>"
      ],
      "text/plain": [
       "      Type  OK  count\n",
       "Price                \n",
       "0      CAS   0      1\n",
       "0       FF   0      1"
      ]
     },
     "execution_count": 80,
     "metadata": {},
     "output_type": "execute_result"
    }
   ],
   "source": [
    "df.loc[0].query(\"OK == 0\")"
   ]
  },
  {
   "cell_type": "code",
   "execution_count": 279,
   "id": "7f2b99f7-74ba-4b85-8575-87320439cbdd",
   "metadata": {},
   "outputs": [],
   "source": [
    "def get_counts(df, predictor, split):\n",
    "    cols = np.array([predictor, split, \"OK\"])\n",
    "    counts = df[cols].groupby(predictor).value_counts()\n",
    "    \n",
    "    return counts.reset_index()\n",
    "\n",
    "def H(df, predictor):\n",
    "    splits = np.delete(df.drop(columns=\"OK\").columns.values, np.where(df.columns.values == predictor))\n",
    "    # for split in splits:\n",
    "    split = \"Type\"\n",
    "    counts = get_counts(df, predictor, split)\n",
    "    vals = counts.value_counts(\"Price\").index.values\n",
    "    for val in vals:\n",
    "        if len(counts.value_counts().loc[val].value_counts(\"OK\")) == 1:\n",
    "            counts = counts.loc[np.delete(counts.index, np.where(counts.index.values == val))]\n",
    "    return counts"
   ]
  },
  {
   "cell_type": "code",
   "execution_count": 280,
   "id": "ec76b43f-c0ba-4ff0-aa5d-ad8cd0374a72",
   "metadata": {},
   "outputs": [
    {
     "data": {
      "text/plain": [
       "Type  OK  count\n",
       "CAS   0   1        1\n",
       "      1   1        1\n",
       "ETH   0   1        1\n",
       "      1   1        1\n",
       "FF    1   1        1\n",
       "Name: count, dtype: int64"
      ]
     },
     "execution_count": 280,
     "metadata": {},
     "output_type": "execute_result"
    }
   ],
   "source": [
    "H(orig_df, \"Price\").value_counts().loc['$$']\n",
    "\n",
    "# pd.DataFrame(orig_df, \"Price\", )"
   ]
  },
  {
   "cell_type": "code",
   "execution_count": 275,
   "id": "9de7e137-9a04-4cbd-8961-4eed3c791265",
   "metadata": {},
   "outputs": [
    {
     "data": {
      "text/plain": [
       "OK\n",
       "1    3\n",
       "0    2\n",
       "Name: count, dtype: int64"
      ]
     },
     "execution_count": 275,
     "metadata": {},
     "output_type": "execute_result"
    }
   ],
   "source": [
    "pd.DataFrame(df).loc['$$'].value_counts(\"OK\")"
   ]
  },
  {
   "cell_type": "code",
   "execution_count": null,
   "id": "8a5f1027-ba52-4825-a058-616a07422047",
   "metadata": {},
   "outputs": [],
   "source": []
  }
 ],
 "metadata": {
  "kernelspec": {
   "display_name": "Python 3 (ipykernel)",
   "language": "python",
   "name": "python3"
  },
  "language_info": {
   "codemirror_mode": {
    "name": "ipython",
    "version": 3
   },
   "file_extension": ".py",
   "mimetype": "text/x-python",
   "name": "python",
   "nbconvert_exporter": "python",
   "pygments_lexer": "ipython3",
   "version": "3.11.5"
  }
 },
 "nbformat": 4,
 "nbformat_minor": 5
}
