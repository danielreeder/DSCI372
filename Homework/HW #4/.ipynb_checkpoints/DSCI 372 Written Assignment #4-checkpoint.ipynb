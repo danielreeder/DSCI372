{
 "cells": [
  {
   "cell_type": "code",
   "execution_count": 187,
   "id": "fbd72771-9d6a-45b4-adb8-a23f33bc3ba5",
   "metadata": {},
   "outputs": [],
   "source": [
    "import pandas as pd\n",
    "import numpy as np\n",
    "import matplotlib.pyplot as plt\n",
    "from scipy.sparse import csgraph"
   ]
  },
  {
   "cell_type": "code",
   "execution_count": 115,
   "id": "811183da-927b-4ca8-84b5-29d3422455ba",
   "metadata": {},
   "outputs": [],
   "source": [
    "def distance(point, center):\n",
    "    return np.sqrt(sum((point - center) ** 2))\n",
    "\n",
    "def assign(index):\n",
    "    return [\"red\", \"green\", \"blue\"][index]\n",
    "\n",
    "def update_cluster(points):\n",
    "    return np.round(np.mean(points.iloc[:, 0]), 3), np.round(np.mean(points.iloc[:, 1]), 3)\n",
    "\n"
   ]
  },
  {
   "cell_type": "code",
   "execution_count": 155,
   "id": "74204a2e-6048-43d6-bbe7-ff8faa089df4",
   "metadata": {},
   "outputs": [],
   "source": [
    "df = pd.DataFrame({\n",
    "    \"x1\": [5.5, 5.1, 4.7, 4.9, 5.0, 4.6, 5.9, 6.0, 6.2, 6.7, 6.2, 6.6, 6.5],\n",
    "    \"x2\": [4.2, 3.8, 3.2, 3.1, 3.0, 2.9, 3.2, 3.0, 2.8, 3.1, 3.2, 3.7, 3.0]\n",
    "})\n",
    "\n",
    "centers = np.array([[6.2, 3.2], [6.6, 3.7], [6.5, 3.0]])\n",
    "centers = pd.DataFrame({\n",
    "    \"x1\": centers[:, 0],\n",
    "    \"x2\": centers[:, 1]\n",
    "}, index=[\"red\", \"green\", \"blue\"])\n",
    "i = 0"
   ]
  },
  {
   "cell_type": "code",
   "execution_count": 159,
   "id": "130e92ad-b27f-42eb-b7d3-56e1e7053d86",
   "metadata": {},
   "outputs": [
    {
     "name": "stdout",
     "output_type": "stream",
     "text": [
      "Iterations: 4\n"
     ]
    },
    {
     "data": {
      "text/html": [
       "<div>\n",
       "<style scoped>\n",
       "    .dataframe tbody tr th:only-of-type {\n",
       "        vertical-align: middle;\n",
       "    }\n",
       "\n",
       "    .dataframe tbody tr th {\n",
       "        vertical-align: top;\n",
       "    }\n",
       "\n",
       "    .dataframe thead th {\n",
       "        text-align: right;\n",
       "    }\n",
       "</style>\n",
       "<table border=\"1\" class=\"dataframe\">\n",
       "  <thead>\n",
       "    <tr style=\"text-align: right;\">\n",
       "      <th></th>\n",
       "      <th>x1</th>\n",
       "      <th>x2</th>\n",
       "    </tr>\n",
       "  </thead>\n",
       "  <tbody>\n",
       "    <tr>\n",
       "      <th>red</th>\n",
       "      <td>4.86</td>\n",
       "      <td>3.20</td>\n",
       "    </tr>\n",
       "    <tr>\n",
       "      <th>green</th>\n",
       "      <td>6.05</td>\n",
       "      <td>3.95</td>\n",
       "    </tr>\n",
       "    <tr>\n",
       "      <th>blue</th>\n",
       "      <td>6.25</td>\n",
       "      <td>3.05</td>\n",
       "    </tr>\n",
       "  </tbody>\n",
       "</table>\n",
       "</div>"
      ],
      "text/plain": [
       "         x1    x2\n",
       "red    4.86  3.20\n",
       "green  6.05  3.95\n",
       "blue   6.25  3.05"
      ]
     },
     "execution_count": 159,
     "metadata": {},
     "output_type": "execute_result"
    },
    {
     "data": {
      "image/png": "[encoded data removed]",
      "text/plain": [
       "<Figure size 640x480 with 1 Axes>"
      ]
     },
     "metadata": {},
     "output_type": "display_data"
    }
   ],
   "source": [
    "df[\"distance from red\"] = df.apply(lambda x: distance(x[0:2], centers.iloc[0, :].values), axis=1)\n",
    "df[\"distance from green\"] = df.apply(lambda x: distance(x[0:2], centers.iloc[1, :].values), axis=1)\n",
    "df[\"distance from blue\"] = df.apply(lambda x: distance(x[0:2], centers.iloc[2, :].values), axis=1)\n",
    "df[\"assignment\"] = df.apply(lambda x: assign(np.argmin(x[2:5])), axis=1)\n",
    "\n",
    "red = np.array([0, 0])\n",
    "green = np.array([0, 0])\n",
    "blue = np.array([0, 0])\n",
    "\n",
    "centers.loc[\"red\", :] = update_cluster(df.query(\"assignment == 'red'\"))\n",
    "centers.loc[\"green\", :] = update_cluster(df.query(\"assignment == 'green'\"))\n",
    "centers.loc[\"blue\", :] = update_cluster(df.query(\"assignment == 'blue'\"))\n",
    "\n",
    "\n",
    "plt.scatter(df[\"x1\"], df[\"x2\"], marker='x')\n",
    "plt.scatter(centers.iloc[:, 0], centers.iloc[:, 1], c=['r', 'g', 'b']);\n",
    "i += 1\n",
    "print(f\"Iterations: {i}\")\n",
    "centers"
   ]
  },
  {
   "cell_type": "code",
   "execution_count": 176,
   "id": "70dc6463-e9c5-4ba1-a48e-771008270cd4",
   "metadata": {},
   "outputs": [],
   "source": [
    "red = pd.DataFrame({\n",
    "    'x1': [4.7, 4.9, 5.0, 4.6],\n",
    "    'x2': [3.2, 3.1, 3.0, 2.9]\n",
    "})\n",
    "\n",
    "blue = pd.DataFrame({\n",
    "    'x1': [5.9, 6.7, 6.0, 6.2],\n",
    "    'x2': [3.2, 3.1, 3.0, 2.8]\n",
    "})"
   ]
  },
  {
   "cell_type": "code",
   "execution_count": 177,
   "id": "4438d988-92b1-4b7e-8350-55658fe0dc66",
   "metadata": {},
   "outputs": [],
   "source": [
    "red[\"distance from blue0\"] = red.apply(lambda x: distance(x[:2], blue.iloc[0, :2]), axis=1)    \n",
    "red[\"distance from blue1\"] = red.apply(lambda x: distance(x[:2], blue.iloc[1, :2]), axis=1)    \n",
    "red[\"distance from blue2\"] = red.apply(lambda x: distance(x[:2], blue.iloc[2, :2]), axis=1)    \n",
    "red[\"distance from blue3\"] = red.apply(lambda x: distance(x[:2], blue.iloc[3, :2]), axis=1) \n",
    "blue[\"distance from red0\"] = blue.apply(lambda x: distance(x[:2], red.iloc[0, :2]), axis=1)    \n",
    "blue[\"distance from red1\"] = blue.apply(lambda x: distance(x[:2], red.iloc[1, :2]), axis=1)    \n",
    "blue[\"distance from red2\"] = blue.apply(lambda x: distance(x[:2], red.iloc[2, :2]), axis=1)    \n",
    "blue[\"distance from red3\"] = blue.apply(lambda x: distance(x[:2], red.iloc[3, :2]), axis=1) "
   ]
  },
  {
   "cell_type": "code",
   "execution_count": 178,
   "id": "5cdc87c5-879a-4c35-b5a7-a03b052d9c98",
   "metadata": {},
   "outputs": [
    {
     "data": {
      "text/html": [
       "<div>\n",
       "<style scoped>\n",
       "    .dataframe tbody tr th:only-of-type {\n",
       "        vertical-align: middle;\n",
       "    }\n",
       "\n",
       "    .dataframe tbody tr th {\n",
       "        vertical-align: top;\n",
       "    }\n",
       "\n",
       "    .dataframe thead th {\n",
       "        text-align: right;\n",
       "    }\n",
       "</style>\n",
       "<table border=\"1\" class=\"dataframe\">\n",
       "  <thead>\n",
       "    <tr style=\"text-align: right;\">\n",
       "      <th></th>\n",
       "      <th>x1</th>\n",
       "      <th>x2</th>\n",
       "      <th>distance from blue0</th>\n",
       "      <th>distance from blue1</th>\n",
       "      <th>distance from blue2</th>\n",
       "      <th>distance from blue3</th>\n",
       "    </tr>\n",
       "  </thead>\n",
       "  <tbody>\n",
       "    <tr>\n",
       "      <th>0</th>\n",
       "      <td>4.7</td>\n",
       "      <td>3.2</td>\n",
       "      <td>1.200000</td>\n",
       "      <td>2.002498</td>\n",
       "      <td>1.315295</td>\n",
       "      <td>1.552417</td>\n",
       "    </tr>\n",
       "    <tr>\n",
       "      <th>1</th>\n",
       "      <td>4.9</td>\n",
       "      <td>3.1</td>\n",
       "      <td>1.004988</td>\n",
       "      <td>1.800000</td>\n",
       "      <td>1.104536</td>\n",
       "      <td>1.334166</td>\n",
       "    </tr>\n",
       "    <tr>\n",
       "      <th>2</th>\n",
       "      <td>5.0</td>\n",
       "      <td>3.0</td>\n",
       "      <td>0.921954</td>\n",
       "      <td>1.702939</td>\n",
       "      <td>1.000000</td>\n",
       "      <td>1.216553</td>\n",
       "    </tr>\n",
       "    <tr>\n",
       "      <th>3</th>\n",
       "      <td>4.6</td>\n",
       "      <td>2.9</td>\n",
       "      <td>1.334166</td>\n",
       "      <td>2.109502</td>\n",
       "      <td>1.403567</td>\n",
       "      <td>1.603122</td>\n",
       "    </tr>\n",
       "  </tbody>\n",
       "</table>\n",
       "</div>"
      ],
      "text/plain": [
       "    x1   x2  distance from blue0  distance from blue1  distance from blue2  \\\n",
       "0  4.7  3.2             1.200000             2.002498             1.315295   \n",
       "1  4.9  3.1             1.004988             1.800000             1.104536   \n",
       "2  5.0  3.0             0.921954             1.702939             1.000000   \n",
       "3  4.6  2.9             1.334166             2.109502             1.403567   \n",
       "\n",
       "   distance from blue3  \n",
       "0             1.552417  \n",
       "1             1.334166  \n",
       "2             1.216553  \n",
       "3             1.603122  "
      ]
     },
     "execution_count": 178,
     "metadata": {},
     "output_type": "execute_result"
    }
   ],
   "source": [
    "red"
   ]
  },
  {
   "cell_type": "code",
   "execution_count": 179,
   "id": "5a11b3e4-b062-420d-9987-e9791c56e562",
   "metadata": {},
   "outputs": [
    {
     "data": {
      "text/html": [
       "<div>\n",
       "<style scoped>\n",
       "    .dataframe tbody tr th:only-of-type {\n",
       "        vertical-align: middle;\n",
       "    }\n",
       "\n",
       "    .dataframe tbody tr th {\n",
       "        vertical-align: top;\n",
       "    }\n",
       "\n",
       "    .dataframe thead th {\n",
       "        text-align: right;\n",
       "    }\n",
       "</style>\n",
       "<table border=\"1\" class=\"dataframe\">\n",
       "  <thead>\n",
       "    <tr style=\"text-align: right;\">\n",
       "      <th></th>\n",
       "      <th>x1</th>\n",
       "      <th>x2</th>\n",
       "      <th>distance from red0</th>\n",
       "      <th>distance from red1</th>\n",
       "      <th>distance from red2</th>\n",
       "      <th>distance from red3</th>\n",
       "    </tr>\n",
       "  </thead>\n",
       "  <tbody>\n",
       "    <tr>\n",
       "      <th>0</th>\n",
       "      <td>5.9</td>\n",
       "      <td>3.2</td>\n",
       "      <td>1.200000</td>\n",
       "      <td>1.004988</td>\n",
       "      <td>0.921954</td>\n",
       "      <td>1.334166</td>\n",
       "    </tr>\n",
       "    <tr>\n",
       "      <th>1</th>\n",
       "      <td>6.7</td>\n",
       "      <td>3.1</td>\n",
       "      <td>2.002498</td>\n",
       "      <td>1.800000</td>\n",
       "      <td>1.702939</td>\n",
       "      <td>2.109502</td>\n",
       "    </tr>\n",
       "    <tr>\n",
       "      <th>2</th>\n",
       "      <td>6.0</td>\n",
       "      <td>3.0</td>\n",
       "      <td>1.315295</td>\n",
       "      <td>1.104536</td>\n",
       "      <td>1.000000</td>\n",
       "      <td>1.403567</td>\n",
       "    </tr>\n",
       "    <tr>\n",
       "      <th>3</th>\n",
       "      <td>6.2</td>\n",
       "      <td>2.8</td>\n",
       "      <td>1.552417</td>\n",
       "      <td>1.334166</td>\n",
       "      <td>1.216553</td>\n",
       "      <td>1.603122</td>\n",
       "    </tr>\n",
       "  </tbody>\n",
       "</table>\n",
       "</div>"
      ],
      "text/plain": [
       "    x1   x2  distance from red0  distance from red1  distance from red2  \\\n",
       "0  5.9  3.2            1.200000            1.004988            0.921954   \n",
       "1  6.7  3.1            2.002498            1.800000            1.702939   \n",
       "2  6.0  3.0            1.315295            1.104536            1.000000   \n",
       "3  6.2  2.8            1.552417            1.334166            1.216553   \n",
       "\n",
       "   distance from red3  \n",
       "0            1.334166  \n",
       "1            2.109502  \n",
       "2            1.403567  \n",
       "3            1.603122  "
      ]
     },
     "execution_count": 179,
     "metadata": {},
     "output_type": "execute_result"
    }
   ],
   "source": [
    "blue"
   ]
  },
  {
   "cell_type": "code",
   "execution_count": 185,
   "id": "a6b2873d-d22b-4ac0-b0de-ea95845e47c2",
   "metadata": {},
   "outputs": [
    {
     "data": {
      "text/plain": [
       "1.4128564854895742"
      ]
     },
     "execution_count": 185,
     "metadata": {},
     "output_type": "execute_result"
    }
   ],
   "source": [
    "np.mean(blue.iloc[:, 2:])"
   ]
  },
  {
   "cell_type": "code",
   "execution_count": 190,
   "id": "d6ee4f3e-0524-49da-8e2b-f5cbd580b5f6",
   "metadata": {},
   "outputs": [],
   "source": [
    "G = np.array([[0,1,1,0,0,0,0],\n",
    "     [1,0,1,0,0,0,0],\n",
    "     [1,1,0,0,0,0,0],\n",
    "     [0,0,0,0,1,0,0],\n",
    "     [0,0,0,1,0,0,0],\n",
    "     [0,0,0,0,0,0,1],\n",
    "     [0,0,0,0,0,1,0]\n",
    "    ])\n",
    "\n",
    "laplacian = csgraph.laplacian(G)"
   ]
  },
  {
   "cell_type": "code",
   "execution_count": null,
   "id": "b189b0ba-c3cb-4ab5-b4a7-4fe06724fe15",
   "metadata": {},
   "outputs": [],
   "source": [
    "np.linalg.eigenvector"
   ]
  }
 ],
 "metadata": {
  "kernelspec": {
   "display_name": "Python 3 (ipykernel)",
   "language": "python",
   "name": "python3"
  },
  "language_info": {
   "codemirror_mode": {
    "name": "ipython",
    "version": 3
   },
   "file_extension": ".py",
   "mimetype": "text/x-python",
   "name": "python",
   "nbconvert_exporter": "python",
   "pygments_lexer": "ipython3",
   "version": "3.11.5"
  }
 },
 "nbformat": 4,
 "nbformat_minor": 5
}
