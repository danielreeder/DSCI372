{
 "cells": [
  {
   "cell_type": "code",
   "execution_count": 299,
   "id": "93534fd9-0b8b-426b-9144-6d9d2c2c7f6d",
   "metadata": {},
   "outputs": [],
   "source": [
    "import numpy as np\n",
    "import pandas as pd\n",
    "import matplotlib.pyplot as plt\n",
    "import seaborn as sns\n",
    "import torch\n",
    "\n",
    "from torch import nn\n",
    "from sklearn.linear_model import LogisticRegression\n",
    "from sklearn.metrics import accuracy_score, classification_report, confusion_matrix, roc_curve, auc\n",
    "from sklearn.svm import SVC\n",
    "from sklearn.tree import DecisionTreeClassifier, plot_tree\n",
    "from sklearn.ensemble import RandomForestClassifier\n",
    "from sklearn.model_selection import train_test_split"
   ]
  },
  {
   "cell_type": "code",
   "execution_count": 540,
   "id": "48ccf947-d908-4f29-a70a-45250a37afa3",
   "metadata": {},
   "outputs": [],
   "source": [
    "df = pd.read_csv(\"data/covtype.csv\")\n",
    "\n",
    "random_seed = 1\n",
    "torch.manual_seed(random_seed)\n",
    "np.random.seed(random_seed)\n",
    "\n",
    "# split original dataset into train and test set, 80/20 ratio\n",
    "train, test = train_test_split(df, test_size=0.2, train_size=0.8)\n",
    "\n",
    "# split train set into a final train set and a validation set, 80/20 ratio\n",
    "train, valid = train_test_split(train, test_size=0.2, train_size=0.8)\n",
    "train.reset_index(drop=True, inplace=True); valid.reset_index(drop=True, inplace=True); test.reset_index(drop=True, inplace=True);\n",
    "\n",
    "# separate features from labels for train, valid, and test sets\n",
    "X_train = train.iloc[:, :-1].values; y_train = train.iloc[:, -1].values;\n",
    "X_valid = valid.iloc[:, :-1].values; y_valid = valid.iloc[:, -1].values;\n",
    "X_test = test.iloc[:, :-1].values; y_test = test.iloc[:, -1].values;\n",
    "\n",
    "X_train = torch.from_numpy(X_train).type(torch.float); y_train = torch.from_numpy(y_train).type(torch.LongTensor)\n",
    "X_valid = torch.from_numpy(X_valid).type(torch.float); y_valid = torch.from_numpy(y_valid).type(torch.LongTensor)\n",
    "X_test = torch.from_numpy(X_test).type(torch.float); y_test = torch.from_numpy(y_test).type(torch.LongTensor)"
   ]
  },
  {
   "cell_type": "markdown",
   "id": "9d6b1f80-3748-4f18-8c83-a3198414d6d2",
   "metadata": {},
   "source": [
    "## LOGISTIC REGRESSION"
   ]
  },
  {
   "cell_type": "code",
   "execution_count": 528,
   "id": "81b4f769-db16-490e-a680-c7ecace62274",
   "metadata": {},
   "outputs": [],
   "source": [
    "log_reg = LogisticRegression(fit_intercept=True, max_iter=500).fit(X_train, y_train)"
   ]
  },
  {
   "cell_type": "code",
   "execution_count": 529,
   "id": "4c45aa9e-acdf-4238-b049-12b136a02126",
   "metadata": {},
   "outputs": [],
   "source": [
    "log_reg_train_predict = log_reg.predict(X_train)\n",
    "log_reg_test_predict = log_reg.predict(X_test)"
   ]
  },
  {
   "cell_type": "code",
   "execution_count": 530,
   "id": "712a2cb5-1e87-4617-9c08-cfee4f36cecc",
   "metadata": {},
   "outputs": [
    {
     "name": "stdout",
     "output_type": "stream",
     "text": [
      "Accuracy on train set: 0.7222916666666667\n",
      "Accuracy on test set: 0.721\n"
     ]
    }
   ],
   "source": [
    "print(f\"Accuracy on train set: {accuracy_score(log_reg_train_predict, y_train)}\\nAccuracy on test set: {accuracy_score(log_reg_test_predict, y_test)}\")"
   ]
  },
  {
   "cell_type": "markdown",
   "id": "c0e67853-0330-46a1-a4fd-a83ca6a330cd",
   "metadata": {},
   "source": [
    "## SUPPORT VECTOR MACHINE"
   ]
  },
  {
   "cell_type": "code",
   "execution_count": 273,
   "id": "b25960df-abf0-4578-9942-db3a0af23302",
   "metadata": {},
   "outputs": [],
   "source": [
    "svm = SVC().fit(X_train, y_train)"
   ]
  },
  {
   "cell_type": "code",
   "execution_count": 274,
   "id": "a823425b-7445-4aa0-88d4-77ce1e465a2d",
   "metadata": {},
   "outputs": [],
   "source": [
    "svm_train_predict = svm.predict(X_train)\n",
    "svm_test_predict = svm.predict(X_test)"
   ]
  },
  {
   "cell_type": "code",
   "execution_count": 275,
   "id": "2e230f55-b1a5-4ee9-812b-1a3125922b63",
   "metadata": {},
   "outputs": [
    {
     "name": "stdout",
     "output_type": "stream",
     "text": [
      "Accuracy on train set: 0.7794791666666666\n",
      "Accuracy on test set: 0.7566666666666667\n"
     ]
    }
   ],
   "source": [
    "print(f\"Accuracy on train set: {accuracy_score(svm_train_predict, y_train)}\\nAccuracy on test set: {accuracy_score(svm_test_predict, y_test)}\")"
   ]
  },
  {
   "cell_type": "markdown",
   "id": "c94040cc-3319-48cf-a4e4-2306b4d5b13f",
   "metadata": {},
   "source": [
    "## DECISION TREE"
   ]
  },
  {
   "cell_type": "code",
   "execution_count": 276,
   "id": "87a449a9-5d3f-4d5f-a355-d26d1f3c8961",
   "metadata": {},
   "outputs": [],
   "source": [
    "dt = DecisionTreeClassifier().fit(X_train, y_train)"
   ]
  },
  {
   "cell_type": "code",
   "execution_count": 277,
   "id": "b56c5b4b-e4e4-4290-9b80-99e958143618",
   "metadata": {},
   "outputs": [],
   "source": [
    "dt_train_predict = svm.predict(X_train)\n",
    "dt_test_predict = svm.predict(X_test)"
   ]
  },
  {
   "cell_type": "code",
   "execution_count": 279,
   "id": "53e85216-620a-41ca-b96d-d35f8f72cb85",
   "metadata": {},
   "outputs": [
    {
     "name": "stdout",
     "output_type": "stream",
     "text": [
      "Accuracy on train set: 0.7794791666666666\n",
      "Accuracy on test set: 0.7566666666666667\n"
     ]
    }
   ],
   "source": [
    "print(f\"Accuracy on train set: {accuracy_score(dt_train_predict, y_train)}\\nAccuracy on test set: {accuracy_score(dt_test_predict, y_test)}\")"
   ]
  },
  {
   "cell_type": "markdown",
   "id": "dc022873-1fed-4253-b82c-cd23ef948d60",
   "metadata": {},
   "source": [
    "## RANDOM FOREST"
   ]
  },
  {
   "cell_type": "code",
   "execution_count": 280,
   "id": "58038da0-7ed7-4c63-b6f0-8a532ade3f65",
   "metadata": {},
   "outputs": [],
   "source": [
    "rf = RandomForestClassifier().fit(X_train, y_train)"
   ]
  },
  {
   "cell_type": "code",
   "execution_count": 281,
   "id": "6cbaae83-5ace-430e-ba07-3b2fe2e0cb3f",
   "metadata": {},
   "outputs": [],
   "source": [
    "rf_train_predict = svm.predict(X_train)\n",
    "rf_test_predict = svm.predict(X_test)"
   ]
  },
  {
   "cell_type": "code",
   "execution_count": 298,
   "id": "105128f5-5924-4ce1-b601-06f73d416271",
   "metadata": {},
   "outputs": [
    {
     "name": "stdout",
     "output_type": "stream",
     "text": [
      "Accuracy on train set: 0.7794791666666666\n",
      "Accuracy on test set: 0.7566666666666667\n"
     ]
    }
   ],
   "source": [
    "print(f\"Accuracy on train set: {accuracy_score(rf_train_predict, y_train)}\\nAccuracy on test set: {accuracy_score(rf_test_predict, y_test)}\")"
   ]
  },
  {
   "cell_type": "markdown",
   "id": "efda07ad-c53f-4354-ab32-5e73caa75052",
   "metadata": {},
   "source": [
    "## NEURAL NETWORK"
   ]
  },
  {
   "cell_type": "code",
   "execution_count": 614,
   "id": "dd5fe5d5-53b3-4e20-a3a6-e17509352df2",
   "metadata": {},
   "outputs": [],
   "source": [
    "class NeuralNet(nn.Module):\n",
    "    def __init__(self, input_size, output_size):\n",
    "        super(NeuralNet, self).__init__()\n",
    "        self.lin1 = nn.Linear(input_size, 24)\n",
    "        self.lin2 = nn.Linear(24, output_size)\n",
    "        \n",
    "        self.activation = nn.ReLU()\n",
    "        self.sigmoid = nn.Sigmoid()\n",
    "        \n",
    "    def forward(self, x):\n",
    "        l1 = self.lin1(x)\n",
    "        l2 = self.lin2(self.activation(l1))\n",
    "        return self.sigmoid(l2.squeeze())"
   ]
  },
  {
   "cell_type": "code",
   "execution_count": 615,
   "id": "28d9c61e-e165-430d-b7c1-6ef60222f930",
   "metadata": {},
   "outputs": [
    {
     "name": "stdout",
     "output_type": "stream",
     "text": [
      "hello\n",
      "hello\n",
      "hello\n",
      "hello\n",
      "hello\n"
     ]
    }
   ],
   "source": [
    "model, train_losses, train_accuracies, test_losses, test_accuracies\\\n",
    "    = train_simple_model(X_train, y_train, X_test, y_test, random_seed)"
   ]
  },
  {
   "cell_type": "code",
   "execution_count": 616,
   "id": "60844357-061f-4d09-b70b-a01e9c8458c1",
   "metadata": {},
   "outputs": [
    {
     "data": {
      "text/plain": [
       "array([21.90625   , 22.26041667, 22.63541667, 22.9375    , 23.25      ,\n",
       "       23.64583333, 23.94791667, 24.27083333, 24.58333333, 24.84375   ,\n",
       "       25.21875   , 25.44791667, 25.73958333, 26.0625    , 26.33333333,\n",
       "       26.64583333, 27.01041667, 27.30208333, 27.65625   , 27.9375    ,\n",
       "       28.27083333, 28.48958333, 28.85416667, 29.11458333, 29.48958333,\n",
       "       29.75      , 30.03125   , 30.27083333, 30.65625   , 30.89583333,\n",
       "       31.15625   , 31.375     , 31.65625   , 31.85416667, 32.13541667,\n",
       "       32.375     , 32.66666667, 33.02083333, 33.14583333, 33.42708333,\n",
       "       33.71875   , 33.92708333, 34.20833333, 34.36458333, 34.63541667,\n",
       "       34.96875   , 35.26041667, 35.53125   , 35.83333333, 36.11458333,\n",
       "       36.32291667, 36.65625   , 36.92708333, 37.20833333, 37.4375    ,\n",
       "       37.67708333, 37.96875   , 38.22916667, 38.42708333, 38.59375   ,\n",
       "       38.73958333, 38.92708333, 39.16666667, 39.38541667, 39.63541667,\n",
       "       39.78125   , 39.98958333, 40.13541667, 40.35416667, 40.48958333,\n",
       "       40.67708333, 40.78125   , 40.90625   , 41.08333333, 41.25      ,\n",
       "       41.45833333, 41.64583333, 41.8125    , 41.96875   , 42.23958333,\n",
       "       42.41666667, 42.5625    , 42.65625   , 42.86458333, 42.98958333,\n",
       "       43.125     , 43.25      , 43.32291667, 43.42708333, 43.58333333,\n",
       "       43.64583333, 43.76041667, 43.86458333, 43.97916667, 44.07291667,\n",
       "       44.19791667, 44.35416667, 44.46875   , 44.57291667, 44.65625   ,\n",
       "       44.8125    , 44.86458333, 44.96875   , 45.0625    , 45.16666667,\n",
       "       45.25      , 45.29166667, 45.36458333, 45.40625   , 45.53125   ,\n",
       "       45.58333333, 45.64583333, 45.73958333, 45.83333333, 45.91666667,\n",
       "       45.98958333, 46.02083333, 46.09375   , 46.17708333, 46.26041667,\n",
       "       46.3125    , 46.34375   , 46.38541667, 46.42708333, 46.47916667,\n",
       "       46.51041667, 46.51041667, 46.53125   , 46.55208333, 46.61458333,\n",
       "       46.65625   , 46.70833333, 46.80208333, 46.86458333, 46.91666667,\n",
       "       46.95833333, 47.02083333, 47.05208333, 47.125     , 47.16666667,\n",
       "       47.25      , 47.3125    , 47.29166667, 47.3125    , 47.33333333,\n",
       "       47.35416667, 47.40625   , 47.48958333, 47.54166667, 47.57291667,\n",
       "       47.60416667, 47.65625   , 47.6875    , 47.75      , 47.8125    ,\n",
       "       47.84375   , 47.86458333, 47.88541667, 47.88541667, 47.92708333,\n",
       "       47.9375    , 47.95833333, 47.95833333, 48.04166667, 48.0625    ,\n",
       "       48.10416667, 48.13541667, 48.17708333, 48.19791667, 48.20833333,\n",
       "       48.27083333, 48.28125   , 48.33333333, 48.40625   , 48.4375    ,\n",
       "       48.48958333, 48.52083333, 48.51041667, 48.54166667, 48.55208333,\n",
       "       48.57291667, 48.59375   , 48.625     , 48.61458333, 48.63541667,\n",
       "       48.67708333, 48.70833333, 48.72916667, 48.76041667, 48.80208333,\n",
       "       48.82291667, 48.82291667, 48.83333333, 48.84375   , 48.86458333,\n",
       "       48.86458333, 48.88541667, 48.90625   , 48.90625   , 48.9375    ,\n",
       "       48.94791667, 48.95833333, 48.98958333, 49.        , 49.02083333,\n",
       "       49.01041667, 49.01041667, 49.02083333, 49.02083333, 49.04166667,\n",
       "       49.0625    , 49.0625    , 49.0625    , 49.0625    , 49.09375   ,\n",
       "       49.11458333, 49.125     , 49.14583333, 49.15625   , 49.15625   ,\n",
       "       49.15625   , 49.16666667, 49.16666667, 49.16666667, 49.17708333,\n",
       "       49.17708333, 49.17708333, 49.17708333, 49.17708333, 49.16666667,\n",
       "       49.17708333, 49.17708333, 49.1875    , 49.19791667, 49.20833333,\n",
       "       49.21875   , 49.21875   , 49.21875   , 49.21875   , 49.21875   ,\n",
       "       49.21875   , 49.21875   , 49.21875   , 49.21875   , 49.21875   ,\n",
       "       49.21875   , 49.21875   , 49.21875   , 49.21875   , 49.21875   ])"
      ]
     },
     "execution_count": 616,
     "metadata": {},
     "output_type": "execute_result"
    }
   ],
   "source": [
    "train_accuracies"
   ]
  },
  {
   "cell_type": "code",
   "execution_count": 576,
   "id": "bba025aa-fec6-4d4c-af6a-b75064e699d5",
   "metadata": {},
   "outputs": [],
   "source": [
    "def train_step(model, X_train, y_train, loss_fn, optimizer, device):\n",
    "    # TODO: implement one epoch of training\n",
    "    model.train()\n",
    "    X_train = X_train.to(device); y_train = y_train.to(device)\n",
    "    scores = model(X_train)\n",
    "    predictions = torch.argmax(scores, dim=1)\n",
    "\n",
    "    loss = loss_fn(scores, y_train)\n",
    "    accuracy = (torch.eq(predictions, y_train).sum().item() / len(y_train)) * 100\n",
    "\n",
    "    model.zero_grad()\n",
    "    loss.backward()\n",
    "    optimizer.step()\n",
    "\n",
    "    return (model, loss, accuracy)"
   ]
  },
  {
   "cell_type": "code",
   "execution_count": 577,
   "id": "b387f5db-aefd-4cb5-86cd-559328229d77",
   "metadata": {},
   "outputs": [],
   "source": [
    "def evaluation_step(model, X_test, y_test, loss_fn, device):\n",
    "    # TODO: implement evaluation on test set\n",
    "    model.eval()\n",
    "    X_test = X_test.to(device); y_test = y_test.to(device)\n",
    "    \n",
    "    with torch.inference_mode():\n",
    "        scores = model(X_test)\n",
    "        predictions = torch.argmax(scores, dim=1)\n",
    "\n",
    "        loss = loss_fn(scores, y_test)\n",
    "        accuracy = (torch.eq(predictions, y_test).sum().item() / len(y_test)) * 100\n",
    "    \n",
    "    return (loss, accuracy)"
   ]
  },
  {
   "cell_type": "code",
   "execution_count": 610,
   "id": "0793e8d0-b583-4415-b8b6-1ebe44adb07c",
   "metadata": {},
   "outputs": [],
   "source": [
    "def train_simple_model(X_train, y_train, X_test, y_test, random_seed):\n",
    "    # Make device\n",
    "    device = \"cpu\" \n",
    "    if torch.cuda.is_available(): \n",
    "        device = \"cuda\"\n",
    "    else:\n",
    "        if torch.backends.mps.is_available():\n",
    "            device = \"mps\" \n",
    "    \n",
    "    torch.manual_seed(random_seed) # do not change this\n",
    "\n",
    "    # TODO: write codes to train your model here\n",
    "    model = NeuralNet(input_size=54, output_size=7)\n",
    "    loss_fn = nn.CrossEntropyLoss()\n",
    "    optimizer = torch.optim.SGD(model.parameters(), lr=0.01)\n",
    "\n",
    "    n_epochs = 250\n",
    "\n",
    "    train_loss = np.zeros(n_epochs)\n",
    "    test_loss = np.zeros(n_epochs)\n",
    "    train_accuracy = np.zeros(n_epochs)\n",
    "    test_accuracy = np.zeros(n_epochs)\n",
    "\n",
    "    for i in np.arange(n_epochs):\n",
    "        if i % 50 == 0:\n",
    "            print(\"hello\")\n",
    "        model, train_loss[i], train_accuracy[i] = train_step(model, X_train, y_train, loss_fn, optimizer, device)\n",
    "        test_loss[i], test_accuracy[i] = evaluation_step(model, X_test, y_test, loss_fn, device)\n",
    "    return model, train_loss, train_accuracy, test_loss, test_accuracy"
   ]
  },
  {
   "cell_type": "code",
   "execution_count": null,
   "id": "73ccb5af-a6d9-4604-b9c4-ee31c4042820",
   "metadata": {},
   "outputs": [],
   "source": []
  }
 ],
 "metadata": {
  "kernelspec": {
   "display_name": "Python 3 (ipykernel)",
   "language": "python",
   "name": "python3"
  },
  "language_info": {
   "codemirror_mode": {
    "name": "ipython",
    "version": 3
   },
   "file_extension": ".py",
   "mimetype": "text/x-python",
   "name": "python",
   "nbconvert_exporter": "python",
   "pygments_lexer": "ipython3",
   "version": "3.11.5"
  }
 },
 "nbformat": 4,
 "nbformat_minor": 5
}
