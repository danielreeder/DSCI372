{
 "cells": [
  {
   "cell_type": "code",
   "execution_count": 868,
   "id": "93534fd9-0b8b-426b-9144-6d9d2c2c7f6d",
   "metadata": {},
   "outputs": [],
   "source": [
    "import numpy as np\n",
    "import pandas as pd\n",
    "import matplotlib.pyplot as plt\n",
    "import seaborn as sns\n",
    "import torch\n",
    "\n",
    "from torch import nn\n",
    "from sklearn.linear_model import LogisticRegression\n",
    "from sklearn.metrics import accuracy_score, classification_report, confusion_matrix, roc_curve, auc\n",
    "from sklearn.svm import SVC\n",
    "from sklearn.tree import DecisionTreeClassifier, plot_tree\n",
    "from sklearn.ensemble import RandomForestClassifier\n",
    "from sklearn.model_selection import train_test_split"
   ]
  },
  {
   "cell_type": "code",
   "execution_count": 966,
   "id": "48ccf947-d908-4f29-a70a-45250a37afa3",
   "metadata": {},
   "outputs": [],
   "source": [
    "df = pd.read_csv(\"data/covtype.csv\")\n",
    "random_seed = 1\n",
    "torch.manual_seed(random_seed)\n",
    "np.random.seed(random_seed)\n",
    "\n",
    "# split original dataset into train and test set, 80/20 ratio\n",
    "train, test = train_test_split(df, test_size=0.2, train_size=0.8)\n",
    "\n",
    "train.reset_index(drop=True, inplace=True); test.reset_index(drop=True, inplace=True);\n",
    "\n",
    "# separate features from labels for train, valid, and test sets\n",
    "X_train, X_valid, y_train, y_valid = train_test_split(X_train, y_train, test_size=0.2)\n",
    "X_train = train.iloc[:, :-1].values; y_train = train.iloc[:, -1].values;\n",
    "X_test = test.iloc[:, :-1].values; y_test = test.iloc[:, -1].values;\n",
    "\n",
    "X_train = torch.Tensor(X_train).type(torch.float); y_train = torch.Tensor(y_train).type(torch.LongTensor)\n",
    "X_valid = torch.Tensor(X_valid).type(torch.float); y_valid = torch.Tensor(y_valid).type(torch.LongTensor)\n",
    "X_test = torch.Tensor(X_test).type(torch.float); y_test = torch.Tensor(y_test).type(torch.LongTensor)"
   ]
  },
  {
   "cell_type": "markdown",
   "id": "9d6b1f80-3748-4f18-8c83-a3198414d6d2",
   "metadata": {},
   "source": [
    "## LOGISTIC REGRESSION"
   ]
  },
  {
   "cell_type": "code",
   "execution_count": 939,
   "id": "81b4f769-db16-490e-a680-c7ecace62274",
   "metadata": {},
   "outputs": [],
   "source": [
    "lr = LogisticRegression(fit_intercept=True, max_iter=1000)\n",
    "lr.fit(X_train, y_train);\n"
   ]
  },
  {
   "cell_type": "code",
   "execution_count": 940,
   "id": "4c45aa9e-acdf-4238-b049-12b136a02126",
   "metadata": {},
   "outputs": [],
   "source": [
    "log_reg_train_score = lr.score(X_train, y_train)\n",
    "log_reg_valid_score = lr.score(X_valid, y_valid)\n",
    "log_reg_test_score = lr.score(X_test, y_test)\n"
   ]
  },
  {
   "cell_type": "code",
   "execution_count": 941,
   "id": "712a2cb5-1e87-4617-9c08-cfee4f36cecc",
   "metadata": {},
   "outputs": [
    {
     "name": "stdout",
     "output_type": "stream",
     "text": [
      "Accuracy on train set: 0.719\n",
      "Accuracy on valid set: 0.715625\n",
      "Accuracy on test set: 0.7195\n"
     ]
    }
   ],
   "source": [
    "print(f\"Accuracy on train set: {log_reg_train_score}\\nAccuracy on valid set: {log_reg_valid_score}\\nAccuracy on test set: {log_reg_test_score}\")"
   ]
  },
  {
   "cell_type": "markdown",
   "id": "c0e67853-0330-46a1-a4fd-a83ca6a330cd",
   "metadata": {},
   "source": [
    "## SUPPORT VECTOR MACHINE"
   ]
  },
  {
   "cell_type": "code",
   "execution_count": 942,
   "id": "b25960df-abf0-4578-9942-db3a0af23302",
   "metadata": {},
   "outputs": [],
   "source": [
    "svm_rbf = SVC(kernel='rbf')\n",
    "svm_linear = SVC(kernel='linear')\n",
    "\n",
    "svm_rbf.fit(X_train, y_train)\n",
    "svm_linear.fit(X_train, y_train);"
   ]
  },
  {
   "cell_type": "code",
   "execution_count": 943,
   "id": "a823425b-7445-4aa0-88d4-77ce1e465a2d",
   "metadata": {},
   "outputs": [],
   "source": [
    "svm_rbf_train_score = svm_rbf.score(X_train, y_train)\n",
    "svm_rbf_valid_score = svm_rbf.score(X_valid, y_valid)\n",
    "svm_rbf_test_score = svm_rbf.score(X_test, y_test)\n",
    "\n",
    "svm_linear_train_score = svm_linear.score(X_train, y_train)\n",
    "svm_linear_valid_score = svm_linear.score(X_valid, y_valid)\n",
    "svm_linear_test_score = svm_linear.score(X_test, y_test)"
   ]
  },
  {
   "cell_type": "code",
   "execution_count": 946,
   "id": "2e230f55-b1a5-4ee9-812b-1a3125922b63",
   "metadata": {},
   "outputs": [
    {
     "name": "stdout",
     "output_type": "stream",
     "text": [
      "Accuracy on train set (rbf kernel): 0.77875\n",
      "Accuracy on valid set (rbf kernel): 0.780625\n",
      "Accuracy on test set (rbf kernel): 0.7525\n",
      "\n",
      "Accuracy on train set (linear kernel): 0.723\n",
      "Accuracy on valid set (linear kernel): 0.716875\n",
      "Accuracy on test set (linear kernel): 0.7185\n"
     ]
    }
   ],
   "source": [
    "print(f\"Accuracy on train set (rbf kernel): {svm_rbf_train_score}\\nAccuracy on valid set (rbf kernel): {svm_rbf_valid_score}\\nAccuracy on test set (rbf kernel): {svm_rbf_test_score}\\n\\nAccuracy on train set (linear kernel): {svm_linear_train_score}\\nAccuracy on valid set (linear kernel): {svm_linear_valid_score}\\nAccuracy on test set (linear kernel): {svm_linear_test_score}\")\n",
    "\n",
    "\n"
   ]
  },
  {
   "cell_type": "markdown",
   "id": "c94040cc-3319-48cf-a4e4-2306b4d5b13f",
   "metadata": {},
   "source": [
    "## DECISION TREE"
   ]
  },
  {
   "cell_type": "code",
   "execution_count": 948,
   "id": "87a449a9-5d3f-4d5f-a355-d26d1f3c8961",
   "metadata": {},
   "outputs": [
    {
     "data": {
      "text/html": [
       "<style>#sk-container-id-17 {color: black;background-color: white;}#sk-container-id-17 pre{padding: 0;}#sk-container-id-17 div.sk-toggleable {background-color: white;}#sk-container-id-17 label.sk-toggleable__label {cursor: pointer;display: block;width: 100%;margin-bottom: 0;padding: 0.3em;box-sizing: border-box;text-align: center;}#sk-container-id-17 label.sk-toggleable__label-arrow:before {content: \"▸\";float: left;margin-right: 0.25em;color: #696969;}#sk-container-id-17 label.sk-toggleable__label-arrow:hover:before {color: black;}#sk-container-id-17 div.sk-estimator:hover label.sk-toggleable__label-arrow:before {color: black;}#sk-container-id-17 div.sk-toggleable__content {max-height: 0;max-width: 0;overflow: hidden;text-align: left;background-color: #f0f8ff;}#sk-container-id-17 div.sk-toggleable__content pre {margin: 0.2em;color: black;border-radius: 0.25em;background-color: #f0f8ff;}#sk-container-id-17 input.sk-toggleable__control:checked~div.sk-toggleable__content {max-height: 200px;max-width: 100%;overflow: auto;}#sk-container-id-17 input.sk-toggleable__control:checked~label.sk-toggleable__label-arrow:before {content: \"▾\";}#sk-container-id-17 div.sk-estimator input.sk-toggleable__control:checked~label.sk-toggleable__label {background-color: #d4ebff;}#sk-container-id-17 div.sk-label input.sk-toggleable__control:checked~label.sk-toggleable__label {background-color: #d4ebff;}#sk-container-id-17 input.sk-hidden--visually {border: 0;clip: rect(1px 1px 1px 1px);clip: rect(1px, 1px, 1px, 1px);height: 1px;margin: -1px;overflow: hidden;padding: 0;position: absolute;width: 1px;}#sk-container-id-17 div.sk-estimator {font-family: monospace;background-color: #f0f8ff;border: 1px dotted black;border-radius: 0.25em;box-sizing: border-box;margin-bottom: 0.5em;}#sk-container-id-17 div.sk-estimator:hover {background-color: #d4ebff;}#sk-container-id-17 div.sk-parallel-item::after {content: \"\";width: 100%;border-bottom: 1px solid gray;flex-grow: 1;}#sk-container-id-17 div.sk-label:hover label.sk-toggleable__label {background-color: #d4ebff;}#sk-container-id-17 div.sk-serial::before {content: \"\";position: absolute;border-left: 1px solid gray;box-sizing: border-box;top: 0;bottom: 0;left: 50%;z-index: 0;}#sk-container-id-17 div.sk-serial {display: flex;flex-direction: column;align-items: center;background-color: white;padding-right: 0.2em;padding-left: 0.2em;position: relative;}#sk-container-id-17 div.sk-item {position: relative;z-index: 1;}#sk-container-id-17 div.sk-parallel {display: flex;align-items: stretch;justify-content: center;background-color: white;position: relative;}#sk-container-id-17 div.sk-item::before, #sk-container-id-17 div.sk-parallel-item::before {content: \"\";position: absolute;border-left: 1px solid gray;box-sizing: border-box;top: 0;bottom: 0;left: 50%;z-index: -1;}#sk-container-id-17 div.sk-parallel-item {display: flex;flex-direction: column;z-index: 1;position: relative;background-color: white;}#sk-container-id-17 div.sk-parallel-item:first-child::after {align-self: flex-end;width: 50%;}#sk-container-id-17 div.sk-parallel-item:last-child::after {align-self: flex-start;width: 50%;}#sk-container-id-17 div.sk-parallel-item:only-child::after {width: 0;}#sk-container-id-17 div.sk-dashed-wrapped {border: 1px dashed gray;margin: 0 0.4em 0.5em 0.4em;box-sizing: border-box;padding-bottom: 0.4em;background-color: white;}#sk-container-id-17 div.sk-label label {font-family: monospace;font-weight: bold;display: inline-block;line-height: 1.2em;}#sk-container-id-17 div.sk-label-container {text-align: center;}#sk-container-id-17 div.sk-container {/* jupyter's `normalize.less` sets `[hidden] { display: none; }` but bootstrap.min.css set `[hidden] { display: none !important; }` so we also need the `!important` here to be able to override the default hidden behavior on the sphinx rendered scikit-learn.org. See: https://github.com/scikit-learn/scikit-learn/issues/21755 */display: inline-block !important;position: relative;}#sk-container-id-17 div.sk-text-repr-fallback {display: none;}</style><div id=\"sk-container-id-17\" class=\"sk-top-container\"><div class=\"sk-text-repr-fallback\"><pre>DecisionTreeClassifier()</pre><b>In a Jupyter environment, please rerun this cell to show the HTML representation or trust the notebook. <br />On GitHub, the HTML representation is unable to render, please try loading this page with nbviewer.org.</b></div><div class=\"sk-container\" hidden><div class=\"sk-item\"><div class=\"sk-estimator sk-toggleable\"><input class=\"sk-toggleable__control sk-hidden--visually\" id=\"sk-estimator-id-37\" type=\"checkbox\" checked><label for=\"sk-estimator-id-37\" class=\"sk-toggleable__label sk-toggleable__label-arrow\">DecisionTreeClassifier</label><div class=\"sk-toggleable__content\"><pre>DecisionTreeClassifier()</pre></div></div></div></div></div>"
      ],
      "text/plain": [
       "DecisionTreeClassifier()"
      ]
     },
     "execution_count": 948,
     "metadata": {},
     "output_type": "execute_result"
    }
   ],
   "source": [
    "dt = DecisionTreeClassifier()\n",
    "dt.fit(X_train, y_train)"
   ]
  },
  {
   "cell_type": "code",
   "execution_count": 949,
   "id": "b56c5b4b-e4e4-4290-9b80-99e958143618",
   "metadata": {},
   "outputs": [],
   "source": [
    "dt_train_score = dt.score(X_train, y_train)\n",
    "dt_valid_score = dt.score(X_valid, y_valid)\n",
    "dt_test_score = dt.score(X_test, y_test)"
   ]
  },
  {
   "cell_type": "code",
   "execution_count": 951,
   "id": "53e85216-620a-41ca-b96d-d35f8f72cb85",
   "metadata": {},
   "outputs": [
    {
     "name": "stdout",
     "output_type": "stream",
     "text": [
      "Accuracy on train set: 1.0\n",
      "Accuracy on valid set: 1.0\n",
      "Accuracy on test set: 0.711\n"
     ]
    }
   ],
   "source": [
    "print(f\"Accuracy on train set: {dt_train_score}\\nAccuracy on valid set: {dt_valid_score}\\nAccuracy on test set: {dt_test_score}\")"
   ]
  },
  {
   "cell_type": "markdown",
   "id": "dc022873-1fed-4253-b82c-cd23ef948d60",
   "metadata": {},
   "source": [
    "## RANDOM FOREST"
   ]
  },
  {
   "cell_type": "code",
   "execution_count": 955,
   "id": "58038da0-7ed7-4c63-b6f0-8a532ade3f65",
   "metadata": {},
   "outputs": [
    {
     "data": {
      "text/html": [
       "<style>#sk-container-id-19 {color: black;background-color: white;}#sk-container-id-19 pre{padding: 0;}#sk-container-id-19 div.sk-toggleable {background-color: white;}#sk-container-id-19 label.sk-toggleable__label {cursor: pointer;display: block;width: 100%;margin-bottom: 0;padding: 0.3em;box-sizing: border-box;text-align: center;}#sk-container-id-19 label.sk-toggleable__label-arrow:before {content: \"▸\";float: left;margin-right: 0.25em;color: #696969;}#sk-container-id-19 label.sk-toggleable__label-arrow:hover:before {color: black;}#sk-container-id-19 div.sk-estimator:hover label.sk-toggleable__label-arrow:before {color: black;}#sk-container-id-19 div.sk-toggleable__content {max-height: 0;max-width: 0;overflow: hidden;text-align: left;background-color: #f0f8ff;}#sk-container-id-19 div.sk-toggleable__content pre {margin: 0.2em;color: black;border-radius: 0.25em;background-color: #f0f8ff;}#sk-container-id-19 input.sk-toggleable__control:checked~div.sk-toggleable__content {max-height: 200px;max-width: 100%;overflow: auto;}#sk-container-id-19 input.sk-toggleable__control:checked~label.sk-toggleable__label-arrow:before {content: \"▾\";}#sk-container-id-19 div.sk-estimator input.sk-toggleable__control:checked~label.sk-toggleable__label {background-color: #d4ebff;}#sk-container-id-19 div.sk-label input.sk-toggleable__control:checked~label.sk-toggleable__label {background-color: #d4ebff;}#sk-container-id-19 input.sk-hidden--visually {border: 0;clip: rect(1px 1px 1px 1px);clip: rect(1px, 1px, 1px, 1px);height: 1px;margin: -1px;overflow: hidden;padding: 0;position: absolute;width: 1px;}#sk-container-id-19 div.sk-estimator {font-family: monospace;background-color: #f0f8ff;border: 1px dotted black;border-radius: 0.25em;box-sizing: border-box;margin-bottom: 0.5em;}#sk-container-id-19 div.sk-estimator:hover {background-color: #d4ebff;}#sk-container-id-19 div.sk-parallel-item::after {content: \"\";width: 100%;border-bottom: 1px solid gray;flex-grow: 1;}#sk-container-id-19 div.sk-label:hover label.sk-toggleable__label {background-color: #d4ebff;}#sk-container-id-19 div.sk-serial::before {content: \"\";position: absolute;border-left: 1px solid gray;box-sizing: border-box;top: 0;bottom: 0;left: 50%;z-index: 0;}#sk-container-id-19 div.sk-serial {display: flex;flex-direction: column;align-items: center;background-color: white;padding-right: 0.2em;padding-left: 0.2em;position: relative;}#sk-container-id-19 div.sk-item {position: relative;z-index: 1;}#sk-container-id-19 div.sk-parallel {display: flex;align-items: stretch;justify-content: center;background-color: white;position: relative;}#sk-container-id-19 div.sk-item::before, #sk-container-id-19 div.sk-parallel-item::before {content: \"\";position: absolute;border-left: 1px solid gray;box-sizing: border-box;top: 0;bottom: 0;left: 50%;z-index: -1;}#sk-container-id-19 div.sk-parallel-item {display: flex;flex-direction: column;z-index: 1;position: relative;background-color: white;}#sk-container-id-19 div.sk-parallel-item:first-child::after {align-self: flex-end;width: 50%;}#sk-container-id-19 div.sk-parallel-item:last-child::after {align-self: flex-start;width: 50%;}#sk-container-id-19 div.sk-parallel-item:only-child::after {width: 0;}#sk-container-id-19 div.sk-dashed-wrapped {border: 1px dashed gray;margin: 0 0.4em 0.5em 0.4em;box-sizing: border-box;padding-bottom: 0.4em;background-color: white;}#sk-container-id-19 div.sk-label label {font-family: monospace;font-weight: bold;display: inline-block;line-height: 1.2em;}#sk-container-id-19 div.sk-label-container {text-align: center;}#sk-container-id-19 div.sk-container {/* jupyter's `normalize.less` sets `[hidden] { display: none; }` but bootstrap.min.css set `[hidden] { display: none !important; }` so we also need the `!important` here to be able to override the default hidden behavior on the sphinx rendered scikit-learn.org. See: https://github.com/scikit-learn/scikit-learn/issues/21755 */display: inline-block !important;position: relative;}#sk-container-id-19 div.sk-text-repr-fallback {display: none;}</style><div id=\"sk-container-id-19\" class=\"sk-top-container\"><div class=\"sk-text-repr-fallback\"><pre>RandomForestClassifier()</pre><b>In a Jupyter environment, please rerun this cell to show the HTML representation or trust the notebook. <br />On GitHub, the HTML representation is unable to render, please try loading this page with nbviewer.org.</b></div><div class=\"sk-container\" hidden><div class=\"sk-item\"><div class=\"sk-estimator sk-toggleable\"><input class=\"sk-toggleable__control sk-hidden--visually\" id=\"sk-estimator-id-39\" type=\"checkbox\" checked><label for=\"sk-estimator-id-39\" class=\"sk-toggleable__label sk-toggleable__label-arrow\">RandomForestClassifier</label><div class=\"sk-toggleable__content\"><pre>RandomForestClassifier()</pre></div></div></div></div></div>"
      ],
      "text/plain": [
       "RandomForestClassifier()"
      ]
     },
     "execution_count": 955,
     "metadata": {},
     "output_type": "execute_result"
    }
   ],
   "source": [
    "rf = RandomForestClassifier()\n",
    "rf.fit(X_train, y_train)"
   ]
  },
  {
   "cell_type": "code",
   "execution_count": 957,
   "id": "6cbaae83-5ace-430e-ba07-3b2fe2e0cb3f",
   "metadata": {},
   "outputs": [],
   "source": [
    "rf_train_score = rf.score(X_train, y_train)\n",
    "rf_valid_score = rf.score(X_valid, y_valid)\n",
    "rf_test_score = rf.score(X_test, y_test)"
   ]
  },
  {
   "cell_type": "code",
   "execution_count": 959,
   "id": "105128f5-5924-4ce1-b601-06f73d416271",
   "metadata": {},
   "outputs": [
    {
     "name": "stdout",
     "output_type": "stream",
     "text": [
      "Accuracy on train set: 1.0\n",
      "Accurayc on valid set: 1.0\n",
      "Accuracy on test set: 0.803\n"
     ]
    }
   ],
   "source": [
    "print(f\"Accuracy on train set: {rf_train_score}\\nAccurayc on valid set: {rf_valid_score}\\nAccuracy on test set: {rf_test_score}\")"
   ]
  },
  {
   "cell_type": "markdown",
   "id": "efda07ad-c53f-4354-ab32-5e73caa75052",
   "metadata": {},
   "source": [
    "## NEURAL NETWORK"
   ]
  },
  {
   "cell_type": "code",
   "execution_count": 1051,
   "id": "dd5fe5d5-53b3-4e20-a3a6-e17509352df2",
   "metadata": {},
   "outputs": [],
   "source": [
    "class NeuralNet(nn.Module):\n",
    "    def __init__(self, input_size, output_size, lin_size):\n",
    "        super(NeuralNet, self).__init__()\n",
    "        self.lin1 = nn.Linear(input_size, lin_size)\n",
    "        self.lin2 = nn.Linear(lin_size, lin_size//2)\n",
    "        self.lin3 = nn.Linear(lin_size//2, lin_size//4)\n",
    "        self.lin4 = nn.Linear(lin_size//4, output_size)\n",
    "        \n",
    "        self.activation = nn.ReLU()\n",
    "        self.LogSoftmax = nn.LogSoftmax()\n",
    "        \n",
    "    def forward(self, x):\n",
    "        l1 = self.lin1(x)\n",
    "        l2 = self.lin2(self.activation(l1))\n",
    "        l3 = self.lin3(self.activation(l2))\n",
    "        l4 = self.lin4(self.activation(l3))\n",
    "        return self.LogSoftmax(l4)"
   ]
  },
  {
   "cell_type": "code",
   "execution_count": 1075,
   "id": "0793e8d0-b583-4415-b8b6-1ebe44adb07c",
   "metadata": {},
   "outputs": [],
   "source": [
    "def train_simple_model(X_train, y_train, X_test, y_test, X_valid, y_valid, lin_size, lr, random_seed):\n",
    "    # Make device\n",
    "    device = \"cpu\" \n",
    "    if torch.cuda.is_available(): \n",
    "        device = \"cuda\"\n",
    "    else:\n",
    "        if torch.backends.mps.is_available():\n",
    "            device = \"mps\" \n",
    "    \n",
    "    torch.manual_seed(random_seed) # do not change this\n",
    "\n",
    "    # TODO: write codes to train your model here\n",
    "    model = NeuralNet(input_size=54, output_size=7, lin_size=lin_size)\n",
    "    loss_fn = nn.CrossEntropyLoss()\n",
    "    optimizer = torch.optim.SGD(model.parameters(), lr=lr)\n",
    "\n",
    "    n_epochs = 200\n",
    "\n",
    "    train_loss = np.zeros(n_epochs)\n",
    "    test_loss = np.zeros(n_epochs)\n",
    "    valid_loss = np.zeros(n_epochs)\n",
    "    valid_accuracy = np.zeros(n_epochs)\n",
    "    train_accuracy = np.zeros(n_epochs)\n",
    "    test_accuracy = np.zeros(n_epochs)\n",
    "\n",
    "    for i in np.arange(n_epochs):\n",
    "        model, train_loss[i], train_accuracy[i] = train_step(model, X_train, y_train, loss_fn, optimizer, device)\n",
    "        valid_loss[i], valid_accuracy[i] = evaluation_step(model, X_valid, y_valid, loss_fn, device)\n",
    "        test_loss[i], test_accuracy[i] = evaluation_step(model, X_test, y_test, loss_fn, device)\n",
    "    return model, train_loss, train_accuracy, test_loss, test_accuracy, valid_loss, valid_accuracy"
   ]
  },
  {
   "cell_type": "code",
   "execution_count": 576,
   "id": "bba025aa-fec6-4d4c-af6a-b75064e699d5",
   "metadata": {},
   "outputs": [],
   "source": [
    "def train_step(model, X_train, y_train, loss_fn, optimizer, device):\n",
    "    # TODO: implement one epoch of training\n",
    "    model.train()\n",
    "    X_train = X_train.to(device); y_train = y_train.to(device)\n",
    "    scores = model(X_train)\n",
    "    predictions = torch.argmax(scores, dim=1)\n",
    "\n",
    "    loss = loss_fn(scores, y_train)\n",
    "    accuracy = (torch.eq(predictions, y_train).sum().item() / len(y_train)) * 100\n",
    "\n",
    "    model.zero_grad()\n",
    "    loss.backward()\n",
    "    optimizer.step()\n",
    "\n",
    "    return (model, loss, accuracy)"
   ]
  },
  {
   "cell_type": "code",
   "execution_count": 577,
   "id": "b387f5db-aefd-4cb5-86cd-559328229d77",
   "metadata": {},
   "outputs": [],
   "source": [
    "def evaluation_step(model, X_test, y_test, loss_fn, device):\n",
    "    # TODO: implement evaluation on test set\n",
    "    model.eval()\n",
    "    X_test = X_test.to(device); y_test = y_test.to(device)\n",
    "    \n",
    "    with torch.inference_mode():\n",
    "        scores = model(X_test)\n",
    "        predictions = torch.argmax(scores, dim=1)\n",
    "\n",
    "        loss = loss_fn(scores, y_test)\n",
    "        accuracy = (torch.eq(predictions, y_test).sum().item() / len(y_test)) * 100\n",
    "    \n",
    "    return (loss, accuracy)"
   ]
  },
  {
   "cell_type": "code",
   "execution_count": 1061,
   "id": "19739ef7-a376-4a8f-977a-0be2e54c22bc",
   "metadata": {},
   "outputs": [],
   "source": [
    "# TUNING HYPERPARAMETERS\n",
    "# CHECK VALIDATION ACCURACY FOR EACH COMBO OF LINEAR SIZE AND LEARNING RATE\n",
    "\n",
    "# models = np.empty(48, dtype=NeuralNet)\n",
    "# valid_accuracies = np.zeros(48)\n",
    "# valid_losses = np.zeros(40)\n",
    "# i = 0\n",
    "# for lin_size in np.array([64, 80, 96, 128, 160, 200]):\n",
    "#     for lr in np.array([0.15, 0.2, 0.225, 0.25, 0.275, 0.3, 0.5, 0.75]):\n",
    "#         models[i], train_loss, train_accuracy, test_loss, test_accuracy, valid_loss, valid_accuracy\\\n",
    "#         = train_simple_model(X_train, y_train, X_test, y_test, X_valid, y_valid, lin_size, lr, random_seed)\n",
    "#         valid_accuracies[i] = valid_accuracy[-1]\n",
    "#         valid_losses[i] = valid_loss[-1]\n",
    "#         i += 1\n",
    "#         print(f\"Lin size: {lin_size}\\tLearning Rate: {lr}\\tValid Accuracy: {max(valid_accuracy)}\")\n",
    "\n",
    "lin_size = 128\n",
    "lr = 0.3"
   ]
  },
  {
   "cell_type": "code",
   "execution_count": 1076,
   "id": "28d9c61e-e165-430d-b7c1-6ef60222f930",
   "metadata": {},
   "outputs": [],
   "source": [
    "train_accuracy = np.zeros(10)\n",
    "valid_accuracy = np.zeros(10)\n",
    "test_accuracy = np.zeros(10)\n",
    "\n",
    "i = 0\n",
    "for random_seed in np.random.randint(100, size=10):\n",
    "    model, train_losses, train_accuracies, test_losses, test_accuracies, valid_losses, valid_accuracies\\\n",
    "        = train_simple_model(X_train, y_train, X_test, y_test, X_valid, y_valid, lin_size, lr, random_seed)\n",
    "    train_accuracy[i] = train_accuracies[-1]\n",
    "    valid_accuracy[i] = valid_accuracies[-1]\n",
    "    test_accuracy[i] = test_accuracies[-1]\n",
    "    i += 1"
   ]
  },
  {
   "cell_type": "code",
   "execution_count": 1077,
   "id": "5a26f89b-a49c-4f56-a287-851df2c31614",
   "metadata": {},
   "outputs": [
    {
     "name": "stdout",
     "output_type": "stream",
     "text": [
      "Average Train Accuracy: 71.13374999999999\n",
      "Average Test Accuracy: 70.065\n",
      "Average Valid Accuracy: 71.65\n"
     ]
    }
   ],
   "source": [
    "print(f\"Average Train Accuracy: {np.mean(train_accuracy)}\\nAverage Test Accuracy: {np.mean(test_accuracy)}\\nAverage Valid Accuracy: {np.mean(valid_accuracy)}\")"
   ]
  },
  {
   "cell_type": "code",
   "execution_count": null,
   "id": "73ccb5af-a6d9-4604-b9c4-ee31c4042820",
   "metadata": {},
   "outputs": [],
   "source": []
  }
 ],
 "metadata": {
  "kernelspec": {
   "display_name": "Python 3 (ipykernel)",
   "language": "python",
   "name": "python3"
  },
  "language_info": {
   "codemirror_mode": {
    "name": "ipython",
    "version": 3
   },
   "file_extension": ".py",
   "mimetype": "text/x-python",
   "name": "python",
   "nbconvert_exporter": "python",
   "pygments_lexer": "ipython3",
   "version": "3.11.5"
  }
 },
 "nbformat": 4,
 "nbformat_minor": 5
}
