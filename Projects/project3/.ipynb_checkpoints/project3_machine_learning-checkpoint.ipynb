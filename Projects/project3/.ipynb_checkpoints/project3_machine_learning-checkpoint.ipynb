{
 "cells": [
  {
   "cell_type": "code",
   "execution_count": 868,
   "id": "93534fd9-0b8b-426b-9144-6d9d2c2c7f6d",
   "metadata": {},
   "outputs": [],
   "source": [
    "import numpy as np\n",
    "import pandas as pd\n",
    "import matplotlib.pyplot as plt\n",
    "import seaborn as sns\n",
    "import torch\n",
    "\n",
    "from torch import nn\n",
    "from sklearn.linear_model import LogisticRegression\n",
    "from sklearn.metrics import accuracy_score, classification_report, confusion_matrix, roc_curve, auc\n",
    "from sklearn.svm import SVC\n",
    "from sklearn.tree import DecisionTreeClassifier, plot_tree\n",
    "from sklearn.ensemble import RandomForestClassifier\n",
    "from sklearn.model_selection import train_test_split"
   ]
  },
  {
   "cell_type": "code",
   "execution_count": 909,
   "id": "48ccf947-d908-4f29-a70a-45250a37afa3",
   "metadata": {},
   "outputs": [],
   "source": [
    "df = pd.read_csv(\"data/covtype.csv\")\n",
    "random_seed = 1\n",
    "torch.manual_seed(random_seed)\n",
    "np.random.seed(random_seed)\n",
    "\n",
    "# split original dataset into train and test set, 80/20 ratio\n",
    "train, test = train_test_split(df, test_size=0.2, train_size=0.8)\n",
    "\n",
    "train.reset_index(drop=True, inplace=True); test.reset_index(drop=True, inplace=True);\n",
    "\n",
    "# separate features from labels for train and test sets\n",
    "# not explicitly making a validation set, using k-fold validation via sklearn's GridSearchCV function\n",
    "X_train = train.iloc[:, :-1].values; y_train = train.iloc[:, -1].values;\n",
    "X_test = test.iloc[:, :-1].values; y_test = test.iloc[:, -1].values;\n",
    "\n",
    "X_train = torch.Tensor(X_train).type(torch.float); y_train = torch.Tensor(y_train).type(torch.LongTensor)\n",
    "X_test = torch.Tensor(X_test).type(torch.float); y_test = torch.Tensor(y_test).type(torch.LongTensor)"
   ]
  },
  {
   "cell_type": "markdown",
   "id": "9d6b1f80-3748-4f18-8c83-a3198414d6d2",
   "metadata": {},
   "source": [
    "## LOGISTIC REGRESSION"
   ]
  },
  {
   "cell_type": "code",
   "execution_count": 912,
   "id": "81b4f769-db16-490e-a680-c7ecace62274",
   "metadata": {},
   "outputs": [],
   "source": [
    "lr = LogisticRegression(fit_intercept=True, max_iter=1000)\n",
    "lr.fit(X_train, y_train);"
   ]
  },
  {
   "cell_type": "code",
   "execution_count": 911,
   "id": "4c45aa9e-acdf-4238-b049-12b136a02126",
   "metadata": {},
   "outputs": [
    {
     "ename": "ValueError",
     "evalue": "X has 54 features, but LogisticRegression is expecting 10 features as input.",
     "output_type": "error",
     "traceback": [
      "\u001b[0;31m---------------------------------------------------------------------------\u001b[0m",
      "\u001b[0;31mValueError\u001b[0m                                Traceback (most recent call last)",
      "Cell \u001b[0;32mIn[911], line 1\u001b[0m\n\u001b[0;32m----> 1\u001b[0m log_reg_train_score \u001b[38;5;241m=\u001b[39m log_reg\u001b[38;5;241m.\u001b[39mscore(X_train, y_train)\n\u001b[1;32m      2\u001b[0m log_reg_valid_score \u001b[38;5;241m=\u001b[39m log_reg\u001b[38;5;241m.\u001b[39mscore(X_valid, y_valid)\n\u001b[1;32m      3\u001b[0m log_reg_test_score \u001b[38;5;241m=\u001b[39m log_reg\u001b[38;5;241m.\u001b[39mscore(X_test, y_test)\n",
      "File \u001b[0;32m~/anaconda3/lib/python3.11/site-packages/sklearn/base.py:668\u001b[0m, in \u001b[0;36mClassifierMixin.score\u001b[0;34m(self, X, y, sample_weight)\u001b[0m\n\u001b[1;32m    643\u001b[0m \u001b[38;5;250m\u001b[39m\u001b[38;5;124;03m\"\"\"\u001b[39;00m\n\u001b[1;32m    644\u001b[0m \u001b[38;5;124;03mReturn the mean accuracy on the given test data and labels.\u001b[39;00m\n\u001b[1;32m    645\u001b[0m \n\u001b[0;32m   (...)\u001b[0m\n\u001b[1;32m    664\u001b[0m \u001b[38;5;124;03m    Mean accuracy of ``self.predict(X)`` w.r.t. `y`.\u001b[39;00m\n\u001b[1;32m    665\u001b[0m \u001b[38;5;124;03m\"\"\"\u001b[39;00m\n\u001b[1;32m    666\u001b[0m \u001b[38;5;28;01mfrom\u001b[39;00m \u001b[38;5;21;01m.\u001b[39;00m\u001b[38;5;21;01mmetrics\u001b[39;00m \u001b[38;5;28;01mimport\u001b[39;00m accuracy_score\n\u001b[0;32m--> 668\u001b[0m \u001b[38;5;28;01mreturn\u001b[39;00m accuracy_score(y, \u001b[38;5;28mself\u001b[39m\u001b[38;5;241m.\u001b[39mpredict(X), sample_weight\u001b[38;5;241m=\u001b[39msample_weight)\n",
      "File \u001b[0;32m~/anaconda3/lib/python3.11/site-packages/sklearn/linear_model/_base.py:419\u001b[0m, in \u001b[0;36mLinearClassifierMixin.predict\u001b[0;34m(self, X)\u001b[0m\n\u001b[1;32m    405\u001b[0m \u001b[38;5;250m\u001b[39m\u001b[38;5;124;03m\"\"\"\u001b[39;00m\n\u001b[1;32m    406\u001b[0m \u001b[38;5;124;03mPredict class labels for samples in X.\u001b[39;00m\n\u001b[1;32m    407\u001b[0m \n\u001b[0;32m   (...)\u001b[0m\n\u001b[1;32m    416\u001b[0m \u001b[38;5;124;03m    Vector containing the class labels for each sample.\u001b[39;00m\n\u001b[1;32m    417\u001b[0m \u001b[38;5;124;03m\"\"\"\u001b[39;00m\n\u001b[1;32m    418\u001b[0m xp, _ \u001b[38;5;241m=\u001b[39m get_namespace(X)\n\u001b[0;32m--> 419\u001b[0m scores \u001b[38;5;241m=\u001b[39m \u001b[38;5;28mself\u001b[39m\u001b[38;5;241m.\u001b[39mdecision_function(X)\n\u001b[1;32m    420\u001b[0m \u001b[38;5;28;01mif\u001b[39;00m \u001b[38;5;28mlen\u001b[39m(scores\u001b[38;5;241m.\u001b[39mshape) \u001b[38;5;241m==\u001b[39m \u001b[38;5;241m1\u001b[39m:\n\u001b[1;32m    421\u001b[0m     indices \u001b[38;5;241m=\u001b[39m xp\u001b[38;5;241m.\u001b[39mastype(scores \u001b[38;5;241m>\u001b[39m \u001b[38;5;241m0\u001b[39m, \u001b[38;5;28mint\u001b[39m)\n",
      "File \u001b[0;32m~/anaconda3/lib/python3.11/site-packages/sklearn/linear_model/_base.py:400\u001b[0m, in \u001b[0;36mLinearClassifierMixin.decision_function\u001b[0;34m(self, X)\u001b[0m\n\u001b[1;32m    397\u001b[0m check_is_fitted(\u001b[38;5;28mself\u001b[39m)\n\u001b[1;32m    398\u001b[0m xp, _ \u001b[38;5;241m=\u001b[39m get_namespace(X)\n\u001b[0;32m--> 400\u001b[0m X \u001b[38;5;241m=\u001b[39m \u001b[38;5;28mself\u001b[39m\u001b[38;5;241m.\u001b[39m_validate_data(X, accept_sparse\u001b[38;5;241m=\u001b[39m\u001b[38;5;124m\"\u001b[39m\u001b[38;5;124mcsr\u001b[39m\u001b[38;5;124m\"\u001b[39m, reset\u001b[38;5;241m=\u001b[39m\u001b[38;5;28;01mFalse\u001b[39;00m)\n\u001b[1;32m    401\u001b[0m scores \u001b[38;5;241m=\u001b[39m safe_sparse_dot(X, \u001b[38;5;28mself\u001b[39m\u001b[38;5;241m.\u001b[39mcoef_\u001b[38;5;241m.\u001b[39mT, dense_output\u001b[38;5;241m=\u001b[39m\u001b[38;5;28;01mTrue\u001b[39;00m) \u001b[38;5;241m+\u001b[39m \u001b[38;5;28mself\u001b[39m\u001b[38;5;241m.\u001b[39mintercept_\n\u001b[1;32m    402\u001b[0m \u001b[38;5;28;01mreturn\u001b[39;00m xp\u001b[38;5;241m.\u001b[39mreshape(scores, \u001b[38;5;241m-\u001b[39m\u001b[38;5;241m1\u001b[39m) \u001b[38;5;28;01mif\u001b[39;00m scores\u001b[38;5;241m.\u001b[39mshape[\u001b[38;5;241m1\u001b[39m] \u001b[38;5;241m==\u001b[39m \u001b[38;5;241m1\u001b[39m \u001b[38;5;28;01melse\u001b[39;00m scores\n",
      "File \u001b[0;32m~/anaconda3/lib/python3.11/site-packages/sklearn/base.py:588\u001b[0m, in \u001b[0;36mBaseEstimator._validate_data\u001b[0;34m(self, X, y, reset, validate_separately, **check_params)\u001b[0m\n\u001b[1;32m    585\u001b[0m     out \u001b[38;5;241m=\u001b[39m X, y\n\u001b[1;32m    587\u001b[0m \u001b[38;5;28;01mif\u001b[39;00m \u001b[38;5;129;01mnot\u001b[39;00m no_val_X \u001b[38;5;129;01mand\u001b[39;00m check_params\u001b[38;5;241m.\u001b[39mget(\u001b[38;5;124m\"\u001b[39m\u001b[38;5;124mensure_2d\u001b[39m\u001b[38;5;124m\"\u001b[39m, \u001b[38;5;28;01mTrue\u001b[39;00m):\n\u001b[0;32m--> 588\u001b[0m     \u001b[38;5;28mself\u001b[39m\u001b[38;5;241m.\u001b[39m_check_n_features(X, reset\u001b[38;5;241m=\u001b[39mreset)\n\u001b[1;32m    590\u001b[0m \u001b[38;5;28;01mreturn\u001b[39;00m out\n",
      "File \u001b[0;32m~/anaconda3/lib/python3.11/site-packages/sklearn/base.py:389\u001b[0m, in \u001b[0;36mBaseEstimator._check_n_features\u001b[0;34m(self, X, reset)\u001b[0m\n\u001b[1;32m    386\u001b[0m     \u001b[38;5;28;01mreturn\u001b[39;00m\n\u001b[1;32m    388\u001b[0m \u001b[38;5;28;01mif\u001b[39;00m n_features \u001b[38;5;241m!=\u001b[39m \u001b[38;5;28mself\u001b[39m\u001b[38;5;241m.\u001b[39mn_features_in_:\n\u001b[0;32m--> 389\u001b[0m     \u001b[38;5;28;01mraise\u001b[39;00m \u001b[38;5;167;01mValueError\u001b[39;00m(\n\u001b[1;32m    390\u001b[0m         \u001b[38;5;124mf\u001b[39m\u001b[38;5;124m\"\u001b[39m\u001b[38;5;124mX has \u001b[39m\u001b[38;5;132;01m{\u001b[39;00mn_features\u001b[38;5;132;01m}\u001b[39;00m\u001b[38;5;124m features, but \u001b[39m\u001b[38;5;132;01m{\u001b[39;00m\u001b[38;5;28mself\u001b[39m\u001b[38;5;241m.\u001b[39m\u001b[38;5;18m__class__\u001b[39m\u001b[38;5;241m.\u001b[39m\u001b[38;5;18m__name__\u001b[39m\u001b[38;5;132;01m}\u001b[39;00m\u001b[38;5;124m \u001b[39m\u001b[38;5;124m\"\u001b[39m\n\u001b[1;32m    391\u001b[0m         \u001b[38;5;124mf\u001b[39m\u001b[38;5;124m\"\u001b[39m\u001b[38;5;124mis expecting \u001b[39m\u001b[38;5;132;01m{\u001b[39;00m\u001b[38;5;28mself\u001b[39m\u001b[38;5;241m.\u001b[39mn_features_in_\u001b[38;5;132;01m}\u001b[39;00m\u001b[38;5;124m features as input.\u001b[39m\u001b[38;5;124m\"\u001b[39m\n\u001b[1;32m    392\u001b[0m     )\n",
      "\u001b[0;31mValueError\u001b[0m: X has 54 features, but LogisticRegression is expecting 10 features as input."
     ]
    }
   ],
   "source": [
    "log_reg_train_score = log_reg.score(X_train, y_train)\n",
    "log_reg_valid_score = log_reg.score(X_valid, y_valid)\n",
    "log_reg_test_score = log_reg.score(X_test, y_test)\n"
   ]
  },
  {
   "cell_type": "code",
   "execution_count": 906,
   "id": "712a2cb5-1e87-4617-9c08-cfee4f36cecc",
   "metadata": {},
   "outputs": [
    {
     "ename": "NameError",
     "evalue": "name 'log_reg_train_score' is not defined",
     "output_type": "error",
     "traceback": [
      "\u001b[0;31m---------------------------------------------------------------------------\u001b[0m",
      "\u001b[0;31mNameError\u001b[0m                                 Traceback (most recent call last)",
      "Cell \u001b[0;32mIn[906], line 1\u001b[0m\n\u001b[0;32m----> 1\u001b[0m \u001b[38;5;28mprint\u001b[39m(\u001b[38;5;124mf\u001b[39m\u001b[38;5;124m\"\u001b[39m\u001b[38;5;124mAccuracy on train set: \u001b[39m\u001b[38;5;132;01m{\u001b[39;00mlog_reg_train_score\u001b[38;5;132;01m}\u001b[39;00m\u001b[38;5;130;01m\\n\u001b[39;00m\u001b[38;5;124mAccuracy on valid set: \u001b[39m\u001b[38;5;132;01m{\u001b[39;00mlog_reg_valid_score\u001b[38;5;132;01m}\u001b[39;00m\u001b[38;5;130;01m\\n\u001b[39;00m\u001b[38;5;124mAccuracy on test set: \u001b[39m\u001b[38;5;132;01m{\u001b[39;00mlog_reg_test_score\u001b[38;5;132;01m}\u001b[39;00m\u001b[38;5;124m\"\u001b[39m)\n",
      "\u001b[0;31mNameError\u001b[0m: name 'log_reg_train_score' is not defined"
     ]
    }
   ],
   "source": [
    "print(f\"Accuracy on train set: {log_reg_train_score}\\nAccuracy on valid set: {log_reg_valid_score}\\nAccuracy on test set: {log_reg_test_score}\")"
   ]
  },
  {
   "cell_type": "markdown",
   "id": "c0e67853-0330-46a1-a4fd-a83ca6a330cd",
   "metadata": {},
   "source": [
    "## SUPPORT VECTOR MACHINE"
   ]
  },
  {
   "cell_type": "code",
   "execution_count": 903,
   "id": "b25960df-abf0-4578-9942-db3a0af23302",
   "metadata": {},
   "outputs": [
    {
     "data": {
      "text/html": [
       "<style>#sk-container-id-15 {color: black;background-color: white;}#sk-container-id-15 pre{padding: 0;}#sk-container-id-15 div.sk-toggleable {background-color: white;}#sk-container-id-15 label.sk-toggleable__label {cursor: pointer;display: block;width: 100%;margin-bottom: 0;padding: 0.3em;box-sizing: border-box;text-align: center;}#sk-container-id-15 label.sk-toggleable__label-arrow:before {content: \"▸\";float: left;margin-right: 0.25em;color: #696969;}#sk-container-id-15 label.sk-toggleable__label-arrow:hover:before {color: black;}#sk-container-id-15 div.sk-estimator:hover label.sk-toggleable__label-arrow:before {color: black;}#sk-container-id-15 div.sk-toggleable__content {max-height: 0;max-width: 0;overflow: hidden;text-align: left;background-color: #f0f8ff;}#sk-container-id-15 div.sk-toggleable__content pre {margin: 0.2em;color: black;border-radius: 0.25em;background-color: #f0f8ff;}#sk-container-id-15 input.sk-toggleable__control:checked~div.sk-toggleable__content {max-height: 200px;max-width: 100%;overflow: auto;}#sk-container-id-15 input.sk-toggleable__control:checked~label.sk-toggleable__label-arrow:before {content: \"▾\";}#sk-container-id-15 div.sk-estimator input.sk-toggleable__control:checked~label.sk-toggleable__label {background-color: #d4ebff;}#sk-container-id-15 div.sk-label input.sk-toggleable__control:checked~label.sk-toggleable__label {background-color: #d4ebff;}#sk-container-id-15 input.sk-hidden--visually {border: 0;clip: rect(1px 1px 1px 1px);clip: rect(1px, 1px, 1px, 1px);height: 1px;margin: -1px;overflow: hidden;padding: 0;position: absolute;width: 1px;}#sk-container-id-15 div.sk-estimator {font-family: monospace;background-color: #f0f8ff;border: 1px dotted black;border-radius: 0.25em;box-sizing: border-box;margin-bottom: 0.5em;}#sk-container-id-15 div.sk-estimator:hover {background-color: #d4ebff;}#sk-container-id-15 div.sk-parallel-item::after {content: \"\";width: 100%;border-bottom: 1px solid gray;flex-grow: 1;}#sk-container-id-15 div.sk-label:hover label.sk-toggleable__label {background-color: #d4ebff;}#sk-container-id-15 div.sk-serial::before {content: \"\";position: absolute;border-left: 1px solid gray;box-sizing: border-box;top: 0;bottom: 0;left: 50%;z-index: 0;}#sk-container-id-15 div.sk-serial {display: flex;flex-direction: column;align-items: center;background-color: white;padding-right: 0.2em;padding-left: 0.2em;position: relative;}#sk-container-id-15 div.sk-item {position: relative;z-index: 1;}#sk-container-id-15 div.sk-parallel {display: flex;align-items: stretch;justify-content: center;background-color: white;position: relative;}#sk-container-id-15 div.sk-item::before, #sk-container-id-15 div.sk-parallel-item::before {content: \"\";position: absolute;border-left: 1px solid gray;box-sizing: border-box;top: 0;bottom: 0;left: 50%;z-index: -1;}#sk-container-id-15 div.sk-parallel-item {display: flex;flex-direction: column;z-index: 1;position: relative;background-color: white;}#sk-container-id-15 div.sk-parallel-item:first-child::after {align-self: flex-end;width: 50%;}#sk-container-id-15 div.sk-parallel-item:last-child::after {align-self: flex-start;width: 50%;}#sk-container-id-15 div.sk-parallel-item:only-child::after {width: 0;}#sk-container-id-15 div.sk-dashed-wrapped {border: 1px dashed gray;margin: 0 0.4em 0.5em 0.4em;box-sizing: border-box;padding-bottom: 0.4em;background-color: white;}#sk-container-id-15 div.sk-label label {font-family: monospace;font-weight: bold;display: inline-block;line-height: 1.2em;}#sk-container-id-15 div.sk-label-container {text-align: center;}#sk-container-id-15 div.sk-container {/* jupyter's `normalize.less` sets `[hidden] { display: none; }` but bootstrap.min.css set `[hidden] { display: none !important; }` so we also need the `!important` here to be able to override the default hidden behavior on the sphinx rendered scikit-learn.org. See: https://github.com/scikit-learn/scikit-learn/issues/21755 */display: inline-block !important;position: relative;}#sk-container-id-15 div.sk-text-repr-fallback {display: none;}</style><div id=\"sk-container-id-15\" class=\"sk-top-container\"><div class=\"sk-text-repr-fallback\"><pre>SVC(kernel=&#x27;linear&#x27;)</pre><b>In a Jupyter environment, please rerun this cell to show the HTML representation or trust the notebook. <br />On GitHub, the HTML representation is unable to render, please try loading this page with nbviewer.org.</b></div><div class=\"sk-container\" hidden><div class=\"sk-item\"><div class=\"sk-estimator sk-toggleable\"><input class=\"sk-toggleable__control sk-hidden--visually\" id=\"sk-estimator-id-35\" type=\"checkbox\" checked><label for=\"sk-estimator-id-35\" class=\"sk-toggleable__label sk-toggleable__label-arrow\">SVC</label><div class=\"sk-toggleable__content\"><pre>SVC(kernel=&#x27;linear&#x27;)</pre></div></div></div></div></div>"
      ],
      "text/plain": [
       "SVC(kernel='linear')"
      ]
     },
     "execution_count": 903,
     "metadata": {},
     "output_type": "execute_result"
    }
   ],
   "source": [
    "svm_rbf = SVC(kernel='rbf')\n",
    "svm_linear = SVC(kernel='linear')\n",
    "\n",
    "svm_rbf.fit(X_train, y_train)\n",
    "svm_linear.fit(X_train, y_train);"
   ]
  },
  {
   "cell_type": "code",
   "execution_count": 902,
   "id": "a823425b-7445-4aa0-88d4-77ce1e465a2d",
   "metadata": {},
   "outputs": [
    {
     "ename": "NotFittedError",
     "evalue": "This SVC instance is not fitted yet. Call 'fit' with appropriate arguments before using this estimator.",
     "output_type": "error",
     "traceback": [
      "\u001b[0;31m---------------------------------------------------------------------------\u001b[0m",
      "\u001b[0;31mNotFittedError\u001b[0m                            Traceback (most recent call last)",
      "Cell \u001b[0;32mIn[902], line 1\u001b[0m\n\u001b[0;32m----> 1\u001b[0m svm_rbf_train_score \u001b[38;5;241m=\u001b[39m svm_rbf\u001b[38;5;241m.\u001b[39mscore(X_train, y_train)\n\u001b[1;32m      2\u001b[0m svm_rbf_valid_score \u001b[38;5;241m=\u001b[39m svm_rbf\u001b[38;5;241m.\u001b[39mscore(X_valid, y_valid)\n\u001b[1;32m      3\u001b[0m svm_rbf_test_score \u001b[38;5;241m=\u001b[39m svm_rbf\u001b[38;5;241m.\u001b[39mscore(X_test, y_test)\n",
      "File \u001b[0;32m~/anaconda3/lib/python3.11/site-packages/sklearn/base.py:668\u001b[0m, in \u001b[0;36mClassifierMixin.score\u001b[0;34m(self, X, y, sample_weight)\u001b[0m\n\u001b[1;32m    643\u001b[0m \u001b[38;5;250m\u001b[39m\u001b[38;5;124;03m\"\"\"\u001b[39;00m\n\u001b[1;32m    644\u001b[0m \u001b[38;5;124;03mReturn the mean accuracy on the given test data and labels.\u001b[39;00m\n\u001b[1;32m    645\u001b[0m \n\u001b[0;32m   (...)\u001b[0m\n\u001b[1;32m    664\u001b[0m \u001b[38;5;124;03m    Mean accuracy of ``self.predict(X)`` w.r.t. `y`.\u001b[39;00m\n\u001b[1;32m    665\u001b[0m \u001b[38;5;124;03m\"\"\"\u001b[39;00m\n\u001b[1;32m    666\u001b[0m \u001b[38;5;28;01mfrom\u001b[39;00m \u001b[38;5;21;01m.\u001b[39;00m\u001b[38;5;21;01mmetrics\u001b[39;00m \u001b[38;5;28;01mimport\u001b[39;00m accuracy_score\n\u001b[0;32m--> 668\u001b[0m \u001b[38;5;28;01mreturn\u001b[39;00m accuracy_score(y, \u001b[38;5;28mself\u001b[39m\u001b[38;5;241m.\u001b[39mpredict(X), sample_weight\u001b[38;5;241m=\u001b[39msample_weight)\n",
      "File \u001b[0;32m~/anaconda3/lib/python3.11/site-packages/sklearn/svm/_base.py:807\u001b[0m, in \u001b[0;36mBaseSVC.predict\u001b[0;34m(self, X)\u001b[0m\n\u001b[1;32m    790\u001b[0m \u001b[38;5;28;01mdef\u001b[39;00m \u001b[38;5;21mpredict\u001b[39m(\u001b[38;5;28mself\u001b[39m, X):\n\u001b[1;32m    791\u001b[0m \u001b[38;5;250m    \u001b[39m\u001b[38;5;124;03m\"\"\"Perform classification on samples in X.\u001b[39;00m\n\u001b[1;32m    792\u001b[0m \n\u001b[1;32m    793\u001b[0m \u001b[38;5;124;03m    For an one-class model, +1 or -1 is returned.\u001b[39;00m\n\u001b[0;32m   (...)\u001b[0m\n\u001b[1;32m    805\u001b[0m \u001b[38;5;124;03m        Class labels for samples in X.\u001b[39;00m\n\u001b[1;32m    806\u001b[0m \u001b[38;5;124;03m    \"\"\"\u001b[39;00m\n\u001b[0;32m--> 807\u001b[0m     check_is_fitted(\u001b[38;5;28mself\u001b[39m)\n\u001b[1;32m    808\u001b[0m     \u001b[38;5;28;01mif\u001b[39;00m \u001b[38;5;28mself\u001b[39m\u001b[38;5;241m.\u001b[39mbreak_ties \u001b[38;5;129;01mand\u001b[39;00m \u001b[38;5;28mself\u001b[39m\u001b[38;5;241m.\u001b[39mdecision_function_shape \u001b[38;5;241m==\u001b[39m \u001b[38;5;124m\"\u001b[39m\u001b[38;5;124movo\u001b[39m\u001b[38;5;124m\"\u001b[39m:\n\u001b[1;32m    809\u001b[0m         \u001b[38;5;28;01mraise\u001b[39;00m \u001b[38;5;167;01mValueError\u001b[39;00m(\n\u001b[1;32m    810\u001b[0m             \u001b[38;5;124m\"\u001b[39m\u001b[38;5;124mbreak_ties must be False when decision_function_shape is \u001b[39m\u001b[38;5;124m'\u001b[39m\u001b[38;5;124movo\u001b[39m\u001b[38;5;124m'\u001b[39m\u001b[38;5;124m\"\u001b[39m\n\u001b[1;32m    811\u001b[0m         )\n",
      "File \u001b[0;32m~/anaconda3/lib/python3.11/site-packages/sklearn/utils/validation.py:1390\u001b[0m, in \u001b[0;36mcheck_is_fitted\u001b[0;34m(estimator, attributes, msg, all_or_any)\u001b[0m\n\u001b[1;32m   1385\u001b[0m     fitted \u001b[38;5;241m=\u001b[39m [\n\u001b[1;32m   1386\u001b[0m         v \u001b[38;5;28;01mfor\u001b[39;00m v \u001b[38;5;129;01min\u001b[39;00m \u001b[38;5;28mvars\u001b[39m(estimator) \u001b[38;5;28;01mif\u001b[39;00m v\u001b[38;5;241m.\u001b[39mendswith(\u001b[38;5;124m\"\u001b[39m\u001b[38;5;124m_\u001b[39m\u001b[38;5;124m\"\u001b[39m) \u001b[38;5;129;01mand\u001b[39;00m \u001b[38;5;129;01mnot\u001b[39;00m v\u001b[38;5;241m.\u001b[39mstartswith(\u001b[38;5;124m\"\u001b[39m\u001b[38;5;124m__\u001b[39m\u001b[38;5;124m\"\u001b[39m)\n\u001b[1;32m   1387\u001b[0m     ]\n\u001b[1;32m   1389\u001b[0m \u001b[38;5;28;01mif\u001b[39;00m \u001b[38;5;129;01mnot\u001b[39;00m fitted:\n\u001b[0;32m-> 1390\u001b[0m     \u001b[38;5;28;01mraise\u001b[39;00m NotFittedError(msg \u001b[38;5;241m%\u001b[39m {\u001b[38;5;124m\"\u001b[39m\u001b[38;5;124mname\u001b[39m\u001b[38;5;124m\"\u001b[39m: \u001b[38;5;28mtype\u001b[39m(estimator)\u001b[38;5;241m.\u001b[39m\u001b[38;5;18m__name__\u001b[39m})\n",
      "\u001b[0;31mNotFittedError\u001b[0m: This SVC instance is not fitted yet. Call 'fit' with appropriate arguments before using this estimator."
     ]
    }
   ],
   "source": [
    "svm_rbf_train_score = svm_rbf.score(X_train, y_train)\n",
    "svm_rbf_valid_score = svm_rbf.score(X_valid, y_valid)\n",
    "svm_rbf_test_score = svm_rbf.score(X_test, y_test)\n",
    "\n",
    "svm_linear_train_score = svm_linear.score(X_train, y_train)\n",
    "svm_linear_valid_score = svm_linear.score(X_valid, y_valid)\n",
    "svm_linear_test_score = svm_linear.score(X_test, y_test)"
   ]
  },
  {
   "cell_type": "code",
   "execution_count": 758,
   "id": "2e230f55-b1a5-4ee9-812b-1a3125922b63",
   "metadata": {},
   "outputs": [
    {
     "name": "stdout",
     "output_type": "stream",
     "text": [
      "Accuracy on train set: 0.916375\n",
      "Accuracy on test set: 0.792\n"
     ]
    }
   ],
   "source": [
    "print(f\"Accuracy on train set: {svm_train_score}\\nAccuracy on test set: {svm_test_score}\")"
   ]
  },
  {
   "cell_type": "markdown",
   "id": "c94040cc-3319-48cf-a4e4-2306b4d5b13f",
   "metadata": {},
   "source": [
    "## DECISION TREE"
   ]
  },
  {
   "cell_type": "code",
   "execution_count": 759,
   "id": "87a449a9-5d3f-4d5f-a355-d26d1f3c8961",
   "metadata": {},
   "outputs": [
    {
     "name": "stdout",
     "output_type": "stream",
     "text": [
      "Fitting 5 folds for each of 24 candidates, totalling 120 fits\n",
      "[CV 1/5] END criterion=gini, max_depth=None, splitter=random;, score=0.739 total time=   0.0s\n",
      "[CV 1/5] END criterion=gini, max_depth=None, splitter=best;, score=0.771 total time=   0.1s\n",
      "[CV 2/5] END criterion=gini, max_depth=None, splitter=best;, score=0.737 total time=   0.1s\n",
      "[CV 3/5] END criterion=gini, max_depth=None, splitter=best;, score=0.761 total time=   0.1s\n",
      "[CV 2/5] END criterion=gini, max_depth=None, splitter=random;, score=0.721 total time=   0.0s\n",
      "[CV 4/5] END criterion=gini, max_depth=None, splitter=best;, score=0.738 total time=   0.1s\n",
      "[CV 3/5] END criterion=gini, max_depth=None, splitter=random;, score=0.746 total time=   0.0s\n",
      "[CV 4/5] END criterion=gini, max_depth=None, splitter=random;, score=0.738 total time=   0.0s\n",
      "[CV 5/5] END criterion=gini, max_depth=None, splitter=random;, score=0.736 total time=   0.0s\n",
      "[CV 5/5] END criterion=gini, max_depth=None, splitter=best;, score=0.752 total time=   0.1s\n",
      "[CV 1/5] END criterion=gini, max_depth=7, splitter=random;, score=0.767 total time=   0.0s\n",
      "[CV 2/5] END criterion=gini, max_depth=7, splitter=random;, score=0.725 total time=   0.0s\n",
      "[CV 4/5] END criterion=gini, max_depth=7, splitter=random;, score=0.756 total time=   0.0s\n",
      "[CV 3/5] END criterion=gini, max_depth=7, splitter=random;, score=0.733 total time=   0.0s\n",
      "[CV 1/5] END criterion=gini, max_depth=7, splitter=best;, score=0.759 total time=   0.0s\n",
      "[CV 2/5] END criterion=gini, max_depth=7, splitter=best;, score=0.760 total time=   0.0s\n",
      "[CV 3/5] END criterion=gini, max_depth=7, splitter=best;, score=0.750 total time=   0.0s\n",
      "[CV 5/5] END criterion=gini, max_depth=7, splitter=random;, score=0.755 total time=   0.0s\n",
      "[CV 4/5] END criterion=gini, max_depth=7, splitter=best;, score=0.771 total time=   0.0s\n",
      "[CV 5/5] END criterion=gini, max_depth=7, splitter=best;, score=0.762 total time=   0.0s\n",
      "[CV 2/5] END criterion=gini, max_depth=8, splitter=random;, score=0.732 total time=   0.0s\n",
      "[CV 4/5] END criterion=gini, max_depth=8, splitter=random;, score=0.731 total time=   0.0s\n",
      "[CV 3/5] END criterion=gini, max_depth=8, splitter=random;, score=0.743 total time=   0.0s\n",
      "[CV 5/5] END criterion=gini, max_depth=8, splitter=random;, score=0.760 total time=   0.0s\n",
      "[CV 2/5] END criterion=gini, max_depth=9, splitter=random;, score=0.722 total time=   0.0s\n",
      "[CV 1/5] END criterion=gini, max_depth=8, splitter=best;, score=0.779 total time=   0.0s\n",
      "[CV 3/5] END criterion=gini, max_depth=8, splitter=best;, score=0.760 total time=   0.0s[CV 4/5] END criterion=gini, max_depth=9, splitter=random;, score=0.758 total time=   0.0s\n",
      "\n",
      "[CV 5/5] END criterion=gini, max_depth=8, splitter=best;, score=0.757 total time=   0.0s\n",
      "[CV 5/5] END criterion=gini, max_depth=9, splitter=random;, score=0.765 total time=   0.0s\n",
      "[CV 3/5] END criterion=gini, max_depth=9, splitter=random;, score=0.748 total time=   0.0s\n",
      "[CV 1/5] END criterion=gini, max_depth=8, splitter=random;, score=0.728 total time=   0.0s\n",
      "[CV 1/5] END criterion=gini, max_depth=9, splitter=best;, score=0.794 total time=   0.1s\n",
      "[CV 3/5] END criterion=gini, max_depth=9, splitter=best;, score=0.765 total time=   0.1s\n",
      "[CV 5/5] END criterion=gini, max_depth=9, splitter=best;, score=0.775 total time=   0.1s\n",
      "[CV 2/5] END criterion=gini, max_depth=8, splitter=best;, score=0.749 total time=   0.1s\n",
      "[CV 4/5] END criterion=gini, max_depth=8, splitter=best;, score=0.762 total time=   0.0s\n",
      "[CV 1/5] END criterion=gini, max_depth=9, splitter=random;, score=0.781 total time=   0.0s\n",
      "[CV 2/5] END criterion=entropy, max_depth=None, splitter=random;, score=0.721 total time=   0.0s\n",
      "[CV 4/5] END criterion=entropy, max_depth=None, splitter=random;, score=0.737 total time=   0.0s\n",
      "[CV 4/5] END criterion=gini, max_depth=9, splitter=best;, score=0.771 total time=   0.1s\n",
      "[CV 2/5] END criterion=gini, max_depth=9, splitter=best;, score=0.751 total time=   0.1s\n",
      "[CV 2/5] END criterion=entropy, max_depth=7, splitter=random;, score=0.742 total time=   0.0s\n",
      "[CV 3/5] END criterion=entropy, max_depth=None, splitter=random;, score=0.738 total time=   0.0s\n",
      "[CV 5/5] END criterion=entropy, max_depth=None, splitter=random;, score=0.728 total time=   0.0s\n",
      "[CV 3/5] END criterion=entropy, max_depth=7, splitter=random;, score=0.751 total time=   0.0s\n",
      "[CV 1/5] END criterion=entropy, max_depth=None, splitter=best;, score=0.762 total time=   0.1s\n",
      "[CV 4/5] END criterion=entropy, max_depth=7, splitter=random;, score=0.726 total time=   0.0s\n",
      "[CV 5/5] END criterion=entropy, max_depth=None, splitter=best;, score=0.757 total time=   0.1s\n",
      "[CV 3/5] END criterion=entropy, max_depth=7, splitter=best;, score=0.754 total time=   0.0s\n",
      "[CV 3/5] END criterion=entropy, max_depth=None, splitter=best;, score=0.746 total time=   0.1s\n",
      "[CV 5/5] END criterion=entropy, max_depth=7, splitter=random;, score=0.762 total time=   0.0s\n",
      "[CV 4/5] END criterion=entropy, max_depth=8, splitter=random;, score=0.749 total time=   0.0s\n",
      "[CV 1/5] END criterion=entropy, max_depth=None, splitter=random;, score=0.754 total time=   0.0s\n",
      "[CV 5/5] END criterion=entropy, max_depth=8, splitter=random;, score=0.761 total time=   0.0s\n",
      "[CV 1/5] END criterion=entropy, max_depth=8, splitter=best;, score=0.785 total time=   0.1s\n",
      "[CV 1/5] END criterion=entropy, max_depth=7, splitter=best;, score=0.777 total time=   0.0s\n",
      "[CV 5/5] END criterion=entropy, max_depth=8, splitter=best;, score=0.766 total time=   0.1s\n",
      "[CV 4/5] END criterion=entropy, max_depth=7, splitter=best;, score=0.769 total time=   0.1s\n",
      "[CV 1/5] END criterion=entropy, max_depth=8, splitter=random;, score=0.771 total time=   0.0s\n",
      "[CV 2/5] END criterion=entropy, max_depth=8, splitter=random;, score=0.710 total time=   0.0s\n",
      "[CV 3/5] END criterion=entropy, max_depth=8, splitter=random;, score=0.756 total time=   0.0s\n",
      "[CV 2/5] END criterion=entropy, max_depth=9, splitter=random;, score=0.738 total time=   0.0s\n",
      "[CV 2/5] END criterion=entropy, max_depth=7, splitter=best;, score=0.749 total time=   0.1s\n",
      "[CV 1/5] END criterion=entropy, max_depth=9, splitter=best;, score=0.790 total time=   0.1s\n",
      "[CV 3/5] END criterion=entropy, max_depth=9, splitter=best;, score=0.755 total time=   0.1s\n",
      "[CV 2/5] END criterion=entropy, max_depth=None, splitter=best;, score=0.757 total time=   0.1s\n",
      "[CV 3/5] END criterion=entropy, max_depth=9, splitter=random;, score=0.741 total time=   0.0s\n",
      "[CV 2/5] END criterion=entropy, max_depth=8, splitter=best;, score=0.759 total time=   0.1s\n",
      "[CV 5/5] END criterion=entropy, max_depth=7, splitter=best;, score=0.756 total time=   0.0s\n",
      "[CV 4/5] END criterion=entropy, max_depth=None, splitter=best;, score=0.759 total time=   0.1s\n",
      "[CV 4/5] END criterion=entropy, max_depth=9, splitter=random;, score=0.759 total time=   0.0s\n",
      "[CV 1/5] END criterion=entropy, max_depth=7, splitter=random;, score=0.767 total time=   0.0s\n",
      "[CV 5/5] END criterion=entropy, max_depth=9, splitter=random;, score=0.759 total time=   0.0s\n",
      "[CV 2/5] END criterion=log_loss, max_depth=7, splitter=random;, score=0.729 total time=   0.0s\n",
      "[CV 4/5] END criterion=log_loss, max_depth=None, splitter=random;, score=0.733 total time=   0.0s\n",
      "[CV 3/5] END criterion=log_loss, max_depth=7, splitter=random;, score=0.753 total time=   0.0s\n",
      "[CV 4/5] END criterion=log_loss, max_depth=7, splitter=random;, score=0.745 total time=   0.0s\n",
      "[CV 5/5] END criterion=log_loss, max_depth=None, splitter=random;, score=0.749 total time=   0.0s\n",
      "[CV 5/5] END criterion=log_loss, max_depth=7, splitter=random;, score=0.757 total time=   0.0s\n",
      "[CV 2/5] END criterion=entropy, max_depth=9, splitter=best;, score=0.758 total time=   0.1s\n",
      "[CV 3/5] END criterion=entropy, max_depth=8, splitter=best;, score=0.758 total time=   0.1s\n",
      "[CV 4/5] END criterion=entropy, max_depth=9, splitter=best;, score=0.777 total time=   0.1s\n",
      "[CV 3/5] END criterion=log_loss, max_depth=7, splitter=best;, score=0.756 total time=   0.1s\n",
      "[CV 1/5] END criterion=log_loss, max_depth=None, splitter=best;, score=0.766 total time=   0.1s\n",
      "[CV 5/5] END criterion=log_loss, max_depth=None, splitter=best;, score=0.749 total time=   0.1s\n",
      "[CV 1/5] END criterion=log_loss, max_depth=7, splitter=best;, score=0.776 total time=   0.0s\n",
      "[CV 1/5] END criterion=log_loss, max_depth=8, splitter=best;, score=0.784 total time=   0.1s\n",
      "[CV 4/5] END criterion=entropy, max_depth=8, splitter=best;, score=0.768 total time=   0.1s\n",
      "[CV 1/5] END criterion=log_loss, max_depth=None, splitter=random;, score=0.773 total time=   0.0s\n",
      "[CV 5/5] END criterion=log_loss, max_depth=8, splitter=best;, score=0.765 total time=   0.1s\n",
      "[CV 5/5] END criterion=entropy, max_depth=9, splitter=best;, score=0.776 total time=   0.1s\n",
      "[CV 4/5] END criterion=log_loss, max_depth=7, splitter=best;, score=0.769 total time=   0.0s\n",
      "[CV 4/5] END criterion=log_loss, max_depth=8, splitter=random;, score=0.751 total time=   0.0s\n",
      "[CV 1/5] END criterion=log_loss, max_depth=8, splitter=random;, score=0.770 total time=   0.0s\n",
      "[CV 1/5] END criterion=entropy, max_depth=9, splitter=random;, score=0.742 total time=   0.0s\n",
      "[CV 2/5] END criterion=log_loss, max_depth=None, splitter=random;, score=0.736 total time=   0.0s\n",
      "[CV 5/5] END criterion=log_loss, max_depth=8, splitter=random;, score=0.756 total time=   0.0s\n",
      "[CV 2/5] END criterion=log_loss, max_depth=8, splitter=random;, score=0.747 total time=   0.0s\n",
      "[CV 3/5] END criterion=log_loss, max_depth=8, splitter=random;, score=0.759 total time=   0.0s\n",
      "[CV 2/5] END criterion=log_loss, max_depth=7, splitter=best;, score=0.749 total time=   0.1s\n",
      "[CV 3/5] END criterion=log_loss, max_depth=None, splitter=random;, score=0.719 total time=   0.0s\n",
      "[CV 5/5] END criterion=log_loss, max_depth=7, splitter=best;, score=0.756 total time=   0.0s\n",
      "[CV 2/5] END criterion=log_loss, max_depth=8, splitter=best;, score=0.757 total time=   0.1s\n",
      "[CV 1/5] END criterion=log_loss, max_depth=9, splitter=random;, score=0.771 total time=   0.0s\n",
      "[CV 1/5] END criterion=log_loss, max_depth=7, splitter=random;, score=0.752 total time=   0.0s\n",
      "[CV 2/5] END criterion=log_loss, max_depth=9, splitter=random;, score=0.723 total time=   0.0s\n",
      "[CV 3/5] END criterion=log_loss, max_depth=9, splitter=random;, score=0.725 total time=   0.0s\n",
      "[CV 4/5] END criterion=log_loss, max_depth=9, splitter=random;, score=0.743 total time=   0.0s\n",
      "[CV 2/5] END criterion=log_loss, max_depth=None, splitter=best;, score=0.754 total time=   0.1s\n",
      "[CV 5/5] END criterion=log_loss, max_depth=9, splitter=random;, score=0.771 total time=   0.0s\n",
      "[CV 1/5] END criterion=log_loss, max_depth=9, splitter=best;, score=0.790 total time=   0.1s\n",
      "[CV 3/5] END criterion=log_loss, max_depth=9, splitter=best;, score=0.751 total time=   0.1s\n",
      "[CV 4/5] END criterion=log_loss, max_depth=9, splitter=best;, score=0.777 total time=   0.1s\n",
      "[CV 5/5] END criterion=log_loss, max_depth=9, splitter=best;, score=0.777 total time=   0.1s\n",
      "[CV 3/5] END criterion=log_loss, max_depth=8, splitter=best;, score=0.754 total time=   0.0s\n",
      "[CV 2/5] END criterion=log_loss, max_depth=9, splitter=best;, score=0.761 total time=   0.0s\n",
      "[CV 4/5] END criterion=log_loss, max_depth=8, splitter=best;, score=0.767 total time=   0.0s\n",
      "[CV 3/5] END criterion=log_loss, max_depth=None, splitter=best;, score=0.746 total time=   0.1s\n",
      "[CV 4/5] END criterion=log_loss, max_depth=None, splitter=best;, score=0.754 total time=   0.1s\n"
     ]
    }
   ],
   "source": [
    "dt_params = {\n",
    "    'criterion': ['gini', 'entropy', 'log_loss'],\n",
    "    'splitter': ['best', 'random'],\n",
    "    'max_depth': [None, 7, 8, 9],\n",
    "}\n",
    "\n",
    "dt = DecisionTreeClassifier()\n",
    "dt_grid_search = GridSearchCV(\n",
    "    estimator=dt,\n",
    "    param_grid=dt_params,\n",
    "    cv=5,\n",
    "    n_jobs=-1,\n",
    "    verbose=4\n",
    ")\n",
    "\n",
    "dt_grid_search.fit(X_train, y_train);"
   ]
  },
  {
   "cell_type": "code",
   "execution_count": 760,
   "id": "b56c5b4b-e4e4-4290-9b80-99e958143618",
   "metadata": {},
   "outputs": [
    {
     "data": {
      "text/plain": [
       "{'criterion': 'log_loss', 'max_depth': 9, 'splitter': 'best'}"
      ]
     },
     "execution_count": 760,
     "metadata": {},
     "output_type": "execute_result"
    }
   ],
   "source": [
    "dt = dt_grid_search.best_estimator_\n",
    "dt_train_score = dt.score(X_train, y_train)\n",
    "dt_test_score = dt.score(X_test, y_test)\n",
    "\n",
    "dt_grid_search.best_params_"
   ]
  },
  {
   "cell_type": "code",
   "execution_count": 761,
   "id": "53e85216-620a-41ca-b96d-d35f8f72cb85",
   "metadata": {},
   "outputs": [
    {
     "name": "stdout",
     "output_type": "stream",
     "text": [
      "Accuracy on train set: 0.839375\n",
      "Accuracy on test set: 0.764\n"
     ]
    }
   ],
   "source": [
    "print(f\"Accuracy on train set: {dt_train_score}\\nAccuracy on test set: {dt_test_score}\")"
   ]
  },
  {
   "cell_type": "markdown",
   "id": "dc022873-1fed-4253-b82c-cd23ef948d60",
   "metadata": {},
   "source": [
    "## RANDOM FOREST"
   ]
  },
  {
   "cell_type": "code",
   "execution_count": 762,
   "id": "58038da0-7ed7-4c63-b6f0-8a532ade3f65",
   "metadata": {},
   "outputs": [
    {
     "name": "stdout",
     "output_type": "stream",
     "text": [
      "Fitting 5 folds for each of 18 candidates, totalling 90 fits\n",
      "[CV 2/5] END criterion=gini, max_depth=None, n_estimators=50;, score=0.790 total time=   1.1s\n",
      "[CV 3/5] END criterion=gini, max_depth=None, n_estimators=50;, score=0.804 total time=   1.1s\n",
      "[CV 1/5] END criterion=gini, max_depth=None, n_estimators=50;, score=0.832 total time=   1.1s\n",
      "[CV 4/5] END criterion=gini, max_depth=None, n_estimators=50;, score=0.811 total time=   1.1s\n",
      "[CV 5/5] END criterion=gini, max_depth=None, n_estimators=50;, score=0.821 total time=   1.1s\n",
      "[CV 2/5] END criterion=gini, max_depth=None, n_estimators=75;, score=0.794 total time=   1.7s\n",
      "[CV 1/5] END criterion=gini, max_depth=None, n_estimators=75;, score=0.842 total time=   1.7s\n",
      "[CV 3/5] END criterion=gini, max_depth=None, n_estimators=75;, score=0.798 total time=   1.7s\n",
      "[CV 1/5] END criterion=gini, max_depth=7, n_estimators=50;, score=0.801 total time=   0.5s\n",
      "[CV 4/5] END criterion=gini, max_depth=None, n_estimators=75;, score=0.809 total time=   1.6s\n",
      "[CV 5/5] END criterion=gini, max_depth=None, n_estimators=75;, score=0.826 total time=   1.6s\n",
      "[CV 2/5] END criterion=gini, max_depth=7, n_estimators=50;, score=0.766 total time=   0.6s\n",
      "[CV 2/5] END criterion=gini, max_depth=None, n_estimators=100;, score=0.800 total time=   2.1s\n",
      "[CV 3/5] END criterion=gini, max_depth=None, n_estimators=100;, score=0.801 total time=   2.1s\n",
      "[CV 1/5] END criterion=gini, max_depth=None, n_estimators=100;, score=0.838 total time=   2.1s\n",
      "[CV 3/5] END criterion=gini, max_depth=7, n_estimators=50;, score=0.772 total time=   0.6s\n",
      "[CV 4/5] END criterion=gini, max_depth=7, n_estimators=50;, score=0.784 total time=   0.6s\n",
      "[CV 5/5] END criterion=gini, max_depth=7, n_estimators=50;, score=0.787 total time=   0.6s\n",
      "[CV 4/5] END criterion=gini, max_depth=None, n_estimators=100;, score=0.807 total time=   1.9s\n",
      "[CV 5/5] END criterion=gini, max_depth=None, n_estimators=100;, score=0.824 total time=   1.9s\n",
      "[CV 2/5] END criterion=gini, max_depth=7, n_estimators=75;, score=0.767 total time=   0.9s\n",
      "[CV 1/5] END criterion=gini, max_depth=7, n_estimators=75;, score=0.804 total time=   0.9s\n",
      "[CV 3/5] END criterion=gini, max_depth=7, n_estimators=75;, score=0.770 total time=   0.9s\n",
      "[CV 5/5] END criterion=gini, max_depth=7, n_estimators=75;, score=0.791 total time=   0.9s\n",
      "[CV 4/5] END criterion=gini, max_depth=7, n_estimators=75;, score=0.784 total time=   1.0s\n",
      "[CV 1/5] END criterion=gini, max_depth=7, n_estimators=100;, score=0.802 total time=   1.1s\n",
      "[CV 1/5] END criterion=gini, max_depth=9, n_estimators=50;, score=0.806 total time=   0.7s\n",
      "[CV 2/5] END criterion=gini, max_depth=7, n_estimators=100;, score=0.769 total time=   1.2s\n",
      "[CV 3/5] END criterion=gini, max_depth=7, n_estimators=100;, score=0.774 total time=   1.2s\n",
      "[CV 2/5] END criterion=gini, max_depth=9, n_estimators=50;, score=0.779 total time=   0.7s\n",
      "[CV 3/5] END criterion=gini, max_depth=9, n_estimators=50;, score=0.782 total time=   0.7s\n",
      "[CV 4/5] END criterion=gini, max_depth=7, n_estimators=100;, score=0.782 total time=   1.4s\n",
      "[CV 5/5] END criterion=gini, max_depth=7, n_estimators=100;, score=0.787 total time=   1.4s\n",
      "[CV 4/5] END criterion=gini, max_depth=9, n_estimators=50;, score=0.785 total time=   0.9s\n",
      "[CV 5/5] END criterion=gini, max_depth=9, n_estimators=50;, score=0.801 total time=   1.0s\n",
      "[CV 1/5] END criterion=gini, max_depth=9, n_estimators=75;, score=0.818 total time=   1.3s\n",
      "[CV 2/5] END criterion=gini, max_depth=9, n_estimators=75;, score=0.772 total time=   1.3s\n",
      "[CV 3/5] END criterion=gini, max_depth=9, n_estimators=75;, score=0.780 total time=   1.3s\n",
      "[CV 4/5] END criterion=gini, max_depth=9, n_estimators=75;, score=0.789 total time=   1.3s\n",
      "[CV 5/5] END criterion=gini, max_depth=9, n_estimators=75;, score=0.804 total time=   1.2s\n",
      "[CV 1/5] END criterion=gini, max_depth=9, n_estimators=100;, score=0.812 total time=   1.6s\n",
      "[CV 2/5] END criterion=gini, max_depth=9, n_estimators=100;, score=0.781 total time=   1.6s\n",
      "[CV 3/5] END criterion=gini, max_depth=9, n_estimators=100;, score=0.779 total time=   1.6s\n",
      "[CV 2/5] END criterion=entropy, max_depth=None, n_estimators=50;, score=0.796 total time=   1.4s\n",
      "[CV 1/5] END criterion=entropy, max_depth=None, n_estimators=50;, score=0.834 total time=   1.5s\n",
      "[CV 4/5] END criterion=gini, max_depth=9, n_estimators=100;, score=0.787 total time=   1.7s\n",
      "[CV 5/5] END criterion=gini, max_depth=9, n_estimators=100;, score=0.802 total time=   1.8s\n",
      "[CV 3/5] END criterion=entropy, max_depth=None, n_estimators=50;, score=0.809 total time=   1.5s\n",
      "[CV 4/5] END criterion=entropy, max_depth=None, n_estimators=50;, score=0.807 total time=   1.5s\n",
      "[CV 5/5] END criterion=entropy, max_depth=None, n_estimators=50;, score=0.816 total time=   1.6s\n",
      "[CV 1/5] END criterion=entropy, max_depth=None, n_estimators=75;, score=0.846 total time=   2.3s\n",
      "[CV 2/5] END criterion=entropy, max_depth=None, n_estimators=75;, score=0.794 total time=   2.3s\n",
      "[CV 3/5] END criterion=entropy, max_depth=None, n_estimators=75;, score=0.809 total time=   2.3s\n",
      "[CV 4/5] END criterion=entropy, max_depth=None, n_estimators=75;, score=0.807 total time=   2.2s\n",
      "[CV 5/5] END criterion=entropy, max_depth=None, n_estimators=75;, score=0.819 total time=   2.3s\n",
      "[CV 1/5] END criterion=entropy, max_depth=7, n_estimators=50;, score=0.798 total time=   0.9s\n",
      "[CV 2/5] END criterion=entropy, max_depth=7, n_estimators=50;, score=0.768 total time=   0.9s\n",
      "[CV 3/5] END criterion=entropy, max_depth=7, n_estimators=50;, score=0.770 total time=   0.8s\n",
      "[CV 1/5] END criterion=entropy, max_depth=None, n_estimators=100;, score=0.836 total time=   2.9s\n",
      "[CV 2/5] END criterion=entropy, max_depth=None, n_estimators=100;, score=0.802 total time=   3.0s\n",
      "[CV 4/5] END criterion=entropy, max_depth=7, n_estimators=50;, score=0.774 total time=   0.9s\n",
      "[CV 5/5] END criterion=entropy, max_depth=7, n_estimators=50;, score=0.781 total time=   0.9s\n",
      "[CV 3/5] END criterion=entropy, max_depth=None, n_estimators=100;, score=0.808 total time=   3.0s\n",
      "[CV 1/5] END criterion=entropy, max_depth=7, n_estimators=75;, score=0.799 total time=   1.3s\n",
      "[CV 2/5] END criterion=entropy, max_depth=7, n_estimators=75;, score=0.767 total time=   1.2s\n",
      "[CV 4/5] END criterion=entropy, max_depth=None, n_estimators=100;, score=0.811 total time=   3.1s\n",
      "[CV 3/5] END criterion=entropy, max_depth=7, n_estimators=75;, score=0.769 total time=   1.2s\n",
      "[CV 4/5] END criterion=entropy, max_depth=7, n_estimators=75;, score=0.779 total time=   1.2s\n",
      "[CV 5/5] END criterion=entropy, max_depth=7, n_estimators=75;, score=0.792 total time=   1.1s\n",
      "[CV 5/5] END criterion=entropy, max_depth=None, n_estimators=100;, score=0.828 total time=   3.1s\n",
      "[CV 1/5] END criterion=entropy, max_depth=7, n_estimators=100;, score=0.798 total time=   1.6s\n",
      "[CV 2/5] END criterion=entropy, max_depth=7, n_estimators=100;, score=0.766 total time=   1.5s\n",
      "[CV 1/5] END criterion=entropy, max_depth=9, n_estimators=50;, score=0.806 total time=   1.0s\n",
      "[CV 2/5] END criterion=entropy, max_depth=9, n_estimators=50;, score=0.777 total time=   0.9s\n",
      "[CV 3/5] END criterion=entropy, max_depth=9, n_estimators=50;, score=0.777 total time=   0.9s\n",
      "[CV 3/5] END criterion=entropy, max_depth=7, n_estimators=100;, score=0.770 total time=   1.5s\n",
      "[CV 4/5] END criterion=entropy, max_depth=7, n_estimators=100;, score=0.779 total time=   1.5s\n",
      "[CV 4/5] END criterion=entropy, max_depth=9, n_estimators=50;, score=0.787 total time=   0.9s\n",
      "[CV 5/5] END criterion=entropy, max_depth=7, n_estimators=100;, score=0.784 total time=   1.5s\n",
      "[CV 5/5] END criterion=entropy, max_depth=9, n_estimators=50;, score=0.797 total time=   1.1s\n",
      "[CV 1/5] END criterion=entropy, max_depth=9, n_estimators=75;, score=0.809 total time=   1.6s\n",
      "[CV 2/5] END criterion=entropy, max_depth=9, n_estimators=75;, score=0.777 total time=   1.6s\n",
      "[CV 4/5] END criterion=entropy, max_depth=9, n_estimators=75;, score=0.791 total time=   1.6s\n",
      "[CV 3/5] END criterion=entropy, max_depth=9, n_estimators=75;, score=0.779 total time=   1.6s\n",
      "[CV 5/5] END criterion=entropy, max_depth=9, n_estimators=75;, score=0.801 total time=   1.5s\n",
      "[CV 1/5] END criterion=entropy, max_depth=9, n_estimators=100;, score=0.816 total time=   1.9s\n",
      "[CV 2/5] END criterion=entropy, max_depth=9, n_estimators=100;, score=0.782 total time=   1.9s\n",
      "[CV 3/5] END criterion=entropy, max_depth=9, n_estimators=100;, score=0.777 total time=   1.6s\n",
      "[CV 4/5] END criterion=entropy, max_depth=9, n_estimators=100;, score=0.788 total time=   1.4s\n",
      "[CV 5/5] END criterion=entropy, max_depth=9, n_estimators=100;, score=0.798 total time=   1.4s\n"
     ]
    },
    {
     "data": {
      "text/html": [
       "<style>#sk-container-id-11 {color: black;background-color: white;}#sk-container-id-11 pre{padding: 0;}#sk-container-id-11 div.sk-toggleable {background-color: white;}#sk-container-id-11 label.sk-toggleable__label {cursor: pointer;display: block;width: 100%;margin-bottom: 0;padding: 0.3em;box-sizing: border-box;text-align: center;}#sk-container-id-11 label.sk-toggleable__label-arrow:before {content: \"▸\";float: left;margin-right: 0.25em;color: #696969;}#sk-container-id-11 label.sk-toggleable__label-arrow:hover:before {color: black;}#sk-container-id-11 div.sk-estimator:hover label.sk-toggleable__label-arrow:before {color: black;}#sk-container-id-11 div.sk-toggleable__content {max-height: 0;max-width: 0;overflow: hidden;text-align: left;background-color: #f0f8ff;}#sk-container-id-11 div.sk-toggleable__content pre {margin: 0.2em;color: black;border-radius: 0.25em;background-color: #f0f8ff;}#sk-container-id-11 input.sk-toggleable__control:checked~div.sk-toggleable__content {max-height: 200px;max-width: 100%;overflow: auto;}#sk-container-id-11 input.sk-toggleable__control:checked~label.sk-toggleable__label-arrow:before {content: \"▾\";}#sk-container-id-11 div.sk-estimator input.sk-toggleable__control:checked~label.sk-toggleable__label {background-color: #d4ebff;}#sk-container-id-11 div.sk-label input.sk-toggleable__control:checked~label.sk-toggleable__label {background-color: #d4ebff;}#sk-container-id-11 input.sk-hidden--visually {border: 0;clip: rect(1px 1px 1px 1px);clip: rect(1px, 1px, 1px, 1px);height: 1px;margin: -1px;overflow: hidden;padding: 0;position: absolute;width: 1px;}#sk-container-id-11 div.sk-estimator {font-family: monospace;background-color: #f0f8ff;border: 1px dotted black;border-radius: 0.25em;box-sizing: border-box;margin-bottom: 0.5em;}#sk-container-id-11 div.sk-estimator:hover {background-color: #d4ebff;}#sk-container-id-11 div.sk-parallel-item::after {content: \"\";width: 100%;border-bottom: 1px solid gray;flex-grow: 1;}#sk-container-id-11 div.sk-label:hover label.sk-toggleable__label {background-color: #d4ebff;}#sk-container-id-11 div.sk-serial::before {content: \"\";position: absolute;border-left: 1px solid gray;box-sizing: border-box;top: 0;bottom: 0;left: 50%;z-index: 0;}#sk-container-id-11 div.sk-serial {display: flex;flex-direction: column;align-items: center;background-color: white;padding-right: 0.2em;padding-left: 0.2em;position: relative;}#sk-container-id-11 div.sk-item {position: relative;z-index: 1;}#sk-container-id-11 div.sk-parallel {display: flex;align-items: stretch;justify-content: center;background-color: white;position: relative;}#sk-container-id-11 div.sk-item::before, #sk-container-id-11 div.sk-parallel-item::before {content: \"\";position: absolute;border-left: 1px solid gray;box-sizing: border-box;top: 0;bottom: 0;left: 50%;z-index: -1;}#sk-container-id-11 div.sk-parallel-item {display: flex;flex-direction: column;z-index: 1;position: relative;background-color: white;}#sk-container-id-11 div.sk-parallel-item:first-child::after {align-self: flex-end;width: 50%;}#sk-container-id-11 div.sk-parallel-item:last-child::after {align-self: flex-start;width: 50%;}#sk-container-id-11 div.sk-parallel-item:only-child::after {width: 0;}#sk-container-id-11 div.sk-dashed-wrapped {border: 1px dashed gray;margin: 0 0.4em 0.5em 0.4em;box-sizing: border-box;padding-bottom: 0.4em;background-color: white;}#sk-container-id-11 div.sk-label label {font-family: monospace;font-weight: bold;display: inline-block;line-height: 1.2em;}#sk-container-id-11 div.sk-label-container {text-align: center;}#sk-container-id-11 div.sk-container {/* jupyter's `normalize.less` sets `[hidden] { display: none; }` but bootstrap.min.css set `[hidden] { display: none !important; }` so we also need the `!important` here to be able to override the default hidden behavior on the sphinx rendered scikit-learn.org. See: https://github.com/scikit-learn/scikit-learn/issues/21755 */display: inline-block !important;position: relative;}#sk-container-id-11 div.sk-text-repr-fallback {display: none;}</style><div id=\"sk-container-id-11\" class=\"sk-top-container\"><div class=\"sk-text-repr-fallback\"><pre>GridSearchCV(cv=5, estimator=RandomForestClassifier(), n_jobs=-1,\n",
       "             param_grid={&#x27;criterion&#x27;: [&#x27;gini&#x27;, &#x27;entropy&#x27;],\n",
       "                         &#x27;max_depth&#x27;: [None, 7, 9],\n",
       "                         &#x27;n_estimators&#x27;: [50, 75, 100]},\n",
       "             verbose=4)</pre><b>In a Jupyter environment, please rerun this cell to show the HTML representation or trust the notebook. <br />On GitHub, the HTML representation is unable to render, please try loading this page with nbviewer.org.</b></div><div class=\"sk-container\" hidden><div class=\"sk-item sk-dashed-wrapped\"><div class=\"sk-label-container\"><div class=\"sk-label sk-toggleable\"><input class=\"sk-toggleable__control sk-hidden--visually\" id=\"sk-estimator-id-29\" type=\"checkbox\" ><label for=\"sk-estimator-id-29\" class=\"sk-toggleable__label sk-toggleable__label-arrow\">GridSearchCV</label><div class=\"sk-toggleable__content\"><pre>GridSearchCV(cv=5, estimator=RandomForestClassifier(), n_jobs=-1,\n",
       "             param_grid={&#x27;criterion&#x27;: [&#x27;gini&#x27;, &#x27;entropy&#x27;],\n",
       "                         &#x27;max_depth&#x27;: [None, 7, 9],\n",
       "                         &#x27;n_estimators&#x27;: [50, 75, 100]},\n",
       "             verbose=4)</pre></div></div></div><div class=\"sk-parallel\"><div class=\"sk-parallel-item\"><div class=\"sk-item\"><div class=\"sk-label-container\"><div class=\"sk-label sk-toggleable\"><input class=\"sk-toggleable__control sk-hidden--visually\" id=\"sk-estimator-id-30\" type=\"checkbox\" ><label for=\"sk-estimator-id-30\" class=\"sk-toggleable__label sk-toggleable__label-arrow\">estimator: RandomForestClassifier</label><div class=\"sk-toggleable__content\"><pre>RandomForestClassifier()</pre></div></div></div><div class=\"sk-serial\"><div class=\"sk-item\"><div class=\"sk-estimator sk-toggleable\"><input class=\"sk-toggleable__control sk-hidden--visually\" id=\"sk-estimator-id-31\" type=\"checkbox\" ><label for=\"sk-estimator-id-31\" class=\"sk-toggleable__label sk-toggleable__label-arrow\">RandomForestClassifier</label><div class=\"sk-toggleable__content\"><pre>RandomForestClassifier()</pre></div></div></div></div></div></div></div></div></div></div>"
      ],
      "text/plain": [
       "GridSearchCV(cv=5, estimator=RandomForestClassifier(), n_jobs=-1,\n",
       "             param_grid={'criterion': ['gini', 'entropy'],\n",
       "                         'max_depth': [None, 7, 9],\n",
       "                         'n_estimators': [50, 75, 100]},\n",
       "             verbose=4)"
      ]
     },
     "execution_count": 762,
     "metadata": {},
     "output_type": "execute_result"
    }
   ],
   "source": [
    "rf = RandomForestClassifier()\n",
    "rf_params = {\n",
    "    'n_estimators': [50, 75, 100],\n",
    "    'criterion': ['gini', 'entropy'],\n",
    "    'max_depth': [None, 7, 9]\n",
    "}\n",
    "\n",
    "rf_grid_search = GridSearchCV(\n",
    "    estimator=rf,\n",
    "    param_grid=rf_params,\n",
    "    cv=5,\n",
    "    n_jobs=-1,\n",
    "    verbose=4\n",
    ")\n",
    "\n",
    "rf_grid_search.fit(X_train, y_train)"
   ]
  },
  {
   "cell_type": "code",
   "execution_count": 763,
   "id": "6cbaae83-5ace-430e-ba07-3b2fe2e0cb3f",
   "metadata": {},
   "outputs": [
    {
     "data": {
      "text/plain": [
       "{'criterion': 'entropy', 'max_depth': None, 'n_estimators': 100}"
      ]
     },
     "execution_count": 763,
     "metadata": {},
     "output_type": "execute_result"
    }
   ],
   "source": [
    "rf = rf_grid_search.best_estimator_\n",
    "rf_train_score = rf.score(X_train, y_train)\n",
    "rf_test_score = rf.score(X_test, y_test)\n",
    "\n",
    "rf_grid_search.best_params_"
   ]
  },
  {
   "cell_type": "code",
   "execution_count": 764,
   "id": "105128f5-5924-4ce1-b601-06f73d416271",
   "metadata": {},
   "outputs": [
    {
     "name": "stdout",
     "output_type": "stream",
     "text": [
      "Accuracy on train set: 1.0\n",
      "Accuracy on test set: 0.801\n"
     ]
    }
   ],
   "source": [
    "print(f\"Accuracy on train set: {rf_train_score}\\nAccuracy on test set: {rf_test_score}\")"
   ]
  },
  {
   "cell_type": "markdown",
   "id": "efda07ad-c53f-4354-ab32-5e73caa75052",
   "metadata": {},
   "source": [
    "## NEURAL NETWORK"
   ]
  },
  {
   "cell_type": "code",
   "execution_count": 791,
   "id": "dd5fe5d5-53b3-4e20-a3a6-e17509352df2",
   "metadata": {},
   "outputs": [],
   "source": [
    "class NeuralNet(nn.Module):\n",
    "    def __init__(self, input_size, output_size, lin_size):\n",
    "        super(NeuralNet, self).__init__()\n",
    "        self.lin1 = nn.Linear(input_size, lin_size)\n",
    "        self.lin2 = nn.Linear(lin_size, output_size)\n",
    "        \n",
    "        self.activation = nn.ReLU()\n",
    "        self.sigmoid = nn.Sigmoid()\n",
    "        \n",
    "    def forward(self, x):\n",
    "        l1 = self.lin1(x)\n",
    "        l2 = self.lin2(self.activation(l1))\n",
    "        return self.sigmoid(l2.squeeze())\n",
    "\n",
    "    def score(self, predictions, y):\n",
    "        accuracy = (torch.eq(predictions, y).sum().item() / len(y)) * 100\n",
    "        return accuracy"
   ]
  },
  {
   "cell_type": "code",
   "execution_count": 829,
   "id": "19739ef7-a376-4a8f-977a-0be2e54c22bc",
   "metadata": {},
   "outputs": [
    {
     "name": "stdout",
     "output_type": "stream",
     "text": [
      "hello\n",
      "hello\n",
      "hello\n",
      "hello\n",
      "hello\n",
      "hello\n",
      "hello\n",
      "hello\n",
      "hello\n",
      "hello\n",
      "hello\n"
     ]
    }
   ],
   "source": [
    "# using manual hyper-parameter tuning for the neural network, so splitting train set into train and valid\n",
    "X_train_nn, X_valid_nn, y_train_nn, y_valid_nn = train_test_split(X_train, y_train, test_size=0.2)\n",
    "\n",
    "models = np.empty(11, dtype=NeuralNet)\n",
    "valid_accuracies = np.zeros(11)\n",
    "valid_losses = np.zeros(11)\n",
    "j = 0\n",
    "for i in np.array([64, 72, 84, 96, 100, 128, 180, 200, 240, 320, 500]):\n",
    "    train_loss = np.empty(0)\n",
    "    valid_loss = np.empty(0)\n",
    "    valid_accuracy = np.empty(0)\n",
    "    train_accuracy = np.empty(0)\n",
    "    models[j], train_loss, train_accuracy, valid_loss, valid_accuracy\\\n",
    "    = train_simple_model(X_train_nn, y_train_nn, X_valid_nn, y_valid_nn, i, random_seed)\n",
    "    valid_accuracies[j] = valid_accuracy[-1]\n",
    "    valid_losses[j] = valid_loss[-1]\n",
    "    j += 1\n"
   ]
  },
  {
   "cell_type": "code",
   "execution_count": 830,
   "id": "9217d9d5-ae57-46e1-bc48-2e7683d96b8c",
   "metadata": {},
   "outputs": [
    {
     "data": {
      "text/plain": [
       "array([65.625 , 66.0625, 68.1875, 68.0625, 65.    , 74.    , 74.1875,\n",
       "       74.6875, 75.125 , 75.75  , 76.1875])"
      ]
     },
     "execution_count": 830,
     "metadata": {},
     "output_type": "execute_result"
    }
   ],
   "source": [
    "valid_accuracies"
   ]
  },
  {
   "cell_type": "code",
   "execution_count": 787,
   "id": "28d9c61e-e165-430d-b7c1-6ef60222f930",
   "metadata": {},
   "outputs": [
    {
     "name": "stdout",
     "output_type": "stream",
     "text": [
      "hello\n",
      "hello\n",
      "hello\n",
      "hello\n",
      "hello\n",
      "hello\n",
      "hello\n",
      "hello\n",
      "hello\n",
      "hello\n",
      "hello\n",
      "hello\n",
      "hello\n",
      "hello\n",
      "hello\n",
      "hello\n",
      "hello\n",
      "hello\n",
      "hello\n",
      "hello\n"
     ]
    }
   ],
   "source": [
    "model, train_losses, train_accuracies, test_losses, test_accuracies\\\n",
    "    = train_simple_model(X_train, y_train, X_test, y_test, random_seed)"
   ]
  },
  {
   "cell_type": "code",
   "execution_count": 576,
   "id": "bba025aa-fec6-4d4c-af6a-b75064e699d5",
   "metadata": {},
   "outputs": [],
   "source": [
    "def train_step(model, X_train, y_train, loss_fn, optimizer, device):\n",
    "    # TODO: implement one epoch of training\n",
    "    model.train()\n",
    "    X_train = X_train.to(device); y_train = y_train.to(device)\n",
    "    scores = model(X_train)\n",
    "    predictions = torch.argmax(scores, dim=1)\n",
    "\n",
    "    loss = loss_fn(scores, y_train)\n",
    "    accuracy = (torch.eq(predictions, y_train).sum().item() / len(y_train)) * 100\n",
    "\n",
    "    model.zero_grad()\n",
    "    loss.backward()\n",
    "    optimizer.step()\n",
    "\n",
    "    return (model, loss, accuracy)"
   ]
  },
  {
   "cell_type": "code",
   "execution_count": 577,
   "id": "b387f5db-aefd-4cb5-86cd-559328229d77",
   "metadata": {},
   "outputs": [],
   "source": [
    "def evaluation_step(model, X_test, y_test, loss_fn, device):\n",
    "    # TODO: implement evaluation on test set\n",
    "    model.eval()\n",
    "    X_test = X_test.to(device); y_test = y_test.to(device)\n",
    "    \n",
    "    with torch.inference_mode():\n",
    "        scores = model(X_test)\n",
    "        predictions = torch.argmax(scores, dim=1)\n",
    "\n",
    "        loss = loss_fn(scores, y_test)\n",
    "        accuracy = (torch.eq(predictions, y_test).sum().item() / len(y_test)) * 100\n",
    "    \n",
    "    return (loss, accuracy)"
   ]
  },
  {
   "cell_type": "code",
   "execution_count": 826,
   "id": "0793e8d0-b583-4415-b8b6-1ebe44adb07c",
   "metadata": {},
   "outputs": [],
   "source": [
    "def train_simple_model(X_train, y_train, X_test, y_test, lin_size, random_seed):\n",
    "    # Make device\n",
    "    device = \"cpu\" \n",
    "    if torch.cuda.is_available(): \n",
    "        device = \"cuda\"\n",
    "    else:\n",
    "        if torch.backends.mps.is_available():\n",
    "            device = \"mps\" \n",
    "    \n",
    "    torch.manual_seed(random_seed) # do not change this\n",
    "\n",
    "    # TODO: write codes to train your model here\n",
    "    model = NeuralNet(input_size=10, output_size=2, lin_size=lin_size)\n",
    "    loss_fn = nn.CrossEntropyLoss()\n",
    "    optimizer = torch.optim.SGD(model.parameters(), lr=0.01)\n",
    "\n",
    "    n_epochs = 1000\n",
    "\n",
    "    train_loss = np.zeros(n_epochs)\n",
    "    test_loss = np.zeros(n_epochs)\n",
    "    train_accuracy = np.zeros(n_epochs)\n",
    "    test_accuracy = np.zeros(n_epochs)\n",
    "\n",
    "    for i in np.arange(n_epochs):\n",
    "        model, train_loss[i], train_accuracy[i] = train_step(model, X_train, y_train, loss_fn, optimizer, device)\n",
    "        test_loss[i], test_accuracy[i] = evaluation_step(model, X_test, y_test, loss_fn, device)\n",
    "    return model, train_loss, train_accuracy, test_loss, test_accuracy"
   ]
  },
  {
   "cell_type": "code",
   "execution_count": null,
   "id": "73ccb5af-a6d9-4604-b9c4-ee31c4042820",
   "metadata": {},
   "outputs": [],
   "source": []
  }
 ],
 "metadata": {
  "kernelspec": {
   "display_name": "Python 3 (ipykernel)",
   "language": "python",
   "name": "python3"
  },
  "language_info": {
   "codemirror_mode": {
    "name": "ipython",
    "version": 3
   },
   "file_extension": ".py",
   "mimetype": "text/x-python",
   "name": "python",
   "nbconvert_exporter": "python",
   "pygments_lexer": "ipython3",
   "version": "3.11.5"
  }
 },
 "nbformat": 4,
 "nbformat_minor": 5
}
