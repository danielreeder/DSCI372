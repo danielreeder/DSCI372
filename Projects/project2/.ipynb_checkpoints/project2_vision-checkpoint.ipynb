{
 "cells": [
  {
   "cell_type": "code",
   "execution_count": null,
   "id": "780305ee-d6f9-47ec-8501-d02d3f0050d8",
   "metadata": {},
   "outputs": [],
   "source": [
    "# Do not change this cell\n",
    "\n",
    "import torch\n",
    "from torch import nn\n",
    "\n",
    "import torchvision\n",
    "from torchvision import datasets\n",
    "from torchvision.transforms import ToTensor\n",
    "from torch.utils.data import DataLoader, SubsetRandomSampler\n",
    "from torchinfo import summary\n",
    "\n",
    "import matplotlib.pyplot as plt\n",
    "from timeit import default_timer as timer\n",
    "\n",
    "import numpy as np\n",
    "\n",
    "random_seed = 1\n",
    "torch.manual_seed(random_seed)\n",
    "np.random.seed(random_seed)\n",
    "\n",
    "transform = torchvision.transforms.Compose([\n",
    "    torchvision.transforms.ToTensor(),\n",
    "])\n",
    "\n",
    "train_transform = torchvision.transforms.Compose([\n",
    "    torchvision.transforms.ToTensor(),\n",
    "])\n",
    "\n",
    "trainset = torchvision.datasets.FashionMNIST(\n",
    "    root='./data', train=True, download=True, transform=ToTensor()\n",
    ")\n",
    "validationset = torchvision.datasets.FashionMNIST(\n",
    "    root='./data', train=True, download=True, transform=ToTensor()\n",
    ")\n",
    "testset = torchvision.datasets.FashionMNIST(\n",
    "    root='./data', train=False, download=True, transform=ToTensor()\n",
    ")\n",
    "classes = trainset.classes\n",
    "\n",
    "valid_size = 0.2\n",
    "train_length = len(trainset)\n",
    "indices = list(range(len(trainset)))\n",
    "split = int(np.floor(valid_size * train_length))\n",
    "\n",
    "np.random.shuffle(indices)\n",
    "\n",
    "train_idx=indices[split:]\n",
    "valid_idx=indices[:split]\n",
    "train_sampler=SubsetRandomSampler(train_idx)\n",
    "validation_sampler=SubsetRandomSampler(valid_idx)\n",
    "\n",
    "batch_size = 256\n",
    "train_loader = DataLoader(trainset, batch_size=batch_size, sampler=train_sampler)\n",
    "valid_loader = DataLoader(trainset, batch_size=batch_size, sampler=validation_sampler)\n",
    "test_loader = DataLoader(testset, batch_size=batch_size, shuffle=False)\n",
    "\n",
    "print(f\"Length of train data loader: {len(train_loader)} batches of {batch_size}\")\n",
    "print(f\"Length of validation data loader: {len(valid_loader)} batches of {batch_size}\")\n",
    "print(f\"Length of test data loader: {len(test_loader)} batches of {batch_size}\")\n",
    "\n",
    "# Check out what is inside the training data loader\n",
    "train_features_batch, train_label_batch = next(iter(train_loader))\n",
    "print(train_features_batch.shape, train_label_batch.shape)"
   ]
  },
  {
   "cell_type": "code",
   "execution_count": null,
   "id": "a5b1f4b4-5c23-4e84-af74-fbf3f7404ba1",
   "metadata": {},
   "outputs": [],
   "source": [
    "# Do not change this cell\n",
    "def imshow(img):\n",
    "    npimg = img.numpy()\n",
    "    plt.imshow(np.transpose(npimg, (1, 2, 0)))\n",
    "    plt.show()"
   ]
  },
  {
   "cell_type": "code",
   "execution_count": null,
   "id": "d98f1c46-9ce7-4aa4-ae58-5234cfe6ca48",
   "metadata": {},
   "outputs": [],
   "source": [
    "# Do not change this cell\n",
    "dataiter = iter(test_loader)\n",
    "images, labels = next(dataiter)\n",
    "# Show images\n",
    "imshow(torchvision.utils.make_grid(images))"
   ]
  },
  {
   "cell_type": "code",
   "execution_count": null,
   "id": "a1b02119-0bc1-44e9-b7e7-b71a8cd3b4a8",
   "metadata": {},
   "outputs": [],
   "source": [
    "# TODO: you will design your model here\n",
    "class ConvModel(nn.Module):\n",
    "    def __init__(self, input_size, output_size):\n",
    "        # TODO: complete this method\n",
    "\n",
    "    def forward(self, x):\n",
    "        # TODO: complete this method"
   ]
  },
  {
   "cell_type": "code",
   "execution_count": null,
   "id": "bb17772d-49e7-4d06-a14d-aff4bc9715a1",
   "metadata": {},
   "outputs": [],
   "source": [
    "def train_step(model, train_loader, loss_fn, optimizer, reg_param, device):\n",
    "    # TODO: implement one epoch of training"
   ]
  },
  {
   "cell_type": "code",
   "execution_count": null,
   "id": "66b9baf8-6989-4789-9fb4-ecccaf1f2139",
   "metadata": {},
   "outputs": [],
   "source": [
    "def evaluation_step(model, data_loader, loss_fn, reg_param, device):\n",
    "    # TODO: implement evaluation on a data set, data_loader "
   ]
  },
  {
   "cell_type": "code",
   "execution_count": null,
   "id": "0ecae0d8-d040-4e9a-8b3f-f64f97e988a2",
   "metadata": {},
   "outputs": [],
   "source": [
    "def train_conv_model(train_loader, valid_loader, test_loader, random_seed):\n",
    "    # Make device\n",
    "    device = \"cpu\"\n",
    "    if torch.cuda.is_available():\n",
    "        device = \"cuda\"\n",
    "    else:\n",
    "        if torch.backends.mps.is_available():\n",
    "            device = \"mps\"\n",
    "\n",
    "    torch.manual_seed(random_seed)  # do not change this\n",
    "\n",
    "    # TODO: write codes to train your model here\n",
    "    "
   ]
  },
  {
   "cell_type": "code",
   "execution_count": null,
   "id": "f2d29a37-67eb-44e2-971c-66b7817923ea",
   "metadata": {},
   "outputs": [],
   "source": [
    "def plot_accuracy_performance(train_accuracies, valid_accuracies, test_accuracies):\n",
    "   # TODO: plot accuracy curves, you can reuse your codes from the simple classification task "
   ]
  },
  {
   "cell_type": "code",
   "execution_count": null,
   "id": "ce449fa4-1519-40cc-a7d2-c36b3cffa068",
   "metadata": {},
   "outputs": [],
   "source": [
    "def plot_loss_performance(train_losses, valid_accuracies, test_losses):\n",
    "# TODO: plot loss curves, you can reuse your codes from the simple classification task"
   ]
  },
  {
   "cell_type": "code",
   "execution_count": null,
   "id": "4fd20d6d-0bb1-48fc-8e9c-809f8a7b6c62",
   "metadata": {},
   "outputs": [],
   "source": [
    "# Do not change this cell\n",
    "random_seed = 1\n",
    "model, train_losses, train_accuracies, valid_losses, valid_accuracies, test_losses, test_accuracies\\\n",
    "= train_conv_model(train_loader, valid_loader, test_loader, random_seed)"
   ]
  },
  {
   "cell_type": "code",
   "execution_count": null,
   "id": "b57ffc77-8d95-4676-9ba0-4fa083b235ed",
   "metadata": {},
   "outputs": [],
   "source": [
    "# Do not change this cell\n",
    "plot_accuracy_performance(train_accuracies, valid_accuracies, test_accuracies)"
   ]
  },
  {
   "cell_type": "code",
   "execution_count": null,
   "id": "0408016e-99e3-4a8a-add3-c3e7a29d5162",
   "metadata": {},
   "outputs": [],
   "source": [
    "# Do not change this cell\n",
    "plot_loss_performance(train_losses, valid_losses, test_losses)"
   ]
  }
 ],
 "metadata": {
  "kernelspec": {
   "display_name": "Python 3 (ipykernel)",
   "language": "python",
   "name": "python3"
  },
  "language_info": {
   "codemirror_mode": {
    "name": "ipython",
    "version": 3
   },
   "file_extension": ".py",
   "mimetype": "text/x-python",
   "name": "python",
   "nbconvert_exporter": "python",
   "pygments_lexer": "ipython3",
   "version": "3.11.7"
  }
 },
 "nbformat": 4,
 "nbformat_minor": 5
}
