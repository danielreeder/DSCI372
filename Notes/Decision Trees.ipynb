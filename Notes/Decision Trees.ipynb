{
 "cells": [
  {
   "cell_type": "markdown",
   "id": "cd822abc-5c80-4eab-bd7d-2e96fd0a31c3",
   "metadata": {},
   "source": [
    "# Decision Tree: Greedy Learning\n",
    "# Start with a root node\n",
    "    Repeat:\n",
    "        Greedily select optimal predictor on which to split\n",
    "        Splitting:\n",
    "            If the predictor is categorical in {1, 2, ..., M}, the splitting codition is:\n",
    "                is predictor an element of A where A is a subset of {1, 2, ..., M}\n",
    "            If the predictor is continuous, the splitting condition is:\n",
    "                is predictor <= s where s is a real value\n",
    "    Until stopping condition is met\n",
    "\n",
    "# Misclassifcation Error\n",
    "    step 1: prediction = classification of majority of data in node\n",
    "    step 2: calculate prediction error"
   ]
  },
  {
   "cell_type": "code",
   "execution_count": null,
   "id": "6fa56c7f-72b7-4d17-9f9d-039a85f39040",
   "metadata": {},
   "outputs": [],
   "source": []
  }
 ],
 "metadata": {
  "kernelspec": {
   "display_name": "Python 3 (ipykernel)",
   "language": "python",
   "name": "python3"
  },
  "language_info": {
   "codemirror_mode": {
    "name": "ipython",
    "version": 3
   },
   "file_extension": ".py",
   "mimetype": "text/x-python",
   "name": "python",
   "nbconvert_exporter": "python",
   "pygments_lexer": "ipython3",
   "version": "3.11.5"
  }
 },
 "nbformat": 4,
 "nbformat_minor": 5
}
