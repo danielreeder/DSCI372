{
 "cells": [
  {
   "cell_type": "markdown",
   "id": "92cecbc0-57fe-48cf-b4ff-dbf84cde9224",
   "metadata": {
    "editable": true,
    "slideshow": {
     "slide_type": ""
    },
    "tags": []
   },
   "source": [
    "#### High-Dimensional Data:\n",
    "    Each instance has many features\n",
    "\n",
    "    Problems:\n",
    "        redundant features\n",
    "        hard to interpret/visualize\n",
    "        computationally challenging\n",
    "        need large dataset to learn complex rules\n",
    "\n",
    "    Dimension Reduction:\n",
    "        feature selection\n",
    "            determine a few important features\n",
    "        latent feature\n",
    "             discover latent features (topics in documents)\n",
    "\n",
    "    Regularization:\n",
    "        The Lasso\n",
    "            regularization with lambda * abs(w)\n",
    "            favors sparse solultions\n",
    "                many weights == 0\n",
    "\n",
    "    Latent Features:\n",
    "        combinations of observed features:\n",
    "            provide more efficient representation\n",
    "            capture underlying relations that govern the data\n",
    "            \n",
    "        Ex. topics (sports, science, news, etc.) in documents\n",
    "\n",
    "        Methods\n",
    "            Linear\n",
    "                principal component analysis\n",
    "\n",
    "    Linear Algebra Review:\n",
    "        vector projection\n",
    "            two vectors u, v in Rn s.t. u = [u1 u2 ... un], v = [v1 v2 ... vn]\n",
    "            dot product = u . v = sum(ui*vi) = ||u||*||v||cos(theta)\n",
    "            scalar projection of u onto v is\n",
    "                ||u||cos(theta) = (u . v) / ||v||\n",
    "\n",
    "            vector projection of u onto v is the orthogonal projection of u\n",
    "                projv(u) = (||u||cos(theta)) * (v / ||v||) = ((u . v) / ||v||) * (v / ||v||)\n",
    "                if v is a unit vector, then projv(u) = (u . v) * v\n",
    "\n",
    "        evectors and evalues\n",
    "            usually normalize evectors s.t. for evector x, ||x|| == 1\n",
    "\n",
    "        singular value decomposition\n",
    "            take m x n matrix A\n",
    "            a singular value decomp of A is\n",
    "                A = UEV^T\n",
    "                U [=] m x m, E [=] m x n, V [=] n x n\n",
    "                U and V are orthogonal (i.e. columns and rows are orthonormal vectors)\n",
    "                E is diagonal\n",
    "\n",
    "        principal component analysis\n",
    "            when data lies on or near a low d-dimensional linear subspace, axes of this subspace are an effective \n",
    "            representation of the data\n",
    "\n",
    "            dataset X = {x1, x2, ..., xn}, xi has D features\n",
    "            assume data has sample mean of 0\n",
    "            if data is not zero-centered, subtract sample mean from each data point\n",
    "            sample covariance matrix\n",
    "                mean(X^T * X)\n",
    "\n",
    "            principal components are orthogonal unit-form directions\n",
    "                capture variance in data\n",
    "                1st PC = direction of greatest variability in data"
   ]
  },
  {
   "cell_type": "code",
   "execution_count": null,
   "id": "7eaa5f22-58c4-4271-8ad6-fc9a758a0934",
   "metadata": {
    "editable": true,
    "slideshow": {
     "slide_type": ""
    },
    "tags": []
   },
   "outputs": [],
   "source": []
  },
  {
   "cell_type": "code",
   "execution_count": null,
   "id": "e5c33023-8b1f-420c-9c43-56c03014c830",
   "metadata": {
    "editable": true,
    "slideshow": {
     "slide_type": "skip"
    },
    "tags": []
   },
   "outputs": [],
   "source": []
  },
  {
   "cell_type": "code",
   "execution_count": null,
   "id": "fa09df36-6352-47e3-a77f-e75d9542422e",
   "metadata": {
    "editable": true,
    "slideshow": {
     "slide_type": ""
    },
    "tags": []
   },
   "outputs": [],
   "source": []
  }
 ],
 "metadata": {
  "kernelspec": {
   "display_name": "Python 3 (ipykernel)",
   "language": "python",
   "name": "python3"
  },
  "language_info": {
   "codemirror_mode": {
    "name": "ipython",
    "version": 3
   },
   "file_extension": ".py",
   "mimetype": "text/x-python",
   "name": "python",
   "nbconvert_exporter": "python",
   "pygments_lexer": "ipython3",
   "version": "3.11.5"
  }
 },
 "nbformat": 4,
 "nbformat_minor": 5
}
