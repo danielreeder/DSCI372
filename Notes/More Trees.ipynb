{
 "cells": [
  {
   "cell_type": "code",
   "execution_count": 138,
   "id": "2c1112c3-bb8d-4a79-91aa-be8cddc29656",
   "metadata": {},
   "outputs": [],
   "source": [
    "import pandas as pd\n",
    "import numpy as np\n",
    "from random import randint"
   ]
  },
  {
   "cell_type": "code",
   "execution_count": 197,
   "id": "8e112860-55e7-4fe9-9286-5f4576dd2599",
   "metadata": {},
   "outputs": [
    {
     "data": {
      "text/plain": [
       "array([4., 6., 5., 5.])"
      ]
     },
     "execution_count": 197,
     "metadata": {},
     "output_type": "execute_result"
    }
   ],
   "source": [
    "arr = np.array([1,2,3,4,5,6])\n",
    "df = pd.Series(arr)\n",
    "df.sample(4, replace=False).values\n",
    "\n",
    "sample = np.zeros(4)\n",
    "for i in np.arange(4):\n",
    "    index = randint(0, len(arr)-1)\n",
    "    sample[i] = arr[index]\n",
    "    arr = np.delete(arr, index)\n",
    "sample\n"
   ]
  },
  {
   "cell_type": "markdown",
   "id": "9ce01898-70a2-40f5-bdd1-76cf8d61153c",
   "metadata": {},
   "source": [
    "# BAGGING\n",
    "    advantages:\n",
    "        high expressiveness - by using full trees, each model is able to approximate complex functions and decision boundaries\n",
    "    disadvant"
   ]
  },
  {
   "cell_type": "code",
   "execution_count": null,
   "id": "82fd58de-404b-4649-95d1-0307696cf0c7",
   "metadata": {},
   "outputs": [],
   "source": []
  }
 ],
 "metadata": {
  "kernelspec": {
   "display_name": "Python 3 (ipykernel)",
   "language": "python",
   "name": "python3"
  },
  "language_info": {
   "codemirror_mode": {
    "name": "ipython",
    "version": 3
   },
   "file_extension": ".py",
   "mimetype": "text/x-python",
   "name": "python",
   "nbconvert_exporter": "python",
   "pygments_lexer": "ipython3",
   "version": "3.11.5"
  }
 },
 "nbformat": 4,
 "nbformat_minor": 5
}
