{
 "cells": [
  {
   "cell_type": "markdown",
   "id": "060f46d2-89d5-47d3-9cc5-b908ba92a003",
   "metadata": {},
   "source": [
    "### Linear Classifiers\n",
    "    > which line is better?\n",
    "        maximize space btwn line and \"clouds\" of data\n",
    "        aim to be equidistant from both / all classes\n",
    "    > Margin Importance\n",
    "        if margin is large, number of mistakes made by perceptron is small\n",
    "        large margin helps prevent overfitting\n",
    "    > Support Vector Machines\n",
    "    > Geometric margin\n",
    "        def: the margin of example x0 wrt a linear separator w is the distance from x0 to the hyperplane x . w + b = 0\n",
    "            x0 . w = -b\n",
    "        distance: ||x0 - xhat0|| = (1 / ||w||) * |x0 . w + b| [||x|| is L2 norm]\n",
    "            b/c x0 - xhat0 is parallel to w, x0 - xhat0 = C * w for some C in Z\n",
    "    > L2 norm = sqrt(x1^2 + x2^2 + ... + xn^2)\n",
    "    > x0 . w - w0hat . w = C * ||w||\n",
    "    \n",
    "    > Definition: the margin of example x0 wrt a linear separator w is the distance from x0 to the hyperplane x . w + b = 0\n",
    "    > Definition: the margin yw of a set of examples D wrt a linear separator w is the smallest margin over points x in D\n",
    "    > Definition: the best margin y of a set of examples D is the maximum yw over all linear separators\n",
    "\n"
   ]
  },
  {
   "cell_type": "code",
   "execution_count": null,
   "id": "bfb061c9-c6d9-4de2-82f5-d15449c4545b",
   "metadata": {},
   "outputs": [],
   "source": []
  }
 ],
 "metadata": {
  "kernelspec": {
   "display_name": "Python 3 (ipykernel)",
   "language": "python",
   "name": "python3"
  },
  "language_info": {
   "codemirror_mode": {
    "name": "ipython",
    "version": 3
   },
   "file_extension": ".py",
   "mimetype": "text/x-python",
   "name": "python",
   "nbconvert_exporter": "python",
   "pygments_lexer": "ipython3",
   "version": "3.11.5"
  }
 },
 "nbformat": 4,
 "nbformat_minor": 5
}
