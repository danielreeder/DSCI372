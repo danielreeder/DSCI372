{
 "cells": [
  {
   "cell_type": "code",
   "execution_count": 2,
   "id": "56d2e09f-0f6e-4a0f-81af-05b6bb398149",
   "metadata": {
    "editable": true,
    "slideshow": {
     "slide_type": ""
    },
    "tags": []
   },
   "outputs": [
    {
     "data": {
      "text/html": [
       "<div>\n",
       "<style scoped>\n",
       "    .dataframe tbody tr th:only-of-type {\n",
       "        vertical-align: middle;\n",
       "    }\n",
       "\n",
       "    .dataframe tbody tr th {\n",
       "        vertical-align: top;\n",
       "    }\n",
       "\n",
       "    .dataframe thead th {\n",
       "        text-align: right;\n",
       "    }\n",
       "</style>\n",
       "<table border=\"1\" class=\"dataframe\">\n",
       "  <thead>\n",
       "    <tr style=\"text-align: right;\">\n",
       "      <th></th>\n",
       "      <th>population</th>\n",
       "      <th>profit</th>\n",
       "    </tr>\n",
       "  </thead>\n",
       "  <tbody>\n",
       "    <tr>\n",
       "      <th>0</th>\n",
       "      <td>6.1101</td>\n",
       "      <td>17.5920</td>\n",
       "    </tr>\n",
       "    <tr>\n",
       "      <th>1</th>\n",
       "      <td>5.5277</td>\n",
       "      <td>9.1302</td>\n",
       "    </tr>\n",
       "    <tr>\n",
       "      <th>2</th>\n",
       "      <td>8.5186</td>\n",
       "      <td>13.6620</td>\n",
       "    </tr>\n",
       "    <tr>\n",
       "      <th>3</th>\n",
       "      <td>7.0032</td>\n",
       "      <td>11.8540</td>\n",
       "    </tr>\n",
       "    <tr>\n",
       "      <th>4</th>\n",
       "      <td>5.8598</td>\n",
       "      <td>6.8233</td>\n",
       "    </tr>\n",
       "  </tbody>\n",
       "</table>\n",
       "</div>"
      ],
      "text/plain": [
       "   population   profit\n",
       "0      6.1101  17.5920\n",
       "1      5.5277   9.1302\n",
       "2      8.5186  13.6620\n",
       "3      7.0032  11.8540\n",
       "4      5.8598   6.8233"
      ]
     },
     "execution_count": 2,
     "metadata": {},
     "output_type": "execute_result"
    }
   ],
   "source": [
    "import numpy as np\n",
    "import pandas as pd\n",
    "import matplotlib.pyplot as plt\n",
    "\n",
    "# Load profit data\n",
    "df = pd.read_csv(\"ex1data1.csv\", header=None)\n",
    "df.rename(columns={0: 'population', 1: 'profit'}, inplace=True)\n",
    "df.head()"
   ]
  },
  {
   "cell_type": "code",
   "execution_count": 35,
   "id": "68869561-ee66-49e0-b66a-4829714473fb",
   "metadata": {
    "tags": []
   },
   "outputs": [
    {
     "data": {
      "image/png": "[encoded data removed]",
      "text/plain": [
       "<Figure size 960x640 with 1 Axes>"
      ]
     },
     "metadata": {},
     "output_type": "display_data"
    }
   ],
   "source": [
    "# Visualize the data\n",
    "fig = plt.figure(num=None, figsize=(12, 8), dpi=80, facecolor='w')\n",
    "plt.scatter(df['population'], df['profit'], marker='o', color='blue', s=24)\n",
    "plt.xlim([4, 25])\n",
    "plt.xticks(range(4, 26, 3), size=12)\n",
    "plt.yticks(range(-5, 30, 5), size=12)\n",
    "plt.xlabel(\"Population in 10K\", size=14)\n",
    "plt.ylabel(\"Profit in $10K\", size=14)\n",
    "plt.title(\"Scatter plot of data\\n\", size=14)\n",
    "plt.show()"
   ]
  },
  {
   "cell_type": "code",
   "execution_count": 13,
   "id": "4060ad0f-067a-4b61-b080-7823b0fda8b7",
   "metadata": {
    "tags": []
   },
   "outputs": [],
   "source": [
    "class LinearRegression(object):\n",
    "    def __init__(self, X, y, alpha=0.01, n_iterations=250):\n",
    "        self.X = np.hstack((np.ones((X.shape[0], 1)), X))\n",
    "        self.y = y\n",
    "        self.weight = np.zeros((self.X.shape[1], 1))\n",
    "        self.num_rows = self.X.shape[0]\n",
    "        self.alpha = alpha\n",
    "        self.num_iterations = n_iterations\n",
    "        \n",
    "    def predict(self, Xtest):\n",
    "        Xtest = np.hstack((np.ones((Xtest.shape[0], 1)), Xtest))\n",
    "        return Xtest.dot(self.weight)\n",
    "    \n",
    "    def compute_gradient(self, ):\n",
    "        diff = self.X.dot(self.weight) - self.y\n",
    "        grad = np.multiply(self.X, diff)\n",
    "        grad = np.mean(grad, axis=0)\n",
    "        return grad.reshape(-1, 1)\n",
    "    \n",
    "    def gradient_descent(self, ):\n",
    "        for i in range(self.num_iterations):\n",
    "            self.weight = self.weight - self.alpha * self.compute_gradient()\n",
    "            loss = np.mean((self.X.dot(self.weight) - self.y) ** 2)\n",
    "            if i % 5 == 0:\n",
    "                print(\"Iteration: {0} Loss: {1:.5f}\\r\".format(i + 1, loss))"
   ]
  },
  {
   "cell_type": "code",
   "execution_count": 21,
   "id": "34e940f1-ec4a-4653-8e7f-284643370b3a",
   "metadata": {
    "tags": []
   },
   "outputs": [
    {
     "name": "stdout",
     "output_type": "stream",
     "text": [
      "Iteration: 1 Loss: 33.53928\n",
      "Iteration: 6 Loss: 11.97817\n",
      "Iteration: 11 Loss: 11.61516\n",
      "Iteration: 16 Loss: 11.51759\n",
      "Iteration: 21 Loss: 11.42662\n",
      "Iteration: 26 Loss: 11.33890\n",
      "Iteration: 31 Loss: 11.25430\n",
      "Iteration: 36 Loss: 11.17270\n",
      "Iteration: 41 Loss: 11.09400\n",
      "Iteration: 46 Loss: 11.01808\n",
      "Iteration: 51 Loss: 10.94486\n",
      "Iteration: 56 Loss: 10.87424\n",
      "Iteration: 61 Loss: 10.80612\n",
      "Iteration: 66 Loss: 10.74042\n",
      "Iteration: 71 Loss: 10.67705\n",
      "Iteration: 76 Loss: 10.61593\n",
      "Iteration: 81 Loss: 10.55697\n",
      "Iteration: 86 Loss: 10.50011\n",
      "Iteration: 91 Loss: 10.44526\n",
      "Iteration: 96 Loss: 10.39236\n",
      "Iteration: 101 Loss: 10.34134\n",
      "Iteration: 106 Loss: 10.29212\n",
      "Iteration: 111 Loss: 10.24465\n",
      "Iteration: 116 Loss: 10.19887\n",
      "Iteration: 121 Loss: 10.15471\n",
      "Iteration: 126 Loss: 10.11211\n",
      "Iteration: 131 Loss: 10.07103\n",
      "Iteration: 136 Loss: 10.03140\n",
      "Iteration: 141 Loss: 9.99318\n",
      "Iteration: 146 Loss: 9.95632\n",
      "Iteration: 151 Loss: 9.92076\n",
      "Iteration: 156 Loss: 9.88647\n",
      "Iteration: 161 Loss: 9.85339\n",
      "Iteration: 166 Loss: 9.82148\n",
      "Iteration: 171 Loss: 9.79071\n",
      "Iteration: 176 Loss: 9.76103\n",
      "Iteration: 181 Loss: 9.73240\n",
      "Iteration: 186 Loss: 9.70478\n",
      "Iteration: 191 Loss: 9.67815\n",
      "Iteration: 196 Loss: 9.65246\n",
      "Iteration: 201 Loss: 9.62768\n",
      "Iteration: 206 Loss: 9.60378\n",
      "Iteration: 211 Loss: 9.58073\n",
      "Iteration: 216 Loss: 9.55850\n",
      "Iteration: 221 Loss: 9.53705\n",
      "Iteration: 226 Loss: 9.51637\n",
      "Iteration: 231 Loss: 9.49642\n",
      "Iteration: 236 Loss: 9.47717\n",
      "Iteration: 241 Loss: 9.45861\n",
      "Iteration: 246 Loss: 9.44071\n"
     ]
    }
   ],
   "source": [
    "X = df['population'].values.reshape(-1, 1)\n",
    "y = df['profit'].values.reshape(-1, 1)\n",
    "alpha = 0.02\n",
    "linear_regression = LinearRegression(X, y, alpha)\n",
    "linear_regression.gradient_descent()"
   ]
  },
  {
   "cell_type": "code",
   "execution_count": 42,
   "id": "352d5f6c-7d2d-4dca-b095-8f945d340b12",
   "metadata": {
    "tags": []
   },
   "outputs": [
    {
     "data": {
      "image/png": "[encoded data removed]",
      "text/plain": [
       "<Figure size 960x640 with 1 Axes>"
      ]
     },
     "metadata": {},
     "output_type": "display_data"
    }
   ],
   "source": [
    "# plot regression line\n",
    "X = np.arange(4, 24, 0.1).reshape(-1, 1)\n",
    "fig = plt.figure(num=None, figsize=(12, 8), dpi=80, facecolor='w')\n",
    "plt.scatter(df['population'], df['profit'], marker='o', color='blue', s=24, label='Training data')\n",
    "plt.plot(X, linear_regression.predict(X), color='red', label='Linear Regression')\n",
    "plt.xlim([4, 25])\n",
    "plt.xticks(range(4, 26, 3), size=12)\n",
    "plt.yticks(range(-5, 30, 5), size=12)\n",
    "plt.xlabel(\"Population in 10K\", size=14)\n",
    "plt.ylabel(\"Profit in $10K\", size=14)\n",
    "plt.title(\"Training result\\n\", size=14)\n",
    "plt.legend()\n",
    "plt.show()"
   ]
  },
  {
   "cell_type": "code",
   "execution_count": 3,
   "id": "d8090db2-c518-4565-a899-7da47a0af4cc",
   "metadata": {
    "tags": []
   },
   "outputs": [
    {
     "data": {
      "text/html": [
       "<div>\n",
       "<style scoped>\n",
       "    .dataframe tbody tr th:only-of-type {\n",
       "        vertical-align: middle;\n",
       "    }\n",
       "\n",
       "    .dataframe tbody tr th {\n",
       "        vertical-align: top;\n",
       "    }\n",
       "\n",
       "    .dataframe thead th {\n",
       "        text-align: right;\n",
       "    }\n",
       "</style>\n",
       "<table border=\"1\" class=\"dataframe\">\n",
       "  <thead>\n",
       "    <tr style=\"text-align: right;\">\n",
       "      <th></th>\n",
       "      <th>0</th>\n",
       "      <th>1</th>\n",
       "      <th>2</th>\n",
       "    </tr>\n",
       "  </thead>\n",
       "  <tbody>\n",
       "    <tr>\n",
       "      <th>0</th>\n",
       "      <td>2104</td>\n",
       "      <td>3</td>\n",
       "      <td>399900</td>\n",
       "    </tr>\n",
       "    <tr>\n",
       "      <th>1</th>\n",
       "      <td>1600</td>\n",
       "      <td>3</td>\n",
       "      <td>329900</td>\n",
       "    </tr>\n",
       "    <tr>\n",
       "      <th>2</th>\n",
       "      <td>2400</td>\n",
       "      <td>3</td>\n",
       "      <td>369000</td>\n",
       "    </tr>\n",
       "    <tr>\n",
       "      <th>3</th>\n",
       "      <td>1416</td>\n",
       "      <td>2</td>\n",
       "      <td>232000</td>\n",
       "    </tr>\n",
       "    <tr>\n",
       "      <th>4</th>\n",
       "      <td>3000</td>\n",
       "      <td>4</td>\n",
       "      <td>539900</td>\n",
       "    </tr>\n",
       "  </tbody>\n",
       "</table>\n",
       "</div>"
      ],
      "text/plain": [
       "      0  1       2\n",
       "0  2104  3  399900\n",
       "1  1600  3  329900\n",
       "2  2400  3  369000\n",
       "3  1416  2  232000\n",
       "4  3000  4  539900"
      ]
     },
     "execution_count": 3,
     "metadata": {},
     "output_type": "execute_result"
    }
   ],
   "source": [
    "# Linear regression with multiple variables\n",
    "from sklearn.preprocessing import StandardScaler\n",
    "\n",
    "df = pd.read_csv(\"ex1data2.csv\", header=None)\n",
    "df.head()"
   ]
  },
  {
   "cell_type": "code",
   "execution_count": 44,
   "id": "0bd3ff50-1865-41a5-ac1f-7eb108272d2f",
   "metadata": {
    "tags": []
   },
   "outputs": [
    {
     "name": "stdout",
     "output_type": "stream",
     "text": [
      "Iteration: 1 Loss: 0.82729\n",
      "Iteration: 6 Loss: 0.44820\n",
      "Iteration: 11 Loss: 0.34995\n",
      "Iteration: 16 Loss: 0.31357\n",
      "Iteration: 21 Loss: 0.29517\n",
      "Iteration: 26 Loss: 0.28430\n",
      "Iteration: 31 Loss: 0.27753\n",
      "Iteration: 36 Loss: 0.27324\n",
      "Iteration: 41 Loss: 0.27050\n",
      "Iteration: 46 Loss: 0.26876\n",
      "Iteration: 51 Loss: 0.26764\n",
      "Iteration: 56 Loss: 0.26693\n",
      "Iteration: 61 Loss: 0.26648\n",
      "Iteration: 66 Loss: 0.26619\n",
      "Iteration: 71 Loss: 0.26601\n",
      "Iteration: 76 Loss: 0.26589\n",
      "Iteration: 81 Loss: 0.26581\n",
      "Iteration: 86 Loss: 0.26576\n",
      "Iteration: 91 Loss: 0.26573\n",
      "Iteration: 96 Loss: 0.26571\n",
      "Iteration: 101 Loss: 0.26570\n",
      "Iteration: 106 Loss: 0.26569\n",
      "Iteration: 111 Loss: 0.26569\n",
      "Iteration: 116 Loss: 0.26568\n",
      "Iteration: 121 Loss: 0.26568\n",
      "Iteration: 126 Loss: 0.26568\n",
      "Iteration: 131 Loss: 0.26568\n",
      "Iteration: 136 Loss: 0.26568\n",
      "Iteration: 141 Loss: 0.26568\n",
      "Iteration: 146 Loss: 0.26568\n",
      "Iteration: 151 Loss: 0.26568\n",
      "Iteration: 156 Loss: 0.26568\n",
      "Iteration: 161 Loss: 0.26568\n",
      "Iteration: 166 Loss: 0.26568\n",
      "Iteration: 171 Loss: 0.26568\n",
      "Iteration: 176 Loss: 0.26568\n",
      "Iteration: 181 Loss: 0.26568\n",
      "Iteration: 186 Loss: 0.26568\n",
      "Iteration: 191 Loss: 0.26568\n",
      "Iteration: 196 Loss: 0.26568\n",
      "Iteration: 201 Loss: 0.26568\n",
      "Iteration: 206 Loss: 0.26568\n",
      "Iteration: 211 Loss: 0.26568\n",
      "Iteration: 216 Loss: 0.26568\n",
      "Iteration: 221 Loss: 0.26568\n",
      "Iteration: 226 Loss: 0.26568\n",
      "Iteration: 231 Loss: 0.26568\n",
      "Iteration: 236 Loss: 0.26568\n",
      "Iteration: 241 Loss: 0.26568\n",
      "Iteration: 246 Loss: 0.26568\n",
      "Iteration: 251 Loss: 0.26568\n",
      "Iteration: 256 Loss: 0.26568\n",
      "Iteration: 261 Loss: 0.26568\n",
      "Iteration: 266 Loss: 0.26568\n",
      "Iteration: 271 Loss: 0.26568\n",
      "Iteration: 276 Loss: 0.26568\n",
      "Iteration: 281 Loss: 0.26568\n",
      "Iteration: 286 Loss: 0.26568\n",
      "Iteration: 291 Loss: 0.26568\n",
      "Iteration: 296 Loss: 0.26568\n",
      "Iteration: 301 Loss: 0.26568\n",
      "Iteration: 306 Loss: 0.26568\n",
      "Iteration: 311 Loss: 0.26568\n",
      "Iteration: 316 Loss: 0.26568\n",
      "Iteration: 321 Loss: 0.26568\n",
      "Iteration: 326 Loss: 0.26568\n",
      "Iteration: 331 Loss: 0.26568\n",
      "Iteration: 336 Loss: 0.26568\n",
      "Iteration: 341 Loss: 0.26568\n",
      "Iteration: 346 Loss: 0.26568\n",
      "Iteration: 351 Loss: 0.26568\n",
      "Iteration: 356 Loss: 0.26568\n",
      "Iteration: 361 Loss: 0.26568\n",
      "Iteration: 366 Loss: 0.26568\n",
      "Iteration: 371 Loss: 0.26568\n",
      "Iteration: 376 Loss: 0.26568\n",
      "Iteration: 381 Loss: 0.26568\n",
      "Iteration: 386 Loss: 0.26568\n",
      "Iteration: 391 Loss: 0.26568\n",
      "Iteration: 396 Loss: 0.26568\n",
      "Iteration: 401 Loss: 0.26568\n",
      "Iteration: 406 Loss: 0.26568\n",
      "Iteration: 411 Loss: 0.26568\n",
      "Iteration: 416 Loss: 0.26568\n",
      "Iteration: 421 Loss: 0.26568\n",
      "Iteration: 426 Loss: 0.26568\n",
      "Iteration: 431 Loss: 0.26568\n",
      "Iteration: 436 Loss: 0.26568\n",
      "Iteration: 441 Loss: 0.26568\n",
      "Iteration: 446 Loss: 0.26568\n",
      "Iteration: 451 Loss: 0.26568\n",
      "Iteration: 456 Loss: 0.26568\n",
      "Iteration: 461 Loss: 0.26568\n",
      "Iteration: 466 Loss: 0.26568\n",
      "Iteration: 471 Loss: 0.26568\n",
      "Iteration: 476 Loss: 0.26568\n",
      "Iteration: 481 Loss: 0.26568\n",
      "Iteration: 486 Loss: 0.26568\n",
      "Iteration: 491 Loss: 0.26568\n",
      "Iteration: 496 Loss: 0.26568\n",
      "Prediction (Unscaled): 355190.97\n"
     ]
    }
   ],
   "source": [
    "X = df.iloc[:, [0, 1]].values\n",
    "y = df.iloc[:, [2]].values\n",
    "\n",
    "scaler_X = StandardScaler()\n",
    "X = scaler_X.fit_transform(X)\n",
    "\n",
    "scaler_y = StandardScaler()\n",
    "y = scaler_y.fit_transform(y)\n",
    "\n",
    "learner = LinearRegression(X, y, alpha=0.1, n_iterations=500)\n",
    "learner.gradient_descent()\n",
    "\n",
    "X_test = np.array([2104, 3]).reshape(1, 2)\n",
    "X_test = scaler_X.transform(X_test)\n",
    "prediction = learner.predict(X_test)\n",
    "print(\"Prediction (Unscaled): {0:.2f}\".format(scaler_y.inverse_transform(prediction)[0][0]))"
   ]
  },
  {
   "cell_type": "code",
   "execution_count": null,
   "id": "79d90e13-fe27-4a9a-b46a-d29c124b50b0",
   "metadata": {},
   "outputs": [],
   "source": []
  },
  {
   "cell_type": "code",
   "execution_count": null,
   "id": "bc0f9aaa-3b93-4bee-a08d-670a9a357f07",
   "metadata": {},
   "outputs": [],
   "source": []
  }
 ],
 "metadata": {
  "kernelspec": {
   "display_name": "Python 3 (ipykernel)",
   "language": "python",
   "name": "python3"
  },
  "language_info": {
   "codemirror_mode": {
    "name": "ipython",
    "version": 3
   },
   "file_extension": ".py",
   "mimetype": "text/x-python",
   "name": "python",
   "nbconvert_exporter": "python",
   "pygments_lexer": "ipython3",
   "version": "3.11.5"
  }
 },
 "nbformat": 4,
 "nbformat_minor": 5
}
